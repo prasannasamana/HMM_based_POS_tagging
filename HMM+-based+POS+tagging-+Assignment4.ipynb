{
 "cells": [
  {
   "cell_type": "markdown",
   "metadata": {},
   "source": [
    "# POS tagging using modified Viterbi"
   ]
  },
  {
   "cell_type": "markdown",
   "metadata": {},
   "source": [
    "### Data Preparation"
   ]
  },
  {
   "cell_type": "code",
   "execution_count": 1,
   "metadata": {},
   "outputs": [],
   "source": [
    "#Importing libraries\n",
    "import nltk, re, pprint\n",
    "import numpy as np\n",
    "import pandas as pd\n",
    "import requests\n",
    "import matplotlib.pyplot as plt\n",
    "import seaborn as sns\n",
    "import pprint, time\n",
    "import random\n",
    "from sklearn.model_selection import train_test_split\n",
    "from nltk.tokenize import word_tokenize\n",
    "import codecs"
   ]
  },
  {
   "cell_type": "code",
   "execution_count": 2,
   "metadata": {},
   "outputs": [],
   "source": [
    "# reading the Treebank tagged sentences with universal tagset\n",
    "nltk_data = list(nltk.corpus.treebank.tagged_sents(tagset='universal'))"
   ]
  },
  {
   "cell_type": "code",
   "execution_count": 3,
   "metadata": {},
   "outputs": [
    {
     "name": "stdout",
     "output_type": "stream",
     "text": [
      "[[('Pierre', 'NOUN'), ('Vinken', 'NOUN'), (',', '.'), ('61', 'NUM'), ('years', 'NOUN'), ('old', 'ADJ'), (',', '.'), ('will', 'VERB'), ('join', 'VERB'), ('the', 'DET'), ('board', 'NOUN'), ('as', 'ADP'), ('a', 'DET'), ('nonexecutive', 'ADJ'), ('director', 'NOUN'), ('Nov.', 'NOUN'), ('29', 'NUM'), ('.', '.')], [('Mr.', 'NOUN'), ('Vinken', 'NOUN'), ('is', 'VERB'), ('chairman', 'NOUN'), ('of', 'ADP'), ('Elsevier', 'NOUN'), ('N.V.', 'NOUN'), (',', '.'), ('the', 'DET'), ('Dutch', 'NOUN'), ('publishing', 'VERB'), ('group', 'NOUN'), ('.', '.')], [('Rudolph', 'NOUN'), ('Agnew', 'NOUN'), (',', '.'), ('55', 'NUM'), ('years', 'NOUN'), ('old', 'ADJ'), ('and', 'CONJ'), ('former', 'ADJ'), ('chairman', 'NOUN'), ('of', 'ADP'), ('Consolidated', 'NOUN'), ('Gold', 'NOUN'), ('Fields', 'NOUN'), ('PLC', 'NOUN'), (',', '.'), ('was', 'VERB'), ('named', 'VERB'), ('*-1', 'X'), ('a', 'DET'), ('nonexecutive', 'ADJ'), ('director', 'NOUN'), ('of', 'ADP'), ('this', 'DET'), ('British', 'ADJ'), ('industrial', 'ADJ'), ('conglomerate', 'NOUN'), ('.', '.')], [('A', 'DET'), ('form', 'NOUN'), ('of', 'ADP'), ('asbestos', 'NOUN'), ('once', 'ADV'), ('used', 'VERB'), ('*', 'X'), ('*', 'X'), ('to', 'PRT'), ('make', 'VERB'), ('Kent', 'NOUN'), ('cigarette', 'NOUN'), ('filters', 'NOUN'), ('has', 'VERB'), ('caused', 'VERB'), ('a', 'DET'), ('high', 'ADJ'), ('percentage', 'NOUN'), ('of', 'ADP'), ('cancer', 'NOUN'), ('deaths', 'NOUN'), ('among', 'ADP'), ('a', 'DET'), ('group', 'NOUN'), ('of', 'ADP'), ('workers', 'NOUN'), ('exposed', 'VERB'), ('*', 'X'), ('to', 'PRT'), ('it', 'PRON'), ('more', 'ADV'), ('than', 'ADP'), ('30', 'NUM'), ('years', 'NOUN'), ('ago', 'ADP'), (',', '.'), ('researchers', 'NOUN'), ('reported', 'VERB'), ('0', 'X'), ('*T*-1', 'X'), ('.', '.')], [('The', 'DET'), ('asbestos', 'NOUN'), ('fiber', 'NOUN'), (',', '.'), ('crocidolite', 'NOUN'), (',', '.'), ('is', 'VERB'), ('unusually', 'ADV'), ('resilient', 'ADJ'), ('once', 'ADP'), ('it', 'PRON'), ('enters', 'VERB'), ('the', 'DET'), ('lungs', 'NOUN'), (',', '.'), ('with', 'ADP'), ('even', 'ADV'), ('brief', 'ADJ'), ('exposures', 'NOUN'), ('to', 'PRT'), ('it', 'PRON'), ('causing', 'VERB'), ('symptoms', 'NOUN'), ('that', 'DET'), ('*T*-1', 'X'), ('show', 'VERB'), ('up', 'PRT'), ('decades', 'NOUN'), ('later', 'ADJ'), (',', '.'), ('researchers', 'NOUN'), ('said', 'VERB'), ('0', 'X'), ('*T*-2', 'X'), ('.', '.')], [('Lorillard', 'NOUN'), ('Inc.', 'NOUN'), (',', '.'), ('the', 'DET'), ('unit', 'NOUN'), ('of', 'ADP'), ('New', 'ADJ'), ('York-based', 'ADJ'), ('Loews', 'NOUN'), ('Corp.', 'NOUN'), ('that', 'DET'), ('*T*-2', 'X'), ('makes', 'VERB'), ('Kent', 'NOUN'), ('cigarettes', 'NOUN'), (',', '.'), ('stopped', 'VERB'), ('using', 'VERB'), ('crocidolite', 'NOUN'), ('in', 'ADP'), ('its', 'PRON'), ('Micronite', 'NOUN'), ('cigarette', 'NOUN'), ('filters', 'NOUN'), ('in', 'ADP'), ('1956', 'NUM'), ('.', '.')], [('Although', 'ADP'), ('preliminary', 'ADJ'), ('findings', 'NOUN'), ('were', 'VERB'), ('reported', 'VERB'), ('*-2', 'X'), ('more', 'ADV'), ('than', 'ADP'), ('a', 'DET'), ('year', 'NOUN'), ('ago', 'ADP'), (',', '.'), ('the', 'DET'), ('latest', 'ADJ'), ('results', 'NOUN'), ('appear', 'VERB'), ('in', 'ADP'), ('today', 'NOUN'), (\"'s\", 'PRT'), ('New', 'NOUN'), ('England', 'NOUN'), ('Journal', 'NOUN'), ('of', 'ADP'), ('Medicine', 'NOUN'), (',', '.'), ('a', 'DET'), ('forum', 'NOUN'), ('likely', 'ADJ'), ('*', 'X'), ('to', 'PRT'), ('bring', 'VERB'), ('new', 'ADJ'), ('attention', 'NOUN'), ('to', 'PRT'), ('the', 'DET'), ('problem', 'NOUN'), ('.', '.')], [('A', 'DET'), ('Lorillard', 'NOUN'), ('spokewoman', 'NOUN'), ('said', 'VERB'), (',', '.'), ('``', '.'), ('This', 'DET'), ('is', 'VERB'), ('an', 'DET'), ('old', 'ADJ'), ('story', 'NOUN'), ('.', '.')], [('We', 'PRON'), (\"'re\", 'VERB'), ('talking', 'VERB'), ('about', 'ADP'), ('years', 'NOUN'), ('ago', 'ADP'), ('before', 'ADP'), ('anyone', 'NOUN'), ('heard', 'VERB'), ('of', 'ADP'), ('asbestos', 'NOUN'), ('having', 'VERB'), ('any', 'DET'), ('questionable', 'ADJ'), ('properties', 'NOUN'), ('.', '.')], [('There', 'DET'), ('is', 'VERB'), ('no', 'DET'), ('asbestos', 'NOUN'), ('in', 'ADP'), ('our', 'PRON'), ('products', 'NOUN'), ('now', 'ADV'), ('.', '.'), (\"''\", '.')], [('Neither', 'DET'), ('Lorillard', 'NOUN'), ('nor', 'CONJ'), ('the', 'DET'), ('researchers', 'NOUN'), ('who', 'PRON'), ('*T*-3', 'X'), ('studied', 'VERB'), ('the', 'DET'), ('workers', 'NOUN'), ('were', 'VERB'), ('aware', 'ADJ'), ('of', 'ADP'), ('any', 'DET'), ('research', 'NOUN'), ('on', 'ADP'), ('smokers', 'NOUN'), ('of', 'ADP'), ('the', 'DET'), ('Kent', 'NOUN'), ('cigarettes', 'NOUN'), ('.', '.')], [('``', '.'), ('We', 'PRON'), ('have', 'VERB'), ('no', 'DET'), ('useful', 'ADJ'), ('information', 'NOUN'), ('on', 'ADP'), ('whether', 'ADP'), ('users', 'NOUN'), ('are', 'VERB'), ('at', 'ADP'), ('risk', 'NOUN'), (',', '.'), (\"''\", '.'), ('said', 'VERB'), ('*T*-1', 'X'), ('James', 'NOUN'), ('A.', 'NOUN'), ('Talcott', 'NOUN'), ('of', 'ADP'), ('Boston', 'NOUN'), (\"'s\", 'PRT'), ('Dana-Farber', 'NOUN'), ('Cancer', 'NOUN'), ('Institute', 'NOUN'), ('.', '.')], [('Dr.', 'NOUN'), ('Talcott', 'NOUN'), ('led', 'VERB'), ('a', 'DET'), ('team', 'NOUN'), ('of', 'ADP'), ('researchers', 'NOUN'), ('from', 'ADP'), ('the', 'DET'), ('National', 'NOUN'), ('Cancer', 'NOUN'), ('Institute', 'NOUN'), ('and', 'CONJ'), ('the', 'DET'), ('medical', 'ADJ'), ('schools', 'NOUN'), ('of', 'ADP'), ('Harvard', 'NOUN'), ('University', 'NOUN'), ('and', 'CONJ'), ('Boston', 'NOUN'), ('University', 'NOUN'), ('.', '.')], [('The', 'DET'), ('Lorillard', 'NOUN'), ('spokeswoman', 'NOUN'), ('said', 'VERB'), ('0', 'X'), ('asbestos', 'NOUN'), ('was', 'VERB'), ('used', 'VERB'), ('*-1', 'X'), ('in', 'ADP'), ('``', '.'), ('very', 'ADV'), ('modest', 'ADJ'), ('amounts', 'NOUN'), (\"''\", '.'), ('in', 'ADP'), ('*', 'X'), ('making', 'VERB'), ('paper', 'NOUN'), ('for', 'ADP'), ('the', 'DET'), ('filters', 'NOUN'), ('in', 'ADP'), ('the', 'DET'), ('early', 'ADJ'), ('1950s', 'NUM'), ('and', 'CONJ'), ('replaced', 'VERB'), ('*-1', 'X'), ('with', 'ADP'), ('a', 'DET'), ('different', 'ADJ'), ('type', 'NOUN'), ('of', 'ADP'), ('filter', 'NOUN'), ('in', 'ADP'), ('1956', 'NUM'), ('.', '.')], [('From', 'ADP'), ('1953', 'NUM'), ('to', 'PRT'), ('1955', 'NUM'), (',', '.'), ('9.8', 'NUM'), ('billion', 'NUM'), ('Kent', 'NOUN'), ('cigarettes', 'NOUN'), ('with', 'ADP'), ('the', 'DET'), ('filters', 'NOUN'), ('were', 'VERB'), ('sold', 'VERB'), ('*-3', 'X'), (',', '.'), ('the', 'DET'), ('company', 'NOUN'), ('said', 'VERB'), ('0', 'X'), ('*T*-1', 'X'), ('.', '.')], [('Among', 'ADP'), ('33', 'NUM'), ('men', 'NOUN'), ('who', 'PRON'), ('*T*-4', 'X'), ('worked', 'VERB'), ('closely', 'ADV'), ('with', 'ADP'), ('the', 'DET'), ('substance', 'NOUN'), (',', '.'), ('28', 'NUM'), ('*ICH*-1', 'X'), ('have', 'VERB'), ('died', 'VERB'), ('--', '.'), ('more', 'ADJ'), ('than', 'ADP'), ('three', 'NUM'), ('times', 'NOUN'), ('the', 'DET'), ('expected', 'VERB'), ('number', 'NOUN'), ('.', '.')], [('Four', 'NUM'), ('of', 'ADP'), ('the', 'DET'), ('five', 'NUM'), ('surviving', 'VERB'), ('workers', 'NOUN'), ('have', 'VERB'), ('asbestos-related', 'ADJ'), ('diseases', 'NOUN'), (',', '.'), ('including', 'VERB'), ('three', 'NUM'), ('with', 'ADP'), ('recently', 'ADV'), ('diagnosed', 'VERB'), ('cancer', 'NOUN'), ('.', '.')], [('The', 'DET'), ('total', 'NOUN'), ('of', 'ADP'), ('18', 'NUM'), ('deaths', 'NOUN'), ('from', 'ADP'), ('malignant', 'ADJ'), ('mesothelioma', 'NOUN'), (',', '.'), ('lung', 'NOUN'), ('cancer', 'NOUN'), ('and', 'CONJ'), ('asbestosis', 'NOUN'), ('was', 'VERB'), ('far', 'ADV'), ('higher', 'ADJ'), ('than', 'ADP'), ('*', 'X'), ('expected', 'VERB'), ('*?*', 'X'), (',', '.'), ('the', 'DET'), ('researchers', 'NOUN'), ('said', 'VERB'), ('0', 'X'), ('*T*-1', 'X'), ('.', '.')], [('``', '.'), ('The', 'DET'), ('morbidity', 'NOUN'), ('rate', 'NOUN'), ('is', 'VERB'), ('a', 'DET'), ('striking', 'ADJ'), ('finding', 'NOUN'), ('among', 'ADP'), ('those', 'DET'), ('of', 'ADP'), ('us', 'PRON'), ('who', 'PRON'), ('*T*-5', 'X'), ('study', 'VERB'), ('asbestos-related', 'ADJ'), ('diseases', 'NOUN'), (',', '.'), (\"''\", '.'), ('said', 'VERB'), ('*T*-1', 'X'), ('Dr.', 'NOUN'), ('Talcott', 'NOUN'), ('.', '.')], [('The', 'DET'), ('percentage', 'NOUN'), ('of', 'ADP'), ('lung', 'NOUN'), ('cancer', 'NOUN'), ('deaths', 'NOUN'), ('among', 'ADP'), ('the', 'DET'), ('workers', 'NOUN'), ('at', 'ADP'), ('the', 'DET'), ('West', 'NOUN'), ('Groton', 'NOUN'), (',', '.'), ('Mass.', 'NOUN'), (',', '.'), ('paper', 'NOUN'), ('factory', 'NOUN'), ('appears', 'VERB'), ('*-1', 'X'), ('to', 'PRT'), ('be', 'VERB'), ('the', 'DET'), ('highest', 'ADJ'), ('for', 'ADP'), ('any', 'DET'), ('asbestos', 'NOUN'), ('workers', 'NOUN'), ('studied', 'VERB'), ('*', 'X'), ('in', 'ADP'), ('Western', 'ADJ'), ('industrialized', 'VERB'), ('countries', 'NOUN'), (',', '.'), ('he', 'PRON'), ('said', 'VERB'), ('0', 'X'), ('*T*-2', 'X'), ('.', '.')], [('The', 'DET'), ('plant', 'NOUN'), (',', '.'), ('which', 'DET'), ('*T*-1', 'X'), ('is', 'VERB'), ('owned', 'VERB'), ('*-4', 'X'), ('by', 'ADP'), ('Hollingsworth', 'NOUN'), ('&', 'CONJ'), ('Vose', 'NOUN'), ('Co.', 'NOUN'), (',', '.'), ('was', 'VERB'), ('under', 'ADP'), ('contract', 'NOUN'), ('*ICH*-2', 'X'), ('with', 'ADP'), ('Lorillard', 'NOUN'), ('*', 'X'), ('to', 'PRT'), ('make', 'VERB'), ('the', 'DET'), ('cigarette', 'NOUN'), ('filters', 'NOUN'), ('.', '.')], [('The', 'DET'), ('finding', 'NOUN'), ('probably', 'ADV'), ('will', 'VERB'), ('support', 'VERB'), ('those', 'DET'), ('who', 'PRON'), ('*T*-6', 'X'), ('argue', 'VERB'), ('that', 'ADP'), ('the', 'DET'), ('U.S.', 'NOUN'), ('should', 'VERB'), ('regulate', 'VERB'), ('the', 'DET'), ('class', 'NOUN'), ('of', 'ADP'), ('asbestos', 'NOUN'), ('including', 'VERB'), ('crocidolite', 'NOUN'), ('more', 'ADV'), ('stringently', 'ADV'), ('than', 'ADP'), ('the', 'DET'), ('common', 'ADJ'), ('kind', 'NOUN'), ('of', 'ADP'), ('asbestos', 'NOUN'), (',', '.'), ('chrysotile', 'NOUN'), (',', '.'), ('found', 'VERB'), ('*', 'X'), ('in', 'ADP'), ('most', 'ADJ'), ('schools', 'NOUN'), ('and', 'CONJ'), ('other', 'ADJ'), ('buildings', 'NOUN'), (',', '.'), ('Dr.', 'NOUN'), ('Talcott', 'NOUN'), ('said', 'VERB'), ('0', 'X'), ('*T*-1', 'X'), ('.', '.')], [('The', 'DET'), ('U.S.', 'NOUN'), ('is', 'VERB'), ('one', 'NUM'), ('of', 'ADP'), ('the', 'DET'), ('few', 'ADJ'), ('industrialized', 'VERB'), ('nations', 'NOUN'), ('that', 'DET'), ('*T*-7', 'X'), ('does', 'VERB'), (\"n't\", 'ADV'), ('have', 'VERB'), ('a', 'DET'), ('higher', 'ADJ'), ('standard', 'NOUN'), ('of', 'ADP'), ('regulation', 'NOUN'), ('for', 'ADP'), ('the', 'DET'), ('smooth', 'ADJ'), (',', '.'), ('needle-like', 'ADJ'), ('fibers', 'NOUN'), ('such', 'ADJ'), ('as', 'ADP'), ('crocidolite', 'NOUN'), ('that', 'DET'), ('*T*-1', 'X'), ('are', 'VERB'), ('classified', 'VERB'), ('*-5', 'X'), ('as', 'ADP'), ('amphobiles', 'NOUN'), (',', '.'), ('according', 'VERB'), ('to', 'PRT'), ('Brooke', 'NOUN'), ('T.', 'NOUN'), ('Mossman', 'NOUN'), (',', '.'), ('a', 'DET'), ('professor', 'NOUN'), ('of', 'ADP'), ('pathlogy', 'NOUN'), ('at', 'ADP'), ('the', 'DET'), ('University', 'NOUN'), ('of', 'ADP'), ('Vermont', 'NOUN'), ('College', 'NOUN'), ('of', 'ADP'), ('Medicine', 'NOUN'), ('.', '.')], [('More', 'ADV'), ('common', 'ADJ'), ('chrysotile', 'NOUN'), ('fibers', 'NOUN'), ('are', 'VERB'), ('curly', 'ADJ'), ('and', 'CONJ'), ('are', 'VERB'), ('more', 'ADV'), ('easily', 'ADV'), ('rejected', 'VERB'), ('*-1', 'X'), ('by', 'ADP'), ('the', 'DET'), ('body', 'NOUN'), (',', '.'), ('Dr.', 'NOUN'), ('Mossman', 'NOUN'), ('explained', 'VERB'), ('0', 'X'), ('*T*-2', 'X'), ('.', '.')], [('In', 'ADP'), ('July', 'NOUN'), (',', '.'), ('the', 'DET'), ('Environmental', 'NOUN'), ('Protection', 'NOUN'), ('Agency', 'NOUN'), ('imposed', 'VERB'), ('a', 'DET'), ('gradual', 'ADJ'), ('ban', 'NOUN'), ('on', 'ADP'), ('virtually', 'ADV'), ('all', 'DET'), ('uses', 'NOUN'), ('of', 'ADP'), ('asbestos', 'NOUN'), ('.', '.')], [('By', 'ADP'), ('1997', 'NUM'), (',', '.'), ('almost', 'ADV'), ('all', 'DET'), ('remaining', 'VERB'), ('uses', 'NOUN'), ('of', 'ADP'), ('cancer-causing', 'ADJ'), ('asbestos', 'NOUN'), ('will', 'VERB'), ('be', 'VERB'), ('outlawed', 'VERB'), ('*-6', 'X'), ('.', '.')], [('About', 'ADP'), ('160', 'NUM'), ('workers', 'NOUN'), ('at', 'ADP'), ('a', 'DET'), ('factory', 'NOUN'), ('that', 'DET'), ('*T*-8', 'X'), ('made', 'VERB'), ('paper', 'NOUN'), ('for', 'ADP'), ('the', 'DET'), ('Kent', 'NOUN'), ('filters', 'NOUN'), ('were', 'VERB'), ('exposed', 'VERB'), ('*-7', 'X'), ('to', 'PRT'), ('asbestos', 'NOUN'), ('in', 'ADP'), ('the', 'DET'), ('1950s', 'NUM'), ('.', '.')], [('Areas', 'NOUN'), ('of', 'ADP'), ('the', 'DET'), ('factory', 'NOUN'), ('*ICH*-2', 'X'), ('were', 'VERB'), ('particularly', 'ADV'), ('dusty', 'ADJ'), ('where', 'ADV'), ('the', 'DET'), ('crocidolite', 'NOUN'), ('was', 'VERB'), ('used', 'VERB'), ('*-8', 'X'), ('*T*-1', 'X'), ('.', '.')], [('Workers', 'NOUN'), ('dumped', 'VERB'), ('large', 'ADJ'), ('burlap', 'NOUN'), ('sacks', 'NOUN'), ('of', 'ADP'), ('the', 'DET'), ('imported', 'VERB'), ('material', 'NOUN'), ('into', 'ADP'), ('a', 'DET'), ('huge', 'ADJ'), ('bin', 'NOUN'), (',', '.'), ('poured', 'VERB'), ('in', 'PRT'), ('cotton', 'NOUN'), ('and', 'CONJ'), ('acetate', 'NOUN'), ('fibers', 'NOUN'), ('and', 'CONJ'), ('mechanically', 'ADV'), ('mixed', 'VERB'), ('the', 'DET'), ('dry', 'ADJ'), ('fibers', 'NOUN'), ('in', 'ADP'), ('a', 'DET'), ('process', 'NOUN'), ('used', 'VERB'), ('*', 'X'), ('*', 'X'), ('to', 'PRT'), ('make', 'VERB'), ('filters', 'NOUN'), ('.', '.')], [('Workers', 'NOUN'), ('described', 'VERB'), ('``', '.'), ('clouds', 'NOUN'), ('of', 'ADP'), ('blue', 'ADJ'), ('dust', 'NOUN'), (\"''\", '.'), ('that', 'DET'), ('*T*-1', 'X'), ('hung', 'VERB'), ('over', 'ADP'), ('parts', 'NOUN'), ('of', 'ADP'), ('the', 'DET'), ('factory', 'NOUN'), (',', '.'), ('even', 'ADV'), ('though', 'ADP'), ('exhaust', 'NOUN'), ('fans', 'NOUN'), ('ventilated', 'VERB'), ('the', 'DET'), ('area', 'NOUN'), ('.', '.')], [('``', '.'), ('There', 'DET'), (\"'s\", 'VERB'), ('no', 'DET'), ('question', 'NOUN'), ('that', 'ADP'), ('some', 'DET'), ('of', 'ADP'), ('those', 'DET'), ('workers', 'NOUN'), ('and', 'CONJ'), ('managers', 'NOUN'), ('contracted', 'VERB'), ('asbestos-related', 'ADJ'), ('diseases', 'NOUN'), (',', '.'), (\"''\", '.'), ('said', 'VERB'), ('*T*-1', 'X'), ('Darrell', 'NOUN'), ('Phillips', 'NOUN'), (',', '.'), ('vice', 'NOUN'), ('president', 'NOUN'), ('of', 'ADP'), ('human', 'ADJ'), ('resources', 'NOUN'), ('for', 'ADP'), ('Hollingsworth', 'NOUN'), ('&', 'CONJ'), ('Vose', 'NOUN'), ('.', '.')], [('``', '.'), ('But', 'CONJ'), ('you', 'PRON'), ('have', 'VERB'), ('*-1', 'X'), ('to', 'PRT'), ('recognize', 'VERB'), ('that', 'ADP'), ('these', 'DET'), ('events', 'NOUN'), ('took', 'VERB'), ('place', 'NOUN'), ('35', 'NUM'), ('years', 'NOUN'), ('ago', 'ADP'), ('.', '.')], [('It', 'PRON'), ('has', 'VERB'), ('no', 'DET'), ('bearing', 'NOUN'), ('on', 'ADP'), ('our', 'PRON'), ('work', 'NOUN'), ('force', 'NOUN'), ('today', 'NOUN'), ('.', '.')], [('Yields', 'NOUN'), ('on', 'ADP'), ('money-market', 'ADJ'), ('mutual', 'ADJ'), ('funds', 'NOUN'), ('continued', 'VERB'), ('*-1', 'X'), ('to', 'PRT'), ('slide', 'VERB'), (',', '.'), ('amid', 'ADP'), ('signs', 'NOUN'), ('that', 'ADP'), ('portfolio', 'NOUN'), ('managers', 'NOUN'), ('expect', 'VERB'), ('further', 'ADJ'), ('declines', 'NOUN'), ('in', 'ADP'), ('interest', 'NOUN'), ('rates', 'NOUN'), ('.', '.')], [('The', 'DET'), ('average', 'ADJ'), ('seven-day', 'ADJ'), ('compound', 'NOUN'), ('yield', 'NOUN'), ('of', 'ADP'), ('the', 'DET'), ('400', 'NUM'), ('taxable', 'ADJ'), ('funds', 'NOUN'), ('tracked', 'VERB'), ('*', 'X'), ('by', 'ADP'), ('IBC', 'NOUN'), (\"'s\", 'PRT'), ('Money', 'NOUN'), ('Fund', 'NOUN'), ('Report', 'NOUN'), ('eased', 'VERB'), ('a', 'DET'), ('fraction', 'NOUN'), ('of', 'ADP'), ('a', 'DET'), ('percentage', 'NOUN'), ('point', 'NOUN'), ('to', 'PRT'), ('8.45', 'NUM'), ('%', 'NOUN'), ('from', 'ADP'), ('8.47', 'NUM'), ('%', 'NOUN'), ('for', 'ADP'), ('the', 'DET'), ('week', 'NOUN'), ('ended', 'VERB'), ('Tuesday', 'NOUN'), ('.', '.')], [('Compound', 'NOUN'), ('yields', 'NOUN'), ('assume', 'VERB'), ('reinvestment', 'NOUN'), ('of', 'ADP'), ('dividends', 'NOUN'), ('and', 'CONJ'), ('that', 'ADP'), ('the', 'DET'), ('current', 'ADJ'), ('yield', 'NOUN'), ('continues', 'VERB'), ('for', 'ADP'), ('a', 'DET'), ('year', 'NOUN'), ('.', '.')], [('Average', 'ADJ'), ('maturity', 'NOUN'), ('of', 'ADP'), ('the', 'DET'), ('funds', 'NOUN'), (\"'\", 'PRT'), ('investments', 'NOUN'), ('lengthened', 'VERB'), ('by', 'ADP'), ('a', 'DET'), ('day', 'NOUN'), ('to', 'PRT'), ('41', 'NUM'), ('days', 'NOUN'), (',', '.'), ('the', 'DET'), ('longest', 'ADJ'), ('since', 'ADP'), ('early', 'ADJ'), ('August', 'NOUN'), (',', '.'), ('according', 'VERB'), ('to', 'PRT'), ('Donoghue', 'NOUN'), (\"'s\", 'PRT'), ('.', '.')], [('Longer', 'ADJ'), ('maturities', 'NOUN'), ('are', 'VERB'), ('thought', 'VERB'), ('*-1', 'X'), ('to', 'PRT'), ('indicate', 'VERB'), ('declining', 'VERB'), ('interest', 'NOUN'), ('rates', 'NOUN'), ('because', 'ADP'), ('they', 'PRON'), ('permit', 'VERB'), ('portfolio', 'NOUN'), ('managers', 'NOUN'), ('to', 'PRT'), ('retain', 'VERB'), ('relatively', 'ADV'), ('higher', 'ADJ'), ('rates', 'NOUN'), ('for', 'ADP'), ('a', 'DET'), ('longer', 'ADJ'), ('period', 'NOUN'), ('.', '.')], [('Shorter', 'ADJ'), ('maturities', 'NOUN'), ('are', 'VERB'), ('considered', 'VERB'), ('*-9', 'X'), ('a', 'DET'), ('sign', 'NOUN'), ('of', 'ADP'), ('rising', 'VERB'), ('rates', 'NOUN'), ('because', 'ADP'), ('portfolio', 'NOUN'), ('managers', 'NOUN'), ('can', 'VERB'), ('capture', 'VERB'), ('higher', 'ADJ'), ('rates', 'NOUN'), ('sooner', 'ADV'), ('.', '.')], [('The', 'DET'), ('average', 'ADJ'), ('maturity', 'NOUN'), ('for', 'ADP'), ('funds', 'NOUN'), ('open', 'ADJ'), ('only', 'ADV'), ('to', 'PRT'), ('institutions', 'NOUN'), (',', '.'), ('considered', 'VERB'), ('by', 'ADP'), ('some', 'DET'), ('*', 'X'), ('to', 'PRT'), ('be', 'VERB'), ('a', 'DET'), ('stronger', 'ADJ'), ('indicator', 'NOUN'), ('because', 'ADP'), ('those', 'DET'), ('managers', 'NOUN'), ('watch', 'VERB'), ('the', 'DET'), ('market', 'NOUN'), ('closely', 'ADV'), (',', '.'), ('reached', 'VERB'), ('a', 'DET'), ('high', 'ADJ'), ('point', 'NOUN'), ('for', 'ADP'), ('the', 'DET'), ('year', 'NOUN'), ('--', '.'), ('33', 'NUM'), ('days', 'NOUN'), ('.', '.')]]\n"
     ]
    }
   ],
   "source": [
    "# first few tagged sentences\n",
    "print(nltk_data [:40])"
   ]
  },
  {
   "cell_type": "code",
   "execution_count": 4,
   "metadata": {},
   "outputs": [
    {
     "name": "stdout",
     "output_type": "stream",
     "text": [
      "3718\n",
      "196\n"
     ]
    }
   ],
   "source": [
    "#set the random seed\n",
    "random.seed(1234)\n",
    "\n",
    "\n",
    "#Divide the data into training and test sets\n",
    "train_set, test_set = train_test_split(nltk_data,test_size=0.05,random_state=1234)\n",
    "\n",
    "#Get the length of training and test sets\n",
    "print(len(train_set))\n",
    "print(len(test_set))"
   ]
  },
  {
   "cell_type": "code",
   "execution_count": 5,
   "metadata": {},
   "outputs": [
    {
     "data": {
      "text/plain": [
       "95799"
      ]
     },
     "execution_count": 5,
     "metadata": {},
     "output_type": "execute_result"
    }
   ],
   "source": [
    "# Getting list of tagged words in training set\n",
    "train_tagged_words = [tup for sent in train_set for tup in sent]\n",
    "#Get the length of the total tagged words in training set\n",
    "len(train_tagged_words)"
   ]
  },
  {
   "cell_type": "code",
   "execution_count": 6,
   "metadata": {},
   "outputs": [
    {
     "data": {
      "text/plain": [
       "['This',\n",
       " 'year',\n",
       " ',',\n",
       " 'the',\n",
       " 'average',\n",
       " 'of',\n",
       " 'daily',\n",
       " 'contracts',\n",
       " 'traded',\n",
       " '*']"
      ]
     },
     "execution_count": 6,
     "metadata": {},
     "output_type": "execute_result"
    }
   ],
   "source": [
    "# View the first 10 tokens/words in the training set\n",
    "tokens = [pair[0] for pair in train_tagged_words]\n",
    "tokens[:10]"
   ]
  },
  {
   "cell_type": "code",
   "execution_count": 7,
   "metadata": {},
   "outputs": [
    {
     "name": "stdout",
     "output_type": "stream",
     "text": [
      "12073\n"
     ]
    }
   ],
   "source": [
    "# Get the total unique words in the training set\n",
    "V = set(tokens)\n",
    "\n",
    "print(len(V))"
   ]
  },
  {
   "cell_type": "code",
   "execution_count": 8,
   "metadata": {},
   "outputs": [
    {
     "data": {
      "text/plain": [
       "12"
      ]
     },
     "execution_count": 8,
     "metadata": {},
     "output_type": "execute_result"
    }
   ],
   "source": [
    "# number of tags\n",
    "T = set([pair[1] for pair in train_tagged_words])\n",
    "\n",
    "len(T)"
   ]
  },
  {
   "cell_type": "code",
   "execution_count": 9,
   "metadata": {},
   "outputs": [
    {
     "name": "stdout",
     "output_type": "stream",
     "text": [
      "{'CONJ', 'ADV', 'PRON', 'ADJ', '.', 'X', 'NOUN', 'PRT', 'DET', 'VERB', 'NUM', 'ADP'}\n"
     ]
    }
   ],
   "source": [
    "print(T)"
   ]
  },
  {
   "cell_type": "markdown",
   "metadata": {},
   "source": [
    "### POS Tagging Algorithm - HMM\n",
    "\n",
    "We'll use the HMM algorithm to tag the words. Given a sequence of words to be tagged, the task is to assign the most probable tag to the word. \n",
    "\n",
    "In other words, to every word w, assign the tag t that maximises the likelihood P(t/w). Since P(t/w) = P(w/t). P(t) / P(w), after ignoring P(w), we have to compute P(w/t) and P(t).\n",
    "\n",
    "\n",
    "P(w/t) is basically the probability that given a tag (say NN), what is the probability of it being w (say 'building'). This can be computed by computing the fraction of all NNs which are equal to w, i.e. \n",
    "\n",
    "P(w/t) = count(w, t) / count(t). \n",
    "\n",
    "\n",
    "The term P(t) is the probability of tag t, and in a tagging task, we assume that a tag will depend only on the previous tag. In other words, the probability of a tag being NN will depend only on the previous tag t(n-1). So for e.g. if t(n-1) is a JJ, then t(n) is likely to be an NN since adjectives often precede a noun (blue coat, tall building etc.).\n",
    "\n",
    "\n",
    "Given the penn treebank tagged dataset, we can compute the two terms P(w/t) and P(t) and store them in two large matrices. The matrix of P(w/t) will be sparse, since each word will not be seen with most tags ever, and those terms will thus be zero. \n"
   ]
  },
  {
   "cell_type": "code",
   "execution_count": 10,
   "metadata": {},
   "outputs": [],
   "source": [
    "# Create numpy array of no of pos tags by total vocabulary\n",
    "t = len(T)\n",
    "v = len(V)\n",
    "w_given_t = np.zeros((t, v))"
   ]
  },
  {
   "cell_type": "markdown",
   "metadata": {},
   "source": [
    "### Emission Probabilities"
   ]
  },
  {
   "cell_type": "code",
   "execution_count": 11,
   "metadata": {},
   "outputs": [],
   "source": [
    "# compute word given tag\n",
    "def word_given_tag(word, tag, train_bag = train_tagged_words):\n",
    "    tag_list = [pair for pair in train_bag if pair[1]==tag]\n",
    "    count_tag = len(tag_list)\n",
    "    w_given_tag_list = [pair[0] for pair in tag_list if pair[0]==word]\n",
    "    count_w_given_tag = len(w_given_tag_list)\n",
    "    \n",
    "    return (count_w_given_tag, count_tag)"
   ]
  },
  {
   "cell_type": "markdown",
   "metadata": {},
   "source": [
    "### Transition Probabilities"
   ]
  },
  {
   "cell_type": "code",
   "execution_count": 12,
   "metadata": {},
   "outputs": [],
   "source": [
    "# compute tag given tag: tag2(t2) given tag1 (t1)\n",
    "\n",
    "def t2_given_t1(t2, t1, train_bag = train_tagged_words):\n",
    "    tags = [pair[1] for pair in train_bag]\n",
    "    count_t1 = len([t for t in tags if t==t1])\n",
    "    count_t2_t1 = 0\n",
    "    for index in range(len(tags)-1):\n",
    "        if tags[index]==t1 and tags[index+1] == t2:\n",
    "            count_t2_t1 += 1\n",
    "    return (count_t2_t1, count_t1)"
   ]
  },
  {
   "cell_type": "code",
   "execution_count": 13,
   "metadata": {},
   "outputs": [],
   "source": [
    "# creating t x t transition matrix of tags\n",
    "# each column is t2, each row is t1\n",
    "# thus M(i, j) represents P(tj given ti)\n",
    "\n",
    "tags_matrix = np.zeros((len(T), len(T)), dtype='float32')\n",
    "for i, t1 in enumerate(list(T)):\n",
    "    for j, t2 in enumerate(list(T)): \n",
    "        tags_matrix[i, j] = t2_given_t1(t2, t1)[0]/t2_given_t1(t2, t1)[1]"
   ]
  },
  {
   "cell_type": "code",
   "execution_count": 14,
   "metadata": {},
   "outputs": [
    {
     "data": {
      "text/plain": [
       "array([[4.66417900e-04, 5.59701510e-02, 5.73694035e-02, 1.18936568e-01,\n",
       "        3.31156701e-02, 8.86194035e-03, 3.48880589e-01, 5.13059692e-03,\n",
       "        1.18470147e-01, 1.58582091e-01, 4.15111929e-02, 5.27052246e-02],\n",
       "       [6.88073412e-03, 8.12581927e-02, 1.53997382e-02, 1.29750982e-01,\n",
       "        1.34665787e-01, 2.32634339e-02, 3.11271306e-02, 1.47444298e-02,\n",
       "        6.84796870e-02, 3.44364345e-01, 3.14547829e-02, 1.18610747e-01],\n",
       "       [4.58190171e-03, 3.28369625e-02, 7.63650239e-03, 7.36922473e-02,\n",
       "        4.04734649e-02, 9.39289778e-02, 2.07331046e-01, 1.18365791e-02,\n",
       "        9.16380342e-03, 4.87972498e-01, 7.25467736e-03, 2.32913326e-02],\n",
       "       [1.66584197e-02, 4.94804559e-03, 6.59739424e-04, 6.53142035e-02,\n",
       "        6.58090040e-02, 2.14415304e-02, 6.98499084e-01, 1.08857006e-02,\n",
       "        4.94804559e-03, 1.22051788e-02, 2.11116616e-02, 7.75193796e-02],\n",
       "       [5.77717870e-02, 5.19317165e-02, 6.57681972e-02, 4.46540862e-02,\n",
       "        9.40700844e-02, 2.73135677e-02, 2.23090753e-01, 2.33602873e-03,\n",
       "        1.73225522e-01, 8.87690932e-02, 8.05929899e-02, 9.03863460e-02],\n",
       "       [1.07594933e-02, 2.61075944e-02, 5.63291125e-02, 1.64556969e-02,\n",
       "        1.62816450e-01, 7.48417750e-02, 6.21835440e-02, 1.84651896e-01,\n",
       "        5.41139245e-02, 2.04113930e-01, 2.68987333e-03, 1.44936711e-01],\n",
       "       [4.22627516e-02, 1.71817560e-02, 4.76866495e-03, 1.22310799e-02,\n",
       "        2.39306912e-01, 2.92308256e-02, 2.64897525e-01, 4.39736433e-02,\n",
       "        1.32503370e-02, 1.46336138e-01, 9.53732990e-03, 1.77023038e-01],\n",
       "       [2.28013028e-03, 9.77198686e-03, 1.79153103e-02, 8.40390846e-02,\n",
       "        4.16938104e-02, 1.40065150e-02, 2.47882739e-01, 1.95439742e-03,\n",
       "        9.96742696e-02, 4.02931601e-01, 5.66775240e-02, 2.11726390e-02],\n",
       "       [4.83734417e-04, 1.26980292e-02, 3.74894193e-03, 2.03652188e-01,\n",
       "        1.77772399e-02, 4.61966395e-02, 6.38650358e-01, 2.41867208e-04,\n",
       "        5.44201257e-03, 3.95452902e-02, 2.23727170e-02, 9.19095427e-03],\n",
       "       [5.57707204e-03, 8.35011601e-02, 3.53214554e-02, 6.52207583e-02,\n",
       "        3.51665393e-02, 2.17815652e-01, 1.10844307e-01, 3.12161110e-02,\n",
       "        1.33617356e-01, 1.67622000e-01, 2.26955842e-02, 9.14020166e-02],\n",
       "       [1.33769326e-02, 2.97265151e-03, 1.48632575e-03, 3.24019007e-02,\n",
       "        1.15933411e-01, 2.10463732e-01, 3.54637325e-01, 2.70511303e-02,\n",
       "        2.97265151e-03, 1.81331746e-02, 1.84898928e-01, 3.56718190e-02],\n",
       "       [9.58772784e-04, 1.38489399e-02, 7.02034757e-02, 1.05784595e-01,\n",
       "        3.98423336e-02, 3.50484699e-02, 3.22893351e-01, 1.49142428e-03,\n",
       "        3.22893351e-01, 8.52242485e-03, 6.20006397e-02, 1.65121984e-02]],\n",
       "      dtype=float32)"
      ]
     },
     "execution_count": 14,
     "metadata": {},
     "output_type": "execute_result"
    }
   ],
   "source": [
    "tags_matrix"
   ]
  },
  {
   "cell_type": "code",
   "execution_count": 15,
   "metadata": {},
   "outputs": [
    {
     "data": {
      "text/html": [
       "<div>\n",
       "<style scoped>\n",
       "    .dataframe tbody tr th:only-of-type {\n",
       "        vertical-align: middle;\n",
       "    }\n",
       "\n",
       "    .dataframe tbody tr th {\n",
       "        vertical-align: top;\n",
       "    }\n",
       "\n",
       "    .dataframe thead th {\n",
       "        text-align: right;\n",
       "    }\n",
       "</style>\n",
       "<table border=\"1\" class=\"dataframe\">\n",
       "  <thead>\n",
       "    <tr style=\"text-align: right;\">\n",
       "      <th></th>\n",
       "      <th>CONJ</th>\n",
       "      <th>ADV</th>\n",
       "      <th>PRON</th>\n",
       "      <th>ADJ</th>\n",
       "      <th>.</th>\n",
       "      <th>X</th>\n",
       "      <th>NOUN</th>\n",
       "      <th>PRT</th>\n",
       "      <th>DET</th>\n",
       "      <th>VERB</th>\n",
       "      <th>NUM</th>\n",
       "      <th>ADP</th>\n",
       "    </tr>\n",
       "  </thead>\n",
       "  <tbody>\n",
       "    <tr>\n",
       "      <td>CONJ</td>\n",
       "      <td>0.000466</td>\n",
       "      <td>0.055970</td>\n",
       "      <td>0.057369</td>\n",
       "      <td>0.118937</td>\n",
       "      <td>0.033116</td>\n",
       "      <td>0.008862</td>\n",
       "      <td>0.348881</td>\n",
       "      <td>0.005131</td>\n",
       "      <td>0.118470</td>\n",
       "      <td>0.158582</td>\n",
       "      <td>0.041511</td>\n",
       "      <td>0.052705</td>\n",
       "    </tr>\n",
       "    <tr>\n",
       "      <td>ADV</td>\n",
       "      <td>0.006881</td>\n",
       "      <td>0.081258</td>\n",
       "      <td>0.015400</td>\n",
       "      <td>0.129751</td>\n",
       "      <td>0.134666</td>\n",
       "      <td>0.023263</td>\n",
       "      <td>0.031127</td>\n",
       "      <td>0.014744</td>\n",
       "      <td>0.068480</td>\n",
       "      <td>0.344364</td>\n",
       "      <td>0.031455</td>\n",
       "      <td>0.118611</td>\n",
       "    </tr>\n",
       "    <tr>\n",
       "      <td>PRON</td>\n",
       "      <td>0.004582</td>\n",
       "      <td>0.032837</td>\n",
       "      <td>0.007637</td>\n",
       "      <td>0.073692</td>\n",
       "      <td>0.040473</td>\n",
       "      <td>0.093929</td>\n",
       "      <td>0.207331</td>\n",
       "      <td>0.011837</td>\n",
       "      <td>0.009164</td>\n",
       "      <td>0.487972</td>\n",
       "      <td>0.007255</td>\n",
       "      <td>0.023291</td>\n",
       "    </tr>\n",
       "    <tr>\n",
       "      <td>ADJ</td>\n",
       "      <td>0.016658</td>\n",
       "      <td>0.004948</td>\n",
       "      <td>0.000660</td>\n",
       "      <td>0.065314</td>\n",
       "      <td>0.065809</td>\n",
       "      <td>0.021442</td>\n",
       "      <td>0.698499</td>\n",
       "      <td>0.010886</td>\n",
       "      <td>0.004948</td>\n",
       "      <td>0.012205</td>\n",
       "      <td>0.021112</td>\n",
       "      <td>0.077519</td>\n",
       "    </tr>\n",
       "    <tr>\n",
       "      <td>.</td>\n",
       "      <td>0.057772</td>\n",
       "      <td>0.051932</td>\n",
       "      <td>0.065768</td>\n",
       "      <td>0.044654</td>\n",
       "      <td>0.094070</td>\n",
       "      <td>0.027314</td>\n",
       "      <td>0.223091</td>\n",
       "      <td>0.002336</td>\n",
       "      <td>0.173226</td>\n",
       "      <td>0.088769</td>\n",
       "      <td>0.080593</td>\n",
       "      <td>0.090386</td>\n",
       "    </tr>\n",
       "    <tr>\n",
       "      <td>X</td>\n",
       "      <td>0.010759</td>\n",
       "      <td>0.026108</td>\n",
       "      <td>0.056329</td>\n",
       "      <td>0.016456</td>\n",
       "      <td>0.162816</td>\n",
       "      <td>0.074842</td>\n",
       "      <td>0.062184</td>\n",
       "      <td>0.184652</td>\n",
       "      <td>0.054114</td>\n",
       "      <td>0.204114</td>\n",
       "      <td>0.002690</td>\n",
       "      <td>0.144937</td>\n",
       "    </tr>\n",
       "    <tr>\n",
       "      <td>NOUN</td>\n",
       "      <td>0.042263</td>\n",
       "      <td>0.017182</td>\n",
       "      <td>0.004769</td>\n",
       "      <td>0.012231</td>\n",
       "      <td>0.239307</td>\n",
       "      <td>0.029231</td>\n",
       "      <td>0.264898</td>\n",
       "      <td>0.043974</td>\n",
       "      <td>0.013250</td>\n",
       "      <td>0.146336</td>\n",
       "      <td>0.009537</td>\n",
       "      <td>0.177023</td>\n",
       "    </tr>\n",
       "    <tr>\n",
       "      <td>PRT</td>\n",
       "      <td>0.002280</td>\n",
       "      <td>0.009772</td>\n",
       "      <td>0.017915</td>\n",
       "      <td>0.084039</td>\n",
       "      <td>0.041694</td>\n",
       "      <td>0.014007</td>\n",
       "      <td>0.247883</td>\n",
       "      <td>0.001954</td>\n",
       "      <td>0.099674</td>\n",
       "      <td>0.402932</td>\n",
       "      <td>0.056678</td>\n",
       "      <td>0.021173</td>\n",
       "    </tr>\n",
       "    <tr>\n",
       "      <td>DET</td>\n",
       "      <td>0.000484</td>\n",
       "      <td>0.012698</td>\n",
       "      <td>0.003749</td>\n",
       "      <td>0.203652</td>\n",
       "      <td>0.017777</td>\n",
       "      <td>0.046197</td>\n",
       "      <td>0.638650</td>\n",
       "      <td>0.000242</td>\n",
       "      <td>0.005442</td>\n",
       "      <td>0.039545</td>\n",
       "      <td>0.022373</td>\n",
       "      <td>0.009191</td>\n",
       "    </tr>\n",
       "    <tr>\n",
       "      <td>VERB</td>\n",
       "      <td>0.005577</td>\n",
       "      <td>0.083501</td>\n",
       "      <td>0.035321</td>\n",
       "      <td>0.065221</td>\n",
       "      <td>0.035167</td>\n",
       "      <td>0.217816</td>\n",
       "      <td>0.110844</td>\n",
       "      <td>0.031216</td>\n",
       "      <td>0.133617</td>\n",
       "      <td>0.167622</td>\n",
       "      <td>0.022696</td>\n",
       "      <td>0.091402</td>\n",
       "    </tr>\n",
       "    <tr>\n",
       "      <td>NUM</td>\n",
       "      <td>0.013377</td>\n",
       "      <td>0.002973</td>\n",
       "      <td>0.001486</td>\n",
       "      <td>0.032402</td>\n",
       "      <td>0.115933</td>\n",
       "      <td>0.210464</td>\n",
       "      <td>0.354637</td>\n",
       "      <td>0.027051</td>\n",
       "      <td>0.002973</td>\n",
       "      <td>0.018133</td>\n",
       "      <td>0.184899</td>\n",
       "      <td>0.035672</td>\n",
       "    </tr>\n",
       "    <tr>\n",
       "      <td>ADP</td>\n",
       "      <td>0.000959</td>\n",
       "      <td>0.013849</td>\n",
       "      <td>0.070203</td>\n",
       "      <td>0.105785</td>\n",
       "      <td>0.039842</td>\n",
       "      <td>0.035048</td>\n",
       "      <td>0.322893</td>\n",
       "      <td>0.001491</td>\n",
       "      <td>0.322893</td>\n",
       "      <td>0.008522</td>\n",
       "      <td>0.062001</td>\n",
       "      <td>0.016512</td>\n",
       "    </tr>\n",
       "  </tbody>\n",
       "</table>\n",
       "</div>"
      ],
      "text/plain": [
       "          CONJ       ADV      PRON       ADJ         .         X      NOUN  \\\n",
       "CONJ  0.000466  0.055970  0.057369  0.118937  0.033116  0.008862  0.348881   \n",
       "ADV   0.006881  0.081258  0.015400  0.129751  0.134666  0.023263  0.031127   \n",
       "PRON  0.004582  0.032837  0.007637  0.073692  0.040473  0.093929  0.207331   \n",
       "ADJ   0.016658  0.004948  0.000660  0.065314  0.065809  0.021442  0.698499   \n",
       ".     0.057772  0.051932  0.065768  0.044654  0.094070  0.027314  0.223091   \n",
       "X     0.010759  0.026108  0.056329  0.016456  0.162816  0.074842  0.062184   \n",
       "NOUN  0.042263  0.017182  0.004769  0.012231  0.239307  0.029231  0.264898   \n",
       "PRT   0.002280  0.009772  0.017915  0.084039  0.041694  0.014007  0.247883   \n",
       "DET   0.000484  0.012698  0.003749  0.203652  0.017777  0.046197  0.638650   \n",
       "VERB  0.005577  0.083501  0.035321  0.065221  0.035167  0.217816  0.110844   \n",
       "NUM   0.013377  0.002973  0.001486  0.032402  0.115933  0.210464  0.354637   \n",
       "ADP   0.000959  0.013849  0.070203  0.105785  0.039842  0.035048  0.322893   \n",
       "\n",
       "           PRT       DET      VERB       NUM       ADP  \n",
       "CONJ  0.005131  0.118470  0.158582  0.041511  0.052705  \n",
       "ADV   0.014744  0.068480  0.344364  0.031455  0.118611  \n",
       "PRON  0.011837  0.009164  0.487972  0.007255  0.023291  \n",
       "ADJ   0.010886  0.004948  0.012205  0.021112  0.077519  \n",
       ".     0.002336  0.173226  0.088769  0.080593  0.090386  \n",
       "X     0.184652  0.054114  0.204114  0.002690  0.144937  \n",
       "NOUN  0.043974  0.013250  0.146336  0.009537  0.177023  \n",
       "PRT   0.001954  0.099674  0.402932  0.056678  0.021173  \n",
       "DET   0.000242  0.005442  0.039545  0.022373  0.009191  \n",
       "VERB  0.031216  0.133617  0.167622  0.022696  0.091402  \n",
       "NUM   0.027051  0.002973  0.018133  0.184899  0.035672  \n",
       "ADP   0.001491  0.322893  0.008522  0.062001  0.016512  "
      ]
     },
     "execution_count": 15,
     "metadata": {},
     "output_type": "execute_result"
    }
   ],
   "source": [
    "# convert the matrix to a df for better readability\n",
    "tags_df = pd.DataFrame(tags_matrix, columns = list(T), index=list(T))\n",
    "tags_df"
   ]
  },
  {
   "cell_type": "code",
   "execution_count": 16,
   "metadata": {},
   "outputs": [
    {
     "data": {
      "text/plain": [
       "CONJ    0.057772\n",
       "ADV     0.051932\n",
       "PRON    0.065768\n",
       "ADJ     0.044654\n",
       ".       0.094070\n",
       "X       0.027314\n",
       "NOUN    0.223091\n",
       "PRT     0.002336\n",
       "DET     0.173226\n",
       "VERB    0.088769\n",
       "NUM     0.080593\n",
       "ADP     0.090386\n",
       "Name: ., dtype: float32"
      ]
     },
     "execution_count": 16,
     "metadata": {},
     "output_type": "execute_result"
    }
   ],
   "source": [
    "tags_df.loc['.', :]"
   ]
  },
  {
   "cell_type": "code",
   "execution_count": 17,
   "metadata": {},
   "outputs": [
    {
     "data": {
      "image/png": "[encoded data removed]",
      "text/plain": [
       "<Figure size 1296x864 with 2 Axes>"
      ]
     },
     "metadata": {
      "needs_background": "light"
     },
     "output_type": "display_data"
    }
   ],
   "source": [
    "# heatmap of tags matrix\n",
    "# T(i, j) means P(tag j given tag i)\n",
    "plt.figure(figsize=(18, 12))\n",
    "sns.heatmap(tags_df)\n",
    "plt.show()"
   ]
  },
  {
   "cell_type": "code",
   "execution_count": 18,
   "metadata": {},
   "outputs": [
    {
     "data": {
      "image/png": "[encoded data removed]",
      "text/plain": [
       "<Figure size 1296x864 with 2 Axes>"
      ]
     },
     "metadata": {
      "needs_background": "light"
     },
     "output_type": "display_data"
    }
   ],
   "source": [
    "# frequent tags\n",
    "# filter the df to get P(t2, t1) > 0.5\n",
    "tags_frequent = tags_df[tags_df>0.5]\n",
    "plt.figure(figsize=(18, 12))\n",
    "sns.heatmap(tags_frequent)\n",
    "plt.show()"
   ]
  },
  {
   "cell_type": "markdown",
   "metadata": {},
   "source": [
    "# Build the vanilla Viterbi based POS tagger"
   ]
  },
  {
   "cell_type": "code",
   "execution_count": 19,
   "metadata": {},
   "outputs": [
    {
     "data": {
      "text/plain": [
       "95799"
      ]
     },
     "execution_count": 19,
     "metadata": {},
     "output_type": "execute_result"
    }
   ],
   "source": [
    "len(train_tagged_words)"
   ]
  },
  {
   "cell_type": "code",
   "execution_count": 20,
   "metadata": {},
   "outputs": [],
   "source": [
    "# Viterbi Heuristic\n",
    "def Viterbi(words, train_bag = train_tagged_words):\n",
    "    state = []\n",
    "    T = list(set([pair[1] for pair in train_bag]))\n",
    "    \n",
    "    for key, word in enumerate(words):\n",
    "        #initialise list of probability column for a given observation\n",
    "        p = [] \n",
    "        for tag in T:\n",
    "            if key == 0:\n",
    "                transition_p = tags_df.loc['.', tag]\n",
    "            else:\n",
    "                transition_p = tags_df.loc[state[-1], tag]\n",
    "                \n",
    "            # compute emission and state probabilities\n",
    "            emission_p = word_given_tag(words[key], tag)[0]/word_given_tag(words[key], tag)[1]\n",
    "            state_probability = emission_p * transition_p    \n",
    "            p.append(state_probability)\n",
    "            \n",
    "        pmax = max(p)\n",
    "        # getting state for which probability is maximum\n",
    "        state_max = T[p.index(pmax)] \n",
    "        state.append(state_max)\n",
    "    return list(zip(words, state))"
   ]
  },
  {
   "cell_type": "code",
   "execution_count": 21,
   "metadata": {},
   "outputs": [],
   "source": [
    "# Running on entire test dataset would take more than 3-4hrs. \n",
    "# Let's test our Viterbi algorithm on a few sample sentences of test dataset\n",
    "\n",
    "random.seed(1234)\n",
    "\n",
    "\n",
    "# list of tagged words in test set\n",
    "test_run_base = [tup for sent in test_set for tup in sent]\n",
    "\n",
    "# list of  words which are untagged in test set\n",
    "test_tagged_words = [tup[0] for sent in test_set for tup in sent]"
   ]
  },
  {
   "cell_type": "code",
   "execution_count": 22,
   "metadata": {},
   "outputs": [],
   "source": [
    "# tagging the test sentences\n",
    "start = time.time()\n",
    "tagged_seq = Viterbi(test_tagged_words)\n",
    "end = time.time()\n",
    "difference = end-start"
   ]
  },
  {
   "cell_type": "code",
   "execution_count": 23,
   "metadata": {},
   "outputs": [
    {
     "name": "stdout",
     "output_type": "stream",
     "text": [
      "Time taken in seconds:  842.9450948238373\n",
      "[('Ruth', 'CONJ'), ('K.', 'NOUN'), ('Nelson', 'NOUN'), ('Cullowhee', 'CONJ'), (',', '.'), ('N.C', 'NOUN'), ('.', '.'), ('Among', 'ADP'), ('other', 'ADJ'), ('Connecticut', 'NOUN'), ('banks', 'NOUN'), ('whose', 'PRON'), ('shares', 'NOUN'), ('*T*-121', 'CONJ'), ('trade', 'NOUN'), ('in', 'ADP'), ('the', 'DET'), ('OTC', 'NOUN'), ('market', 'NOUN'), (',', '.'), ('Society', 'NOUN'), ('for', 'ADP'), ('Savings', 'NOUN'), ('Bancorp', 'NOUN'), (',', '.'), ('based', 'VERB'), ('*', 'X'), ('in', 'ADP'), ('Hartford', 'NOUN'), (',', '.'), ('saw', 'VERB'), ('its', 'PRON'), ('stock', 'NOUN'), ('rise', 'VERB'), ('1', 'NUM'), ('3\\\\/4', 'NUM'), ('to', 'PRT'), ('18', 'NUM'), ('1\\\\/4', 'NUM'), ('.', '.'), ('Card', 'CONJ'), ('holders', 'NOUN'), ('who', 'PRON'), ('*T*-59', 'X'), ('receive', 'VERB'), ('the', 'DET'), ('letter', 'NOUN'), ('also', 'ADV'), ('are', 'VERB'), ('eligible', 'ADJ'), ('for', 'ADP'), ('a', 'DET'), ('sweepstakes', 'CONJ'), ('with', 'ADP'), ('Buick', 'NOUN'), ('cars', 'NOUN'), ('or', 'CONJ'), ('a', 'DET'), ('Hawaii', 'NOUN'), ('vacation', 'NOUN'), ('as', 'ADP'), ('prizes', 'NOUN'), ('.', '.'), ('Maxwell', 'NOUN'), ('R.D.', 'CONJ'), ('Vos', 'CONJ'), ('Brooklyn', 'NOUN'), (',', '.'), ('N.Y', 'CONJ'), ('.', '.'), ('The', 'DET'), ('Perch', 'CONJ'), ('and', 'CONJ'), ('Dolphin', 'CONJ'), ('fields', 'NOUN'), ('are', 'VERB'), ('expected', 'VERB'), ('*-3', 'X'), ('to', 'PRT'), ('start', 'VERB'), ('*-1', 'X'), ('producing', 'VERB'), ('early', 'ADV'), ('next', 'ADJ'), ('year', 'NOUN'), (',', '.'), ('and', 'CONJ'), ('the', 'DET'), ('Seahorse', 'CONJ'), ('and', 'CONJ'), ('Tarwhine', 'CONJ'), ('fields', 'NOUN'), ('later', 'ADJ'), ('next', 'ADJ'), ('year', 'NOUN'), ('.', '.'), ('In', 'ADP'), ('August', 'NOUN'), (',', '.'), ('the', 'DET'), ('commission', 'NOUN'), ('ruled', 'VERB'), ('that', 'ADP'), ('between', 'ADP'), ('$', '.'), ('190', 'NUM'), ('million', 'NUM'), ('and', 'CONJ'), ('$', '.'), ('195', 'NUM'), ('million', 'NUM'), ('*U*', 'X'), ('of', 'ADP'), ('the', 'DET'), ('plant', 'NOUN'), (\"'s\", 'PRT'), ('construction', 'NOUN'), ('cost', 'NOUN'), ('was', 'VERB'), ('unreasonable', 'ADJ'), ('and', 'CONJ'), ('should', 'VERB'), ('be', 'VERB'), ('refunded', 'CONJ'), ('*-1', 'X'), (',', '.'), ('plus', 'CONJ'), ('interest', 'NOUN'), ('.', '.'), ('The', 'DET'), ('newly', 'ADV'), ('fattened', 'CONJ'), ('premiums', 'NOUN'), ('reflect', 'VERB'), ('the', 'DET'), ('increasingly', 'ADV'), ('global', 'ADJ'), ('marketing', 'NOUN'), ('of', 'ADP'), ('some', 'DET'), ('country', 'NOUN'), ('funds', 'NOUN'), (',', '.'), ('Mr.', 'NOUN'), ('Porter', 'NOUN'), ('suggests', 'VERB'), ('0', 'X'), ('*T*-1', 'X'), ('.', '.'), ('``', '.'), ('David', 'NOUN'), ('Dinkins', 'NOUN'), ('failed', 'VERB'), ('*-2', 'X'), ('to', 'PRT'), ('file', 'VERB'), ('his', 'PRON'), ('income', 'NOUN'), ('taxes', 'NOUN'), ('for', 'ADP'), ('four', 'NUM'), ('straight', 'ADJ'), ('years', 'NOUN'), (',', '.'), (\"''\", '.'), ('says', 'VERB'), ('*T*-1', 'X'), ('a', 'DET'), ('disembodied', 'CONJ'), ('male', 'ADJ'), ('voice', 'NOUN'), ('.', '.'), ('Otherwise', 'CONJ'), (',', '.'), ('actual', 'ADJ'), ('profit', 'NOUN'), ('is', 'VERB'), ('compared', 'VERB'), ('*-1', 'X'), ('with', 'ADP'), ('the', 'DET'), ('300-day', 'CONJ'), ('estimate', 'NOUN'), ('.', '.'), ('The', 'DET'), ('oldest', 'ADJ'), ('bell-ringing', 'CONJ'), ('group', 'NOUN'), ('in', 'ADP'), ('the', 'DET'), ('country', 'NOUN'), (',', '.'), ('the', 'DET'), ('Ancient', 'CONJ'), ('Society', 'NOUN'), ('of', 'ADP'), ('College', 'NOUN'), ('Youths', 'CONJ'), (',', '.'), ('founded', 'VERB'), ('*', 'X'), ('in', 'ADP'), ('1637', 'CONJ'), (',', '.'), ('remains', 'VERB'), ('male-only', 'CONJ'), (',', '.'), ('a', 'DET'), ('fact', 'NOUN'), ('that', 'ADP'), ('*T*-230', 'CONJ'), (\"'s\", 'PRT'), ('particularly', 'ADV'), ('galling', 'CONJ'), ('to', 'PRT'), ('women', 'NOUN'), ('because', 'ADP'), ('the', 'DET'), ('group', 'NOUN'), ('is', 'VERB'), ('the', 'DET'), ('sole', 'CONJ'), ('source', 'NOUN'), ('of', 'ADP'), ('ringers', 'NOUN'), ('for', 'ADP'), ('Britain', 'NOUN'), (\"'s\", 'PRT'), ('most', 'ADJ'), ('prestigious', 'ADJ'), ('churches', 'NOUN'), (',', '.'), ('St.', 'NOUN'), ('Paul', 'NOUN'), (\"'s\", 'PRT'), ('Cathedral', 'CONJ'), ('and', 'CONJ'), ('Westminster', 'CONJ'), ('Abbey', 'CONJ'), ('.', '.'), ('But', 'CONJ'), ('a', 'DET'), ('Soviet', 'ADJ'), ('bank', 'NOUN'), ('here', 'ADV'), ('would', 'VERB'), ('be', 'VERB'), ('crippled', 'VERB'), ('*-51', 'X'), ('unless', 'ADP'), ('Moscow', 'NOUN'), ('found', 'VERB'), ('a', 'DET'), ('way', 'NOUN'), ('0', 'X'), ('*', 'X'), ('to', 'PRT'), ('settle', 'VERB'), ('the', 'DET'), ('$', '.'), ('188', 'NUM'), ('million', 'NUM'), ('*U*', 'X'), ('debt', 'NOUN'), (',', '.'), ('which', 'DET'), ('*T*-1', 'X'), ('was', 'VERB'), ('lent', 'VERB'), ('*-52', 'X'), ('to', 'PRT'), ('the', 'DET'), ('country', 'NOUN'), (\"'s\", 'PRT'), ('short-lived', 'CONJ'), ('democratic', 'ADJ'), ('Kerensky', 'CONJ'), ('government', 'NOUN'), ('before', 'ADP'), ('the', 'DET'), ('Communists', 'CONJ'), ('seized', 'CONJ'), ('power', 'NOUN'), ('in', 'ADP'), ('1917', 'CONJ'), ('*T*-2', 'X'), ('.', '.'), ('The', 'DET'), ('recent', 'ADJ'), ('explosion', 'NOUN'), ('of', 'ADP'), ('country', 'NOUN'), ('funds', 'NOUN'), ('mirrors', 'CONJ'), ('the', 'DET'), ('``', '.'), ('closed-end', 'ADJ'), ('fund', 'NOUN'), ('mania', 'CONJ'), (\"''\", '.'), ('of', 'ADP'), ('the', 'DET'), ('1920s', 'NUM'), (',', '.'), ('Mr.', 'NOUN'), ('Foot', 'NOUN'), ('says', 'VERB'), ('0', 'X'), ('*T*-2', 'X'), (',', '.'), ('when', 'ADV'), ('narrowly', 'CONJ'), ('focused', 'VERB'), ('funds', 'NOUN'), ('grew', 'VERB'), ('wildly', 'CONJ'), ('popular', 'ADJ'), ('*T*-1', 'X'), ('.', '.'), ('The', 'DET'), ('yield', 'NOUN'), ('fell', 'VERB'), ('to', 'PRT'), ('7.88', 'NUM'), ('%', 'NOUN'), ('.', '.'), ('He', 'PRON'), ('cites', 'VERB'), ('the', 'DET'), ('recent', 'ADJ'), ('deal', 'NOUN'), ('between', 'ADP'), ('the', 'DET'), ('Mitsubishi', 'NOUN'), ('Estate', 'NOUN'), ('Co.', 'NOUN'), ('and', 'CONJ'), ('the', 'DET'), ('Rockefeller', 'NOUN'), ('Group', 'NOUN'), (',', '.'), ('as', 'ADP'), ('well', 'ADV'), ('as', 'ADP'), ('the', 'DET'), ('possible', 'ADJ'), ('white', 'NOUN'), ('knight', 'CONJ'), ('role', 'NOUN'), ('of', 'ADP'), ('an', 'DET'), ('undisclosed', 'CONJ'), ('Japanese', 'ADJ'), ('company', 'NOUN'), ('in', 'ADP'), ('the', 'DET'), ('Georgia-Pacific', 'NOUN'), ('Corp.', 'NOUN'), ('takeover', 'NOUN'), ('bid', 'NOUN'), ('for', 'ADP'), ('Great', 'NOUN'), ('Northern', 'NOUN'), ('Nekoosa', 'NOUN'), ('Corp.', 'NOUN'), ('as', 'ADP'), ('evidence', 'NOUN'), ('.', '.'), ('Mr.', 'NOUN'), ('Hammond', 'NOUN'), ('worries', 'VERB'), ('that', 'ADP'), ('old', 'ADJ'), ('age', 'NOUN'), ('and', 'CONJ'), ('the', 'DET'), ('flightiness', 'CONJ'), ('of', 'ADP'), ('youth', 'NOUN'), ('will', 'VERB'), ('diminish', 'CONJ'), ('the', 'DET'), ('ranks', 'NOUN'), ('of', 'ADP'), ('the', 'DET'), ('East', 'NOUN'), ('Anglian', 'CONJ'), ('group', 'NOUN'), ('that', 'ADP'), ('*T*-223', 'CONJ'), ('keeps', 'VERB'), ('the', 'DET'), ('Aslacton', 'NOUN'), ('bells', 'NOUN'), ('pealing', 'CONJ'), ('.', '.'), ('Serial', 'ADJ'), ('bonds', 'NOUN'), ('are', 'VERB'), ('priced', 'VERB'), ('*-1', 'X'), ('*', 'X'), ('to', 'PRT'), ('yield', 'VERB'), ('from', 'ADP'), ('6.20', 'NUM'), ('%', 'NOUN'), ('in', 'ADP'), ('1991', 'NUM'), ('to', 'PRT'), ('7', 'NUM'), ('%', 'NOUN'), ('in', 'ADP'), ('2000', 'NUM'), ('.', '.'), ('Yesterday', 'NOUN'), (',', '.'), ('the', 'DET'), ('stock', 'NOUN'), ('market', 'NOUN'), ('rose', 'VERB'), ('strongly', 'ADV'), (',', '.'), ('*', 'X'), ('creating', 'VERB'), ('a', 'DET'), ('more', 'ADJ'), ('defensive', 'ADJ'), ('attitude', 'NOUN'), ('among', 'ADP'), ('precious', 'ADJ'), ('metals', 'NOUN'), ('traders', 'NOUN'), (',', '.'), ('he', 'PRON'), ('said', 'VERB'), ('0', 'X'), ('*T*-1', 'X'), ('.', '.'), ('From', 'ADP'), ('an', 'DET'), ('advertising', 'NOUN'), ('standpoint', 'CONJ'), (',', '.'), ('the', 'DET'), ('problem', 'NOUN'), ('is', 'VERB'), ('0', 'X'), ('these', 'DET'), ('offenders', 'NOUN'), ('are', 'VERB'), ('likely', 'ADJ'), ('*-1', 'X'), ('to', 'PRT'), ('be', 'VERB'), ('some', 'DET'), ('of', 'ADP'), ('the', 'DET'), ('same', 'ADJ'), ('folks', 'NOUN'), ('that', 'ADP'), ('*T*-153', 'CONJ'), ('are', 'VERB'), ('major', 'ADJ'), ('magazine', 'NOUN'), ('advertisers', 'NOUN'), ('these', 'DET'), ('days', 'NOUN'), ('.', '.'), ('*-1', 'X'), ('Stung', 'VERB'), ('by', 'ADP'), ('charges', 'NOUN'), ('that', 'ADP'), ('their', 'PRON'), ('greed', 'NOUN'), ('is', 'VERB'), ('turning', 'VERB'), ('the', 'DET'), ('stock', 'NOUN'), ('market', 'NOUN'), ('into', 'ADP'), ('a', 'DET'), ('gigantic', 'CONJ'), ('crapshoot', 'CONJ'), (',', '.'), ('almost', 'ADV'), ('all', 'DET'), ('the', 'DET'), ('big', 'ADJ'), ('investment', 'NOUN'), ('banking', 'NOUN'), ('houses', 'NOUN'), ('have', 'VERB'), ('abandoned', 'VERB'), ('index', 'NOUN'), ('arbitrage', 'NOUN'), (',', '.'), ('a', 'DET'), ('common', 'ADJ'), ('form', 'NOUN'), ('of', 'ADP'), ('program', 'NOUN'), ('trading', 'NOUN'), (',', '.'), ('for', 'ADP'), ('their', 'PRON'), ('own', 'ADJ'), ('accounts', 'NOUN'), ('in', 'ADP'), ('the', 'DET'), ('past', 'ADJ'), ('few', 'ADJ'), ('days', 'NOUN'), ('.', '.'), ('Plans', 'NOUN'), ('*', 'X'), ('to', 'PRT'), ('do', 'VERB'), ('this', 'DET'), ('are', 'VERB'), ('due', 'ADJ'), ('*', 'X'), ('to', 'PRT'), ('be', 'VERB'), ('filed', 'VERB'), ('*-1', 'X'), ('in', 'ADP'), ('a', 'DET'), ('week', 'NOUN'), ('or', 'CONJ'), ('so', 'ADV'), ('.', '.'), ('The', 'DET'), ('appointment', 'NOUN'), ('takes', 'VERB'), ('effect', 'NOUN'), ('Nov.', 'NOUN'), ('13', 'NUM'), ('.', '.'), ('In', 'ADP'), ('1976', 'NUM'), (',', '.'), ('for', 'ADP'), ('example', 'NOUN'), (',', '.'), ('dividends', 'NOUN'), ('on', 'ADP'), ('the', 'DET'), ('stocks', 'NOUN'), ('in', 'ADP'), ('Standard', 'NOUN'), ('&', 'CONJ'), ('Poor', 'NOUN'), (\"'s\", 'PRT'), ('500-stock', 'ADJ'), ('index', 'NOUN'), ('soared', 'VERB'), ('10', 'NUM'), ('%', 'NOUN'), (',', '.'), ('following', 'VERB'), ('much', 'ADV'), ('slower', 'ADJ'), ('growth', 'NOUN'), ('the', 'DET'), ('year', 'NOUN'), ('before', 'ADP'), ('.', '.'), ('A', 'DET'), ('buffet', 'VERB'), ('breakfast', 'CONJ'), ('was', 'VERB'), ('held', 'VERB'), ('*-1', 'X'), ('in', 'ADP'), ('the', 'DET'), ('museum', 'NOUN'), (',', '.'), ('where', 'ADV'), ('food', 'NOUN'), ('and', 'CONJ'), ('drinks', 'CONJ'), ('are', 'VERB'), ('banned', 'VERB'), ('*-2', 'X'), ('to', 'PRT'), ('everyday', 'CONJ'), ('visitors', 'NOUN'), ('*T*-3', 'X'), ('.', '.'), ('At', 'ADP'), ('the', 'DET'), ('same', 'ADJ'), ('time', 'NOUN'), (',', '.'), ('Viacom', 'NOUN'), ('is', 'VERB'), ('trying', 'VERB'), ('*-1', 'X'), ('to', 'PRT'), ('persuade', 'VERB'), ('stations', 'NOUN'), ('*-2', 'X'), ('to', 'PRT'), ('make', 'VERB'), ('commitments', 'NOUN'), ('to', 'PRT'), ('``', '.'), ('A', 'DET'), ('Different', 'CONJ'), ('World', 'NOUN'), (',', '.'), (\"''\", '.'), ('a', 'DET'), ('spin-off', 'CONJ'), ('of', 'ADP'), ('``', '.'), ('Cosby', 'NOUN'), (\"''\", '.'), ('whose', 'PRON'), ('reruns', 'NOUN'), ('*T*-151', 'CONJ'), ('will', 'VERB'), ('become', 'VERB'), ('available', 'ADJ'), ('in', 'ADP'), ('1991', 'NUM'), ('.', '.'), ('The', 'DET'), ('forthcoming', 'CONJ'), ('maturity', 'NOUN'), ('in', 'ADP'), ('November', 'NOUN'), ('of', 'ADP'), ('a', 'DET'), ('10-year', 'ADJ'), ('Japanese', 'ADJ'), ('government', 'NOUN'), ('yen-denominated', 'CONJ'), ('bond', 'NOUN'), ('issue', 'NOUN'), ('valued', 'VERB'), ('*', 'X'), ('at', 'ADP'), ('about', 'ADP'), ('$', '.'), ('16', 'NUM'), ('billion', 'NUM'), ('*U*', 'X'), ('has', 'VERB'), ('prompted', 'VERB'), ('speculation', 'NOUN'), ('*ICH*-2', 'X'), ('in', 'ADP'), ('the', 'DET'), ('market', 'NOUN'), ('that', 'ADP'), ('investors', 'NOUN'), ('redeeming', 'CONJ'), ('the', 'DET'), ('bonds', 'NOUN'), ('will', 'VERB'), ('diversify', 'VERB'), ('into', 'ADP'), ('dollar-denominated', 'ADJ'), ('instruments', 'NOUN'), (',', '.'), ('according', 'VERB'), ('to', 'PRT'), ('Mr.', 'NOUN'), ('Madison', 'NOUN'), ('.', '.'), ('This', 'DET'), ('provision', 'NOUN'), ('amounts', 'NOUN'), ('to', 'PRT'), ('a', 'DET'), ('legislative', 'ADJ'), ('veto', 'NOUN'), ('over', 'ADP'), ('the', 'DET'), ('president', 'NOUN'), (\"'s\", 'PRT'), ('execution', 'NOUN'), ('of', 'ADP'), ('the', 'DET'), ('law', 'NOUN'), (',', '.'), ('since', 'ADP'), ('a', 'DET'), ('one-house', 'CONJ'), ('resolution', 'NOUN'), ('could', 'VERB'), ('be', 'VERB'), ('said', 'VERB'), ('*-1', 'X'), ('to', 'PRT'), ('be', 'VERB'), ('``', '.'), ('duly', 'ADV'), ('adopted', 'VERB'), (\"''\", '.'), ('even', 'ADV'), ('though', 'ADP'), ('it', 'PRON'), ('would', 'VERB'), ('require', 'VERB'), ('neither', 'DET'), ('bicameral', 'CONJ'), ('action', 'NOUN'), ('in', 'ADP'), ('Congress', 'NOUN'), ('nor', 'CONJ'), ('presentation', 'CONJ'), ('to', 'PRT'), ('the', 'DET'), ('president', 'NOUN'), ('for', 'ADP'), ('his', 'PRON'), ('signature', 'CONJ'), ('or', 'CONJ'), ('veto', 'NOUN'), ('.', '.'), ('He', 'PRON'), ('and', 'CONJ'), ('other', 'ADJ'), ('critics', 'NOUN'), ('say', 'VERB'), ('0', 'X'), ('such', 'ADJ'), ('coaching', 'NOUN'), ('aids', 'CONJ'), ('can', 'VERB'), ('defeat', 'NOUN'), ('the', 'DET'), ('purpose', 'NOUN'), ('of', 'ADP'), ('standardized', 'ADJ'), ('tests', 'NOUN'), (',', '.'), ('which', 'DET'), ('*T*-104', 'CONJ'), ('is', 'VERB'), ('*', 'X'), ('to', 'PRT'), ('gauge', 'VERB'), ('learning', 'CONJ'), ('progress', 'NOUN'), ('.', '.'), ('Railroad', 'NOUN'), ('companies', 'NOUN'), ('and', 'CONJ'), ('some', 'DET'), ('ports', 'NOUN'), ('are', 'VERB'), ('reaping', 'CONJ'), ('a', 'DET'), ('sudden', 'ADJ'), ('windfall', 'CONJ'), ('of', 'ADP'), ('business', 'NOUN'), ('.', '.'), ('He', 'PRON'), ('also', 'ADV'), ('claims', 'VERB'), ('0', 'X'), ('the', 'DET'), ('carrier', 'NOUN'), ('costs', 'NOUN'), ('less', 'ADV'), ('and', 'CONJ'), ('takes', 'VERB'), ('up', 'ADV'), ('less', 'ADJ'), ('space', 'NOUN'), ('than', 'ADP'), ('most', 'ADJ'), ('paper', 'NOUN'), ('carriers', 'CONJ'), ('.', '.'), ('Although', 'ADP'), ('takeover', 'NOUN'), ('experts', 'NOUN'), ('said', 'VERB'), ('0', 'X'), ('they', 'PRON'), ('doubted', 'VERB'), ('0', 'X'), ('Mr.', 'NOUN'), ('Steinberg', 'NOUN'), ('will', 'VERB'), ('make', 'VERB'), ('a', 'DET'), ('bid', 'NOUN'), ('by', 'ADP'), ('himself', 'PRON'), (',', '.'), ('the', 'DET'), ('application', 'NOUN'), ('by', 'ADP'), ('his', 'PRON'), ('Reliance', 'NOUN'), ('Group', 'NOUN'), ('Holdings', 'NOUN'), ('Inc.', 'NOUN'), ('could', 'VERB'), ('signal', 'VERB'), ('his', 'PRON'), ('interest', 'NOUN'), ('in', 'ADP'), ('*', 'X'), ('helping', 'VERB'), ('*-1', 'X'), ('revive', 'VERB'), ('a', 'DET'), ('failed', 'VERB'), ('labor-management', 'NOUN'), ('bid', 'NOUN'), ('.', '.'), ('Gunmen', 'CONJ'), ('in', 'ADP'), ('Lebanon', 'CONJ'), ('assassinated', 'CONJ'), ('a', 'DET'), ('Saudi', 'NOUN'), ('Arabian', 'CONJ'), ('Embassy', 'NOUN'), ('employee', 'NOUN'), (',', '.'), ('and', 'CONJ'), ('the', 'DET'), ('pro-Iranian', 'CONJ'), ('Islamic', 'CONJ'), ('Jihad', 'NOUN'), ('took', 'VERB'), ('responsibility', 'NOUN'), ('for', 'ADP'), ('the', 'DET'), ('slaying', 'CONJ'), ('0', 'X'), ('*T*-1', 'X'), ('to', 'PRT'), ('avenge', 'CONJ'), ('the', 'DET'), ('beheading', 'CONJ'), ('of', 'ADP'), ('16', 'NUM'), ('terrorists', 'CONJ'), ('by', 'ADP'), ('Riyadh', 'CONJ'), (\"'s\", 'PRT'), ('government', 'NOUN'), ('in', 'ADP'), ('September', 'NOUN'), ('.', '.'), ('All', 'DET'), ('the', 'DET'), ('contracts', 'NOUN'), ('were', 'VERB'), ('for', 'ADP'), ('computer-system-design', 'CONJ'), ('contracts', 'NOUN'), ('and', 'CONJ'), ('involved', 'VERB'), ('no', 'DET'), ('hardware', 'NOUN'), ('or', 'CONJ'), ('software', 'NOUN'), ('.', '.'), ('But', 'CONJ'), ('they', 'PRON'), ('have', 'VERB'), ('obtained', 'VERB'), ('8300', 'NUM'), ('forms', 'NOUN'), ('without', 'ADP'), ('court', 'NOUN'), ('permission', 'NOUN'), ('and', 'CONJ'), ('used', 'VERB'), ('the', 'DET'), ('information', 'NOUN'), ('*-1', 'X'), ('to', 'PRT'), ('help', 'VERB'), ('develop', 'VERB'), ('criminal', 'ADJ'), ('cases', 'NOUN'), ('.', '.'), ('And', 'CONJ'), ('unlike', 'ADJ'), ('some', 'DET'), ('trays', 'NOUN'), (',', '.'), ('there', 'DET'), (\"'s\", 'VERB'), ('no', 'DET'), ('place', 'NOUN'), ('for', 'ADP'), ('food', 'NOUN'), ('.', '.'), (\"Dunkin'\", 'NOUN'), ('is', 'VERB'), ('based', 'VERB'), ('*-1', 'X'), ('in', 'ADP'), ('Randolph', 'NOUN'), (',', '.'), ('Mass', 'NOUN'), ('.', '.'), ('I', 'PRON'), ('have', 'VERB'), ('seen', 'VERB'), ('one', 'NUM'), ('or', 'CONJ'), ('two', 'NUM'), ('men', 'NOUN'), ('die', 'VERB'), (',', '.'), ('*', 'X'), ('bless', 'CONJ'), ('them', 'PRON'), ('.', '.'), ('The', 'DET'), ('training', 'NOUN'), ('wage', 'NOUN'), ('covers', 'VERB'), ('only', 'ADV'), ('workers', 'NOUN'), ('who', 'PRON'), ('*T*-260', 'CONJ'), ('are', 'VERB'), ('16', 'NUM'), ('to', 'PRT'), ('19', 'NUM'), ('years', 'NOUN'), ('old', 'ADJ'), ('.', '.'), ('Sen.', 'NOUN'), ('Danforth', 'NOUN'), ('and', 'CONJ'), ('others', 'NOUN'), ('also', 'ADV'), ('want', 'VERB'), ('the', 'DET'), ('department', 'NOUN'), ('to', 'PRT'), ('require', 'VERB'), ('additional', 'ADJ'), ('safety', 'NOUN'), ('equipment', 'NOUN'), ('*ICH*-1', 'X'), ('in', 'ADP'), ('light', 'ADJ'), ('trucks', 'NOUN'), ('and', 'CONJ'), ('minivans', 'NOUN'), (',', '.'), ('including', 'VERB'), ('air', 'VERB'), ('bags', 'CONJ'), ('or', 'CONJ'), ('automatic', 'ADJ'), ('seat', 'NOUN'), ('belts', 'NOUN'), ('in', 'ADP'), ('front', 'NOUN'), ('seats', 'NOUN'), ('and', 'CONJ'), ('improved', 'VERB'), ('side-crash', 'CONJ'), ('protection', 'NOUN'), ('.', '.'), ('GOODY', 'CONJ'), ('PRODUCTS', 'CONJ'), ('Inc.', 'NOUN'), ('cut', 'VERB'), ('its', 'PRON'), ('quarterly', 'ADJ'), ('dividend', 'NOUN'), ('to', 'PRT'), ('five', 'NUM'), ('cents', 'NOUN'), ('a', 'DET'), ('share', 'NOUN'), ('from', 'ADP'), ('11.5', 'CONJ'), ('cents', 'NOUN'), ('a', 'DET'), ('share', 'NOUN'), ('.', '.'), ('In', 'ADP'), ('September', 'NOUN'), (',', '.'), ('she', 'PRON'), ('pleaded', 'VERB'), ('guilty', 'ADJ'), ('and', 'CONJ'), ('paid', 'VERB'), ('a', 'DET'), ('$', '.'), ('500', 'NUM'), ('*U*', 'X'), ('fine', 'NOUN'), ('.', '.'), ('She', 'PRON'), ('was', 'VERB'), ('untrained', 'CONJ'), ('and', 'CONJ'), (',', '.'), ('in', 'ADP'), ('one', 'NUM'), ('botched', 'CONJ'), ('job', 'NOUN'), ('killed', 'VERB'), ('a', 'DET'), ('client', 'NOUN'), ('.', '.'), ('Yesterday', 'NOUN'), (',', '.'), ('Sea', 'NOUN'), ('Containers', 'NOUN'), (\"'\", 'PRT'), ('chief', 'NOUN'), ('executive', 'NOUN'), ('officer', 'NOUN'), (',', '.'), ('James', 'NOUN'), ('Sherwood', 'NOUN'), (',', '.'), ('said', 'VERB'), ('in', 'ADP'), ('an', 'DET'), ('interview', 'NOUN'), ('that', 'ADP'), (',', '.'), ('under', 'ADP'), ('the', 'DET'), ('asset-sale', 'CONJ'), ('plan', 'NOUN'), (',', '.'), ('Sea', 'NOUN'), ('Containers', 'NOUN'), ('would', 'VERB'), ('end', 'NOUN'), ('up', 'PRT'), ('with', 'ADP'), ('a', 'DET'), ('cash', 'NOUN'), ('surplus', 'NOUN'), ('of', 'ADP'), ('approximately', 'ADV'), ('$', '.'), ('620', 'CONJ'), ('million', 'NUM'), ('*U*', 'X'), ('.', '.'), ('The', 'DET'), ('St.', 'NOUN'), ('Louis', 'NOUN'), ('company', 'NOUN'), ('earned', 'VERB'), ('$', '.'), ('45.2', 'CONJ'), ('million', 'NUM'), ('*U*', 'X'), (',', '.'), ('or', 'CONJ'), ('65', 'NUM'), ('cents', 'NOUN'), ('a', 'DET'), ('share', 'NOUN'), (',', '.'), ('compared', 'VERB'), ('with', 'ADP'), ('$', '.'), ('84.9', 'CONJ'), ('million', 'NUM'), ('*U*', 'X'), (',', '.'), ('or', 'CONJ'), ('$', '.'), ('1.24', 'CONJ'), ('*U*', 'X'), ('a', 'DET'), ('share', 'NOUN'), (',', '.'), ('a', 'DET'), ('year', 'NOUN'), ('earlier', 'ADV'), ('.', '.'), ('In', 'ADP'), ('an', 'DET'), ('eight-count', 'CONJ'), ('indictment', 'CONJ'), (',', '.'), ('the', 'DET'), ('government', 'NOUN'), ('has', 'VERB'), ('charged', 'VERB'), ('GAF', 'NOUN'), (',', '.'), ('a', 'DET'), ('Wayne', 'NOUN'), (',', '.'), ('N.J.', 'NOUN'), (',', '.'), ('specialty', 'NOUN'), ('chemical', 'NOUN'), ('maker', 'NOUN'), (',', '.'), ('and', 'CONJ'), ('its', 'PRON'), ('Vice', 'CONJ'), ('Chairman', 'NOUN'), ('James', 'NOUN'), ('T.', 'NOUN'), ('Sherwin', 'CONJ'), ('with', 'ADP'), ('*-2', 'X'), ('attempting', 'VERB'), ('*-1', 'X'), ('to', 'PRT'), ('manipulate', 'CONJ'), ('the', 'DET'), ('common', 'ADJ'), ('stock', 'NOUN'), ('of', 'ADP'), ('Union', 'NOUN'), ('Carbide', 'CONJ'), ('Corp.', 'NOUN'), ('in', 'ADP'), ('advance', 'NOUN'), ('of', 'ADP'), ('GAF', 'NOUN'), (\"'s\", 'PRT'), ('planned', 'VERB'), ('sale', 'NOUN'), ('of', 'ADP'), ('a', 'DET'), ('large', 'ADJ'), ('block', 'NOUN'), ('of', 'ADP'), ('the', 'DET'), ('stock', 'NOUN'), ('in', 'ADP'), ('November', 'NOUN'), ('1986', 'NUM'), ('.', '.'), ('All', 'DET'), ('of', 'ADP'), ('the', 'DET'), ('changes', 'NOUN'), ('require', 'VERB'), ('regulatory', 'ADJ'), ('approval', 'NOUN'), (',', '.'), ('which', 'DET'), ('*T*-1', 'X'), ('is', 'VERB'), ('expected', 'VERB'), ('*-129', 'CONJ'), ('shortly', 'ADV'), ('.', '.'), ('He', 'PRON'), ('has', 'VERB'), ('promised', 'CONJ'), ('stiffer', 'CONJ'), ('fines', 'NOUN'), (',', '.'), ('though', 'ADP'), ('the', 'DET'), ('size', 'NOUN'), ('of', 'ADP'), ('penalties', 'NOUN'), ('sought', 'VERB'), ('*', 'X'), ('by', 'ADP'), ('OSHA', 'NOUN'), ('have', 'VERB'), ('been', 'VERB'), ('rising', 'VERB'), ('in', 'ADP'), ('recent', 'ADJ'), ('years', 'NOUN'), ('even', 'ADV'), ('before', 'ADP'), ('he', 'PRON'), ('took', 'VERB'), ('office', 'NOUN'), ('this', 'DET'), ('year', 'NOUN'), ('.', '.'), ('Mr.', 'NOUN'), ('Phelan', 'NOUN'), ('said', 'VERB'), ('0', 'X'), ('the', 'DET'), ('Big', 'NOUN'), ('Board', 'NOUN'), ('is', 'VERB'), ('likely', 'ADJ'), ('*-1', 'X'), ('to', 'PRT'), ('study', 'NOUN'), ('the', 'DET'), ('program-trading', 'ADJ'), ('issue', 'NOUN'), ('.', '.'), ('Sales', 'NOUN'), ('rose', 'VERB'), ('4', 'NUM'), ('%', 'NOUN'), ('to', 'PRT'), ('$', '.'), ('3.28', 'CONJ'), ('billion', 'NUM'), ('*U*', 'X'), ('from', 'ADP'), ('$', '.'), ('3.16', 'CONJ'), ('billion', 'NUM'), ('*U*', 'X'), ('.', '.'), ('They', 'PRON'), ('succeed', 'VERB'), ('Daniel', 'NOUN'), ('M.', 'NOUN'), ('Rexinger', 'CONJ'), (',', '.'), ('retired', 'VERB'), ('Circuit', 'NOUN'), ('City', 'NOUN'), ('executive', 'NOUN'), ('vice', 'NOUN'), ('president', 'NOUN'), (',', '.'), ('and', 'CONJ'), ('Robert', 'NOUN'), ('R.', 'NOUN'), ('Glauber', 'CONJ'), (',', '.'), ('U.S.', 'NOUN'), ('Treasury', 'NOUN'), ('undersecretary', 'NOUN'), (',', '.'), ('on', 'ADP'), ('the', 'DET'), ('12-member', 'CONJ'), ('board', 'NOUN'), ('.', '.'), ('``', '.'), ('Even', 'ADV'), ('the', 'DET'), ('7.2', 'NUM'), ('%', 'NOUN'), ('return', 'NOUN'), ('from', 'ADP'), ('the', 'DET'), ('risk-free', 'CONJ'), ('three-month', 'ADJ'), ('Treasury', 'NOUN'), ('bill', 'NOUN'), ('has', 'VERB'), ('easily', 'ADV'), ('outdistanced', 'CONJ'), ('the', 'DET'), ('4.1', 'NUM'), ('%', 'NOUN'), ('return', 'NOUN'), ('from', 'ADP'), ('junk', 'NOUN'), ('bonds', 'NOUN'), (',', '.'), (\"''\", '.'), ('wrote', 'VERB'), ('*T*-1', 'X'), ('Moody', 'NOUN'), (\"'s\", 'PRT'), ('economist', 'NOUN'), ('John', 'NOUN'), ('Lonski', 'CONJ'), ('in', 'ADP'), ('yesterday', 'NOUN'), (\"'s\", 'PRT'), ('market', 'NOUN'), ('report', 'NOUN'), ('.', '.'), ('In', 'ADP'), ('most', 'ADJ'), ('of', 'ADP'), ('the', 'DET'), ('British', 'ADJ'), ('transactions', 'NOUN'), (',', '.'), ('the', 'DET'), ('municipalities', 'NOUN'), ('agreed', 'VERB'), ('*-1', 'X'), ('to', 'PRT'), ('make', 'VERB'), ('floating-rate', 'ADJ'), ('payments', 'NOUN'), ('to', 'PRT'), ('banks', 'NOUN'), (',', '.'), ('which', 'DET'), ('*T*-62', 'X'), ('would', 'VERB'), ('make', 'VERB'), ('fixed-rate', 'ADJ'), ('payments', 'NOUN'), ('.', '.'), ('He', 'PRON'), ('said', 'VERB'), ('0', 'X'), ('USX', 'NOUN'), ('also', 'ADV'), ('appeared', 'VERB'), ('*-1', 'X'), ('to', 'PRT'), ('sell', 'VERB'), ('a', 'DET'), ('richer', 'CONJ'), ('mix', 'NOUN'), ('of', 'ADP'), ('steel', 'NOUN'), ('products', 'NOUN'), (',', '.'), ('such', 'ADJ'), ('as', 'ADP'), ('the', 'DET'), ('more', 'ADJ'), ('profitable', 'ADJ'), ('pipe', 'CONJ'), ('and', 'CONJ'), ('galvanized', 'CONJ'), ('coated', 'CONJ'), ('sheet', 'NOUN'), (',', '.'), ('than', 'ADP'), ('lower-priced', 'CONJ'), ('structural', 'CONJ'), ('goods', 'NOUN'), ('.', '.'), ('Says', 'VERB'), ('*ICH*-1', 'X'), ('Kathryn', 'CONJ'), ('McAuley', 'CONJ'), (',', '.'), ('an', 'DET'), ('analyst', 'NOUN'), ('at', 'ADP'), ('First', 'NOUN'), ('Manhattan', 'NOUN'), ('Co.', 'NOUN'), (':', '.'), ('``', '.'), ('This', 'DET'), ('is', 'VERB'), ('the', 'DET'), ('greatest', 'ADJ'), ('acquisition', 'NOUN'), ('challenge', 'NOUN'), ('0', 'X'), ('he', 'PRON'), ('has', 'VERB'), ('faced', 'VERB'), ('*T*-2', 'X'), ('.', '.'), ('The', 'DET'), ('ultimate', 'ADJ'), ('goal', 'NOUN'), ('of', 'ADP'), ('any', 'DET'), ('investor', 'NOUN'), ('is', 'VERB'), ('a', 'DET'), ('profit', 'NOUN'), ('motive', 'NOUN'), (',', '.'), ('and', 'CONJ'), ('regulators', 'NOUN'), ('should', 'VERB'), ('not', 'ADV'), ('concern', 'NOUN'), ('themselves', 'PRON'), ('with', 'ADP'), ('whether', 'ADP'), ('investors', 'NOUN'), ('are', 'VERB'), ('sufficiently', 'CONJ'), ('focused', 'VERB'), ('on', 'ADP'), ('the', 'DET'), ('long', 'ADJ'), ('term', 'NOUN'), ('.', '.'), ('The', 'DET'), ('group', 'NOUN'), ('says', 'VERB'), ('0', 'X'), ('standardized', 'ADJ'), ('achievement', 'NOUN'), ('test', 'NOUN'), ('scores', 'NOUN'), ('are', 'VERB'), ('greatly', 'ADV'), ('inflated', 'CONJ'), ('because', 'ADP'), ('teachers', 'NOUN'), ('often', 'ADV'), ('``', '.'), ('teach', 'VERB'), ('the', 'DET'), ('test', 'NOUN'), (\"''\", '.'), ('as', 'ADP'), ('Mrs.', 'NOUN'), ('Yeargin', 'NOUN'), ('did', 'VERB'), ('*?*', 'X'), (',', '.'), ('although', 'ADP'), ('most', 'ADJ'), ('are', 'VERB'), ('never', 'ADV'), ('caught', 'VERB'), ('*-1', 'X'), ('.', '.'), ('For', 'ADP'), ('the', 'DET'), ('fifth', 'ADJ'), ('consecutive', 'ADJ'), ('month', 'NOUN'), (',', '.'), ('purchasing', 'VERB'), ('managers', 'NOUN'), ('said', 'VERB'), ('0', 'X'), ('prices', 'NOUN'), ('for', 'ADP'), ('the', 'DET'), ('goods', 'NOUN'), ('0', 'X'), ('they', 'PRON'), ('purchased', 'VERB'), ('*T*-1', 'X'), ('fell', 'VERB'), ('.', '.'), ('The', 'DET'), ('latest', 'ADJ'), ('two', 'NUM'), ('funds', 'NOUN'), ('were', 'VERB'), ('assembled', 'VERB'), ('*-42', 'X'), ('jointly', 'ADV'), ('by', 'ADP'), ('Goldman', 'NOUN'), (',', '.'), ('Sachs', 'NOUN'), ('&', 'CONJ'), ('Co.', 'NOUN'), ('of', 'ADP'), ('the', 'DET'), ('U.S.', 'NOUN'), ('and', 'CONJ'), ('Japan', 'NOUN'), (\"'s\", 'PRT'), ('Daiwa', 'NOUN'), ('Securities', 'NOUN'), ('Co', 'NOUN'), ('.', '.'), ('Buick', 'NOUN'), ('approached', 'CONJ'), ('American', 'ADJ'), ('Express', 'NOUN'), ('about', 'ADP'), ('a', 'DET'), ('joint', 'ADJ'), ('promotion', 'NOUN'), ('because', 'ADP'), ('its', 'PRON'), ('card', 'NOUN'), ('holders', 'NOUN'), ('generally', 'ADV'), ('have', 'VERB'), ('a', 'DET'), ('``', '.'), ('good', 'ADJ'), ('credit', 'NOUN'), ('history', 'NOUN'), (\"''\", '.'), ('and', 'CONJ'), ('are', 'VERB'), ('``', '.'), ('good', 'ADJ'), ('at', 'ADP'), ('*', 'X'), ('making', 'VERB'), ('payments', 'NOUN'), (',', '.'), (\"''\", '.'), ('says', 'VERB'), ('*T*-1', 'X'), ('a', 'DET'), ('spokeswoman', 'NOUN'), ('for', 'ADP'), ('the', 'DET'), ('division', 'NOUN'), ('.', '.'), ('*-1', 'X'), ('Asked', 'VERB'), ('*-2', 'X'), ('whether', 'ADP'), ('the', 'DET'), ('bidding', 'NOUN'), ('flap', 'NOUN'), ('would', 'VERB'), ('hurt', 'VERB'), ('U.S.-Japan', 'CONJ'), ('relations', 'NOUN'), (',', '.'), ('Mr.', 'NOUN'), ('Yamamoto', 'NOUN'), ('said', 'VERB'), (',', '.'), ('``', '.'), ('this', 'DET'), ('will', 'VERB'), ('be', 'VERB'), ('a', 'DET'), ('minus', 'CONJ'), ('factor', 'NOUN'), ('.', '.'), (\"''\", '.'), ('As', 'ADP'), ('a', 'DET'), ('result', 'NOUN'), (',', '.'), ('the', 'DET'), ('market', 'NOUN'), (\"'s\", 'PRT'), ('dividend', 'NOUN'), ('yield', 'VERB'), ('--', '.'), ('dividends', 'NOUN'), ('as', 'ADP'), ('a', 'DET'), ('percentage', 'NOUN'), ('of', 'ADP'), ('price', 'NOUN'), ('--', '.'), ('has', 'VERB'), ('slid', 'VERB'), ('to', 'PRT'), ('a', 'DET'), ('level', 'NOUN'), ('that', 'ADP'), ('*T*-232', 'CONJ'), ('is', 'VERB'), ('fairly', 'ADV'), ('low', 'ADJ'), ('and', 'CONJ'), ('unenticing', 'CONJ'), ('by', 'ADP'), ('historical', 'ADJ'), ('standards', 'NOUN'), ('.', '.'), ('More', 'ADV'), ('often', 'ADV'), ('than', 'ADP'), ('not', 'ADV'), (',', '.'), ('ringers', 'NOUN'), ('think', 'VERB'), ('of', 'ADP'), ('the', 'DET'), ('church', 'NOUN'), ('as', 'ADP'), ('something', 'NOUN'), ('stuck', 'CONJ'), ('*', 'X'), ('on', 'ADP'), ('the', 'DET'), ('bottom', 'NOUN'), ('of', 'ADP'), ('the', 'DET'), ('belfry', 'NOUN'), ('.', '.'), ('This', 'DET'), ('trial', 'NOUN'), ('is', 'VERB'), ('expected', 'VERB'), ('*-1', 'X'), ('to', 'PRT'), ('last', 'ADJ'), ('five', 'NUM'), ('weeks', 'NOUN'), ('.', '.'), ('Campbell', 'NOUN'), ('Soup', 'NOUN'), ('forced', 'VERB'), ('out', 'PRT'), ('its', 'PRON'), ('president', 'NOUN'), ('and', 'CONJ'), ('chief', 'NOUN'), ('executive', 'NOUN'), (',', '.'), ('R.', 'NOUN'), ('Gordon', 'NOUN'), ('McGovern', 'NOUN'), (',', '.'), ('the', 'DET'), ('strongest', 'ADJ'), ('indication', 'NOUN'), ('*ICH*-1', 'X'), ('yet', 'ADV'), ('that', 'ADP'), ('the', 'DET'), ('Dorrance', 'NOUN'), ('family', 'NOUN'), ('plans', 'VERB'), ('*', 'X'), ('to', 'PRT'), ('take', 'VERB'), ('charge', 'NOUN'), ('of', 'ADP'), ('*', 'X'), ('reshaping', 'VERB'), ('the', 'DET'), ('troubled', 'ADJ'), ('food', 'NOUN'), ('company', 'NOUN'), ('.', '.'), ('Besides', 'ADP'), (',', '.'), ('Eggers', 'NOUN'), ('says', 'VERB'), ('0', 'X'), ('*T*-1', 'X'), (',', '.'), ('grain', 'NOUN'), ('elevators', 'NOUN'), ('are', 'VERB'), ('worth', 'ADJ'), ('*', 'X'), ('preserving', 'VERB'), ('for', 'ADP'), ('aesthetic', 'CONJ'), ('reasons', 'NOUN'), ('--', '.'), ('one', 'NUM'), ('famed', 'CONJ'), ('architect', 'NOUN'), ('compared', 'VERB'), ('them', 'PRON'), ('to', 'PRT'), ('the', 'DET'), ('pyramids', 'NOUN'), ('of', 'ADP'), ('Egypt', 'NOUN'), ('.', '.'), ('He', 'PRON'), ('declined', 'VERB'), ('*-1', 'X'), ('to', 'PRT'), ('discuss', 'VERB'), ('other', 'ADJ'), ('terms', 'NOUN'), ('of', 'ADP'), ('the', 'DET'), ('issue', 'NOUN'), ('.', '.'), ('*', 'X'), ('SWITCHING', 'CONJ'), ('TO', 'CONJ'), ('THE', 'DET'), ('DEFENSE', 'CONJ'), (':', '.'), ('Ratners', 'NOUN'), ('Group', 'NOUN'), ('PLC', 'NOUN'), (',', '.'), ('a', 'DET'), ('fast-growing', 'CONJ'), (',', '.'), ('acquisition-minded', 'CONJ'), ('London-based', 'ADJ'), ('jeweler', 'CONJ'), (',', '.'), ('raised', 'VERB'), ('its', 'PRON'), ('price', 'NOUN'), ('for', 'ADP'), ('Seattle-based', 'CONJ'), ('specialty', 'NOUN'), ('jeweler', 'CONJ'), ('Weisfield', 'NOUN'), (\"'s\", 'PRT'), ('Inc.', 'NOUN'), ('to', 'PRT'), ('$', '.'), ('57.50', 'NUM'), ('*U*', 'X'), ('a', 'DET'), ('share', 'NOUN'), (',', '.'), ('or', 'CONJ'), ('$', '.'), ('62.1', 'CONJ'), ('million', 'NUM'), ('*U*', 'X'), (',', '.'), ('from', 'ADP'), ('$', '.'), ('50', 'NUM'), ('*U*', 'X'), ('a', 'DET'), ('share', 'NOUN'), (',', '.'), ('or', 'CONJ'), ('$', '.'), ('55', 'NUM'), ('million', 'NUM'), ('*U*', 'X'), (',', '.'), ('after', 'ADP'), ('another', 'DET'), ('concern', 'NOUN'), ('said', 'VERB'), ('0', 'X'), ('it', 'PRON'), ('would', 'VERB'), ('be', 'VERB'), ('prepared', 'VERB'), ('*-1', 'X'), ('to', 'PRT'), ('outbid', 'CONJ'), ('Ratners', 'NOUN'), (\"'s\", 'PRT'), ('initial', 'ADJ'), ('offer', 'NOUN'), ('.', '.'), ('It', 'PRON'), ('plans', 'VERB'), ('*-1', 'X'), ('to', 'PRT'), ('sell', 'VERB'), ('the', 'DET'), ('ad', 'NOUN'), ('time', 'NOUN'), ('to', 'PRT'), ('its', 'PRON'), ('clients', 'NOUN'), ('at', 'ADP'), ('a', 'DET'), ('discount', 'NOUN'), ('.', '.'), ('While', 'ADP'), ('researchers', 'NOUN'), ('believe', 'VERB'), ('0', 'X'), ('such', 'ADJ'), ('transplants', 'NOUN'), ('could', 'VERB'), ('help', 'VERB'), ('*-1', 'X'), ('treat', 'VERB'), ('diseases', 'NOUN'), ('like', 'ADP'), ('Alzheimer', 'NOUN'), (\"'s\", 'PRT'), (',', '.'), ('anti-abortionists', 'NOUN'), ('oppose', 'VERB'), ('the', 'DET'), ('research', 'NOUN'), ('.', '.'), ('Economists', 'NOUN'), ('say', 'VERB'), ('0', 'X'), ('a', 'DET'), ('buildup', 'CONJ'), ('in', 'ADP'), ('inventories', 'NOUN'), ('can', 'VERB'), ('provoke', 'CONJ'), ('cutbacks', 'NOUN'), ('in', 'ADP'), ('production', 'NOUN'), ('that', 'ADP'), ('*T*-48', 'X'), ('can', 'VERB'), ('lead', 'VERB'), ('to', 'PRT'), ('a', 'DET'), ('recession', 'NOUN'), ('.', '.'), ('*-1', 'X'), ('Bucking', 'CONJ'), ('the', 'DET'), ('market', 'NOUN'), ('trend', 'NOUN'), (',', '.'), ('an', 'DET'), ('issue', 'NOUN'), ('of', 'ADP'), ('$', '.'), ('130', 'NUM'), ('million', 'NUM'), ('*U*', 'X'), ('general', 'ADJ'), ('obligation', 'NOUN'), ('distributable', 'ADJ'), ('state', 'NOUN'), ('aid', 'NOUN'), ('bonds', 'NOUN'), ('from', 'ADP'), ('Detroit', 'NOUN'), (',', '.'), ('Mich.', 'NOUN'), (',', '.'), ('apparently', 'ADV'), ('drew', 'CONJ'), ('solid', 'ADJ'), ('investor', 'NOUN'), ('interest', 'NOUN'), ('.', '.'), ('By', 'ADP'), ('*', 'X'), ('addressing', 'CONJ'), ('those', 'DET'), ('problems', 'NOUN'), (',', '.'), ('Mr.', 'NOUN'), ('Maxwell', 'NOUN'), ('said', 'VERB'), ('0', 'X'), ('*T*-1', 'X'), (',', '.'), ('the', 'DET'), ('new', 'ADJ'), ('funds', 'NOUN'), ('have', 'VERB'), ('become', 'VERB'), ('``', '.'), ('extremely', 'ADV'), ('attractive', 'ADJ'), ('to', 'PRT'), ('Japanese', 'ADJ'), ('and', 'CONJ'), ('other', 'ADJ'), ('investors', 'NOUN'), ('outside', 'ADP'), ('the', 'DET'), ('U.S.', 'NOUN'), ('.', '.'), (\"''\", '.'), ('*-1', 'X'), ('Rated', 'CONJ'), ('*-2', 'X'), ('triple-A', 'ADJ'), ('by', 'ADP'), ('both', 'DET'), ('Moody', 'NOUN'), (\"'s\", 'PRT'), ('Investors', 'NOUN'), ('Service', 'NOUN'), ('Inc.', 'NOUN'), ('and', 'CONJ'), ('Standard', 'NOUN'), ('&', 'CONJ'), ('Poor', 'NOUN'), (\"'s\", 'PRT'), ('Corp.', 'NOUN'), (',', '.'), ('the', 'DET'), ('issue', 'NOUN'), ('will', 'VERB'), ('be', 'VERB'), ('sold', 'VERB'), ('*-1', 'X'), ('through', 'ADP'), ('underwriters', 'NOUN'), ('led', 'VERB'), ('*', 'X'), ('by', 'ADP'), ('Salomon', 'NOUN'), ('Brothers', 'NOUN'), ('Inc', 'NOUN'), ('.', '.'), ('``', '.'), ('I', 'PRON'), ('live', 'VERB'), ('in', 'ADP'), ('hopes', 'NOUN'), ('that', 'ADP'), ('the', 'DET'), ('ringers', 'NOUN'), ('themselves', 'PRON'), ('will', 'VERB'), ('be', 'VERB'), ('drawn', 'VERB'), ('*-139', 'CONJ'), ('into', 'ADP'), ('that', 'DET'), ('fuller', 'CONJ'), ('life', 'NOUN'), ('.', '.'), (\"''\", '.'), ('Concurrent', 'CONJ'), ('with', 'ADP'), ('Mr.', 'NOUN'), ('Nichol', 'NOUN'), (\"'s\", 'PRT'), ('appointment', 'NOUN'), (',', '.'), ('Comprehensive', 'NOUN'), ('Care', 'NOUN'), ('moved', 'VERB'), ('its', 'PRON'), ('corporate', 'ADJ'), ('headquarters', 'NOUN'), ('from', 'ADP'), ('Irvine', 'NOUN'), (',', '.'), ('Calif.', 'NOUN'), (',', '.'), ('to', 'PRT'), ('St.', 'NOUN'), ('Louis', 'NOUN'), (',', '.'), ('where', 'ADV'), ('the', 'DET'), ('company', 'NOUN'), ('maintained', 'VERB'), ('its', 'PRON'), ('contract', 'NOUN'), ('services', 'NOUN'), ('offices', 'NOUN'), ('*T*-1', 'X'), ('.', '.'), ('And', 'CONJ'), ('many', 'ADJ'), ('emerging', 'CONJ'), ('markets', 'NOUN'), ('have', 'VERB'), ('outpaced', 'CONJ'), ('more', 'ADJ'), ('mature', 'VERB'), ('markets', 'NOUN'), (',', '.'), ('such', 'ADJ'), ('as', 'ADP'), ('the', 'DET'), ('U.S.', 'NOUN'), ('and', 'CONJ'), ('Japan', 'NOUN'), ('.', '.'), ('Common', 'NOUN'), ('shares', 'NOUN'), ('outstanding', 'ADJ'), (':', '.'), ('19.6', 'NUM'), ('million', 'NUM'), ('In', 'ADP'), ('the', 'DET'), ('past', 'ADJ'), ('five', 'NUM'), ('years', 'NOUN'), (',', '.'), ('Japanese', 'ADJ'), ('companies', 'NOUN'), ('have', 'VERB'), ('tripled', 'VERB'), ('their', 'PRON'), ('commitments', 'NOUN'), ('in', 'ADP'), ('Asia', 'NOUN'), ('to', 'PRT'), ('$', '.'), ('5.57', 'CONJ'), ('billion', 'NUM'), ('*U*', 'X'), ('.', '.'), ('Ed', 'NOUN'), ('Macheski', 'CONJ'), (',', '.'), ('a', 'DET'), ('Wilton', 'CONJ'), (',', '.'), ('Conn.', 'NOUN'), (',', '.'), ('money', 'NOUN'), ('manager', 'NOUN'), ('who', 'PRON'), ('*T*-120', 'CONJ'), ('follows', 'VERB'), ('bank', 'NOUN'), ('stocks', 'NOUN'), (',', '.'), ('said', 'VERB'), ('0', 'X'), ('the', 'DET'), ('announcement', 'NOUN'), ('effectively', 'ADV'), ('gives', 'VERB'), ('the', 'DET'), ('deal', 'NOUN'), ('``', '.'), ('the', 'DET'), ('green', 'ADJ'), ('light', 'ADJ'), ('.', '.'), (\"''\", '.'), ('There', 'DET'), ('are', 'VERB'), ('no', 'DET'), ('signs', 'NOUN'), (',', '.'), ('however', 'ADV'), (',', '.'), ('of', 'ADP'), ('China', 'NOUN'), (\"'s\", 'PRT'), ('yielding', 'VERB'), ('on', 'ADP'), ('key', 'ADJ'), ('issues', 'NOUN'), ('.', '.'), ('By', 'ADP'), ('*-3', 'X'), ('using', 'VERB'), ('them', 'PRON'), (',', '.'), ('teachers', 'NOUN'), ('--', '.'), ('with', 'ADP'), ('administrative', 'ADJ'), ('blessing', 'NOUN'), ('--', '.'), ('telegraph', 'NOUN'), ('to', 'PRT'), ('students', 'NOUN'), ('beforehand', 'CONJ'), ('the', 'DET'), ('precise', 'CONJ'), ('areas', 'NOUN'), ('on', 'ADP'), ('which', 'DET'), ('a', 'DET'), ('test', 'NOUN'), ('will', 'VERB'), ('concentrate', 'VERB'), ('*T*-1', 'X'), (',', '.'), ('and', 'CONJ'), ('sometimes', 'ADV'), ('give', 'VERB'), ('away', 'ADV'), ('a', 'DET'), ('few', 'ADJ'), ('exact', 'ADJ'), ('questions', 'NOUN'), ('and', 'CONJ'), ('answers', 'NOUN'), ('.', '.'), ('Montedison', 'NOUN'), ('currently', 'ADV'), ('owns', 'VERB'), ('about', 'ADP'), ('72', 'NUM'), ('%', 'NOUN'), ('of', 'ADP'), ('Erbamont', 'NOUN'), (\"'s\", 'PRT'), ('common', 'ADJ'), ('shares', 'NOUN'), ('outstanding', 'ADJ'), ('.', '.'), ('Savin', 'NOUN'), ('cited', 'VERB'), ('``', '.'), ('a', 'DET'), ('general', 'ADJ'), ('softening', 'VERB'), ('in', 'ADP'), ('the', 'DET'), ('demand', 'NOUN'), ('for', 'ADP'), ('office', 'NOUN'), ('products', 'NOUN'), ('in', 'ADP'), ('the', 'DET'), ('market', 'NOUN'), ('segments', 'NOUN'), ('in', 'ADP'), ('which', 'DET'), ('Savin', 'NOUN'), ('competes', 'VERB'), ('*T*-1', 'X'), ('.', '.'), ('We', 'PRON'), (\"'re\", 'VERB'), ('seeing', 'VERB'), ('it', 'PRON'), ('partly', 'ADV'), ('because', 'ADP'), ('older', 'ADJ'), ('vintages', 'NOUN'), ('are', 'VERB'), ('growing', 'VERB'), ('more', 'ADV'), ('scarce', 'CONJ'), ('.', '.'), (\"''\", '.'), ('``', '.'), ('Public', 'NOUN'), ('policy', 'NOUN'), ('favors', 'CONJ'), ('the', 'DET'), ('development', 'NOUN'), ('and', 'CONJ'), ('marketing', 'NOUN'), ('of', 'ADP'), ('beneficial', 'ADJ'), ('new', 'ADJ'), ('drugs', 'NOUN'), (',', '.'), ('even', 'ADV'), ('though', 'ADP'), ('some', 'DET'), ('risks', 'NOUN'), (',', '.'), ('perhaps', 'ADV'), ('serious', 'ADJ'), ('ones', 'NOUN'), (',', '.'), ('might', 'VERB'), ('accompany', 'CONJ'), ('their', 'PRON'), ('introduction', 'NOUN'), ('because', 'ADP'), ('drugs', 'NOUN'), ('can', 'VERB'), ('save', 'VERB'), ('lives', 'VERB'), ('and', 'CONJ'), ('reduce', 'VERB'), ('pain', 'CONJ'), ('and', 'CONJ'), ('suffering', 'NOUN'), (',', '.'), (\"''\", '.'), ('the', 'DET'), ('unanimous', 'CONJ'), ('court', 'NOUN'), ('said', 'VERB'), ('*T*-1', 'X'), ('.', '.'), ('Investors', 'NOUN'), ('switched', 'VERB'), ('trading', 'NOUN'), ('focus', 'VERB'), ('quickly', 'ADV'), ('as', 'ADP'), ('they', 'PRON'), ('did', 'VERB'), ('Tuesday', 'NOUN'), (',', '.'), ('*-1', 'X'), ('reflecting', 'VERB'), ('uncertainty', 'NOUN'), ('about', 'ADP'), ('long-term', 'ADJ'), ('commitments', 'NOUN'), ('to', 'PRT'), ('any', 'DET'), ('issue', 'NOUN'), ('or', 'CONJ'), ('sector', 'NOUN'), (',', '.'), ('traders', 'NOUN'), ('said', 'VERB'), ('0', 'X'), ('*T*-2', 'X'), ('.', '.'), ('The', 'DET'), ('company', 'NOUN'), ('said', 'VERB'), ('0', 'X'), ('Mr.', 'NOUN'), ('Stronach', 'NOUN'), ('will', 'VERB'), ('personally', 'CONJ'), ('direct', 'ADJ'), ('the', 'DET'), ('restructuring', 'NOUN'), (',', '.'), ('*-1', 'X'), ('assisted', 'CONJ'), ('*-2', 'X'), ('by', 'ADP'), ('Manfred', 'CONJ'), ('Gingl', 'CONJ'), (',', '.'), ('president', 'NOUN'), ('and', 'CONJ'), ('chief', 'NOUN'), ('executive', 'NOUN'), ('.', '.'), ('The', 'DET'), ('Sacramento-based', 'CONJ'), ('S&L', 'NOUN'), (',', '.'), ('which', 'DET'), ('*T*-110', 'CONJ'), ('has', 'VERB'), ('44', 'NUM'), ('branch', 'NOUN'), ('offices', 'NOUN'), ('in', 'ADP'), ('north', 'CONJ'), ('central', 'ADJ'), ('California', 'NOUN'), (',', '.'), ('had', 'VERB'), ('assets', 'NOUN'), ('of', 'ADP'), ('$', '.'), ('2.4', 'NUM'), ('billion', 'NUM'), ('*U*', 'X'), ('at', 'ADP'), ('the', 'DET'), ('end', 'NOUN'), ('of', 'ADP'), ('September', 'NOUN'), ('.', '.'), ('And', 'CONJ'), ('I', 'PRON'), ('apparently', 'ADV'), ('had', 'VERB'), ('no', 'DET'), ('right', 'NOUN'), ('*', 'X'), ('to', 'PRT'), ('print', 'VERB'), ('hither', 'CONJ'), ('what', 'PRON'), ('the', 'DET'), ('Voice', 'NOUN'), ('was', 'VERB'), ('booming', 'VERB'), ('*T*-2', 'X'), ('to', 'PRT'), ('yon', 'CONJ'), ('.', '.'), ('*-1', 'X'), ('To', 'PRT'), ('offset', 'VERB'), ('the', 'DET'), ('reduction', 'NOUN'), (',', '.'), ('Congress', 'NOUN'), ('approved', 'VERB'), ('a', 'DET'), ('$', '.'), ('20,000', 'NUM'), ('*U*', 'X'), ('fee', 'NOUN'), ('that', 'ADP'), ('investors', 'NOUN'), ('and', 'CONJ'), ('companies', 'NOUN'), ('will', 'VERB'), ('have', 'VERB'), ('*-3', 'X'), ('to', 'PRT'), ('pay', 'VERB'), ('*T*-2', 'X'), ('each', 'DET'), ('time', 'NOUN'), ('0', 'X'), ('they', 'PRON'), ('make', 'VERB'), ('required', 'VERB'), ('filings', 'NOUN'), ('to', 'PRT'), ('antitrust', 'ADJ'), ('regulators', 'NOUN'), ('about', 'ADP'), ('mergers', 'NOUN'), (',', '.'), ('acquisitions', 'NOUN'), ('and', 'CONJ'), ('certain', 'ADJ'), ('other', 'ADJ'), ('transactions', 'NOUN'), ('*T*-4', 'X'), ('.', '.'), ('Still', 'ADV'), (',', '.'), ('some', 'DET'), ('market', 'NOUN'), ('analysts', 'NOUN'), ('say', 'VERB'), ('0', 'X'), ('the', 'DET'), ('current', 'ADJ'), ('3.3', 'NUM'), ('%', 'NOUN'), ('reading', 'NOUN'), ('is', 'VERB'), (\"n't\", 'ADV'), ('as', 'ADP'), ('troublesome', 'CONJ'), ('as', 'ADP'), ('it', 'PRON'), ('might', 'VERB'), ('have', 'VERB'), ('been', 'VERB'), ('*?*', 'X'), ('in', 'ADP'), ('years', 'NOUN'), ('past', 'NOUN'), ('.', '.'), ('In', 'ADP'), ('1970', 'NUM'), (',', '.'), ('Mr.', 'NOUN'), ('Hahn', 'NOUN'), ('called', 'VERB'), ('in', 'ADP'), ('state', 'NOUN'), ('police', 'NOUN'), ('to', 'PRT'), ('arrest', 'CONJ'), ('student', 'NOUN'), ('protesters', 'NOUN'), ('who', 'PRON'), ('*T*-3', 'X'), ('were', 'VERB'), ('occupying', 'CONJ'), ('a', 'DET'), ('university', 'NOUN'), ('building', 'NOUN'), ('.', '.'), ('Nevertheless', 'ADV'), (',', '.'), ('said', 'VERB'), ('*T*-1', 'X'), ('Brenda', 'CONJ'), ('Malizia', 'CONJ'), ('Negus', 'CONJ'), (',', '.'), ('editor', 'NOUN'), ('of', 'ADP'), ('Money', 'NOUN'), ('Fund', 'NOUN'), ('Report', 'NOUN'), (',', '.'), ('yields', 'NOUN'), ('``', '.'), ('may', 'VERB'), ('blip', 'CONJ'), ('up', 'ADV'), ('again', 'ADV'), ('before', 'ADP'), ('they', 'PRON'), ('blip', 'CONJ'), ('down', 'ADV'), (\"''\", '.'), ('because', 'ADP'), ('of', 'ADP'), ('recent', 'ADJ'), ('rises', 'CONJ'), ('in', 'ADP'), ('short-term', 'ADJ'), ('interest', 'NOUN'), ('rates', 'NOUN'), ('.', '.'), ('Faulding', 'NOUN'), ('said', 'VERB'), ('0', 'X'), ('it', 'PRON'), ('owns', 'VERB'), ('33', 'NUM'), ('%', 'NOUN'), ('of', 'ADP'), ('Moleculon', 'NOUN'), (\"'s\", 'PRT'), ('voting', 'NOUN'), ('stock', 'NOUN'), ('and', 'CONJ'), ('has', 'VERB'), ('an', 'DET'), ('agreement', 'NOUN'), ('*', 'X'), ('to', 'PRT'), ('acquire', 'VERB'), ('an', 'DET'), ('additional', 'ADJ'), ('19', 'NUM'), ('%', 'NOUN'), ('.', '.'), ('The', 'DET'), ('Bush', 'NOUN'), ('administration', 'NOUN'), ('has', 'VERB'), ('threatened', 'VERB'), ('*-1', 'X'), ('to', 'PRT'), ('veto', 'NOUN'), ('such', 'ADJ'), ('a', 'DET'), ('bill', 'NOUN'), ('because', 'ADP'), ('of', 'ADP'), ('what', 'PRON'), ('it', 'PRON'), ('views', 'NOUN'), ('*T*-2', 'X'), ('as', 'ADP'), ('an', 'DET'), ('undesirable', 'CONJ'), ('intrusion', 'CONJ'), ('into', 'ADP'), ('the', 'DET'), ('affairs', 'NOUN'), ('of', 'ADP'), ('industry', 'NOUN'), (',', '.'), ('but', 'CONJ'), ('the', 'DET'), ('300-113', 'CONJ'), ('vote', 'NOUN'), ('suggests', 'VERB'), ('that', 'ADP'), ('supporters', 'NOUN'), ('have', 'VERB'), ('the', 'DET'), ('potential', 'ADJ'), ('0', 'X'), ('*', 'X'), ('to', 'PRT'), ('override', 'CONJ'), ('a', 'DET'), ('veto', 'NOUN'), ('*T*-3', 'X'), ('.', '.'), ('During', 'ADP'), ('the', 'DET'), ('current', 'ADJ'), ('crop', 'NOUN'), ('year', 'NOUN'), (',', '.'), ('Brazil', 'NOUN'), ('was', 'VERB'), ('expected', 'VERB'), ('*-1', 'X'), ('to', 'PRT'), ('produce', 'VERB'), ('6.9', 'NUM'), ('million', 'NUM'), ('tons', 'NOUN'), ('of', 'ADP'), ('sugar', 'NOUN'), (',', '.'), ('a', 'DET'), ('drop', 'NOUN'), ('from', 'ADP'), ('8.1', 'NUM'), ('million', 'NUM'), ('tons', 'NOUN'), ('in', 'ADP'), ('1988-89', 'CONJ'), ('.', '.'), ('They', 'PRON'), ('mature', 'VERB'), ('in', 'ADP'), ('2005', 'NUM'), (',', '.'), ('2009', 'NUM'), ('and', 'CONJ'), ('2029', 'NUM'), ('.', '.'), ('An', 'DET'), ('index', 'NOUN'), ('of', 'ADP'), ('economic', 'ADJ'), ('activity', 'NOUN'), ('drawn', 'VERB'), ('*', 'X'), ('from', 'ADP'), ('the', 'DET'), ('survey', 'NOUN'), ('stood', 'VERB'), ('last', 'ADJ'), ('month', 'NOUN'), ('at', 'ADP'), ('47.6', 'NUM'), ('%', 'NOUN'), (';', '.'), ('a', 'DET'), ('reading', 'NOUN'), ('above', 'ADP'), ('50', 'NUM'), ('%', 'NOUN'), ('would', 'VERB'), ('have', 'VERB'), ('indicated', 'VERB'), ('that', 'ADP'), ('the', 'DET'), ('manufacturing', 'NOUN'), ('sector', 'NOUN'), ('was', 'VERB'), ('improving', 'VERB'), ('.', '.'), ('Something', 'CONJ'), ('like', 'ADP'), ('one-third', 'NOUN'), ('of', 'ADP'), ('the', 'DET'), ('nation', 'NOUN'), (\"'s\", 'PRT'), ('60', 'NUM'), ('largest', 'ADJ'), ('cities', 'NOUN'), ('*ICH*-1', 'X'), ('are', 'VERB'), ('thinking', 'VERB'), ('about', 'ADP'), ('new', 'ADJ'), ('stadiums', 'NOUN'), (',', '.'), ('ranging', 'CONJ'), ('from', 'ADP'), ('Cleveland', 'NOUN'), ('to', 'PRT'), ('San', 'NOUN'), ('Antonio', 'NOUN'), ('and', 'CONJ'), ('St.', 'NOUN'), ('Petersburg', 'CONJ'), ('.', '.'), ('It', 'PRON'), ('also', 'ADV'), ('hopes', 'VERB'), ('for', 'ADP'), ('ultimate', 'ADJ'), ('gains', 'NOUN'), ('of', 'ADP'), ('as', 'ADP'), ('much', 'ADJ'), ('as', 'ADP'), ('$', '.'), ('300', 'NUM'), ('million', 'NUM'), ('*U*', 'X'), ('on', 'ADP'), ('equity', 'NOUN'), ('investments', 'NOUN'), ('in', 'ADP'), ('buy-outs', 'NOUN'), ('and', 'CONJ'), ('restructurings', 'CONJ'), ('.', '.'), ('A', 'DET'), ('Shearson', 'NOUN'), ('spokesman', 'NOUN'), ('had', 'VERB'), ('no', 'DET'), ('comment', 'NOUN'), ('.', '.'), ('There', 'DET'), (\"'s\", 'VERB'), ('never', 'ADV'), ('been', 'VERB'), ('an', 'DET'), ('exception', 'NOUN'), (',', '.'), (\"''\", '.'), ('says', 'VERB'), ('0', 'X'), ('*T*-1', 'X'), ('Gerald', 'NOUN'), ('W.', 'NOUN'), ('Perritt', 'CONJ'), (',', '.'), ('a', 'DET'), ('Chicago', 'NOUN'), ('investment', 'NOUN'), ('adviser', 'NOUN'), ('and', 'CONJ'), ('money', 'NOUN'), ('manager', 'NOUN'), (',', '.'), ('based', 'VERB'), ('on', 'ADP'), ('a', 'DET'), ('review', 'NOUN'), ('of', 'ADP'), ('six', 'NUM'), ('decades', 'NOUN'), ('of', 'ADP'), ('stock-market', 'NOUN'), ('data', 'NOUN'), ('.', '.'), ('The', 'DET'), ('March', 'NOUN'), ('delivery', 'NOUN'), (',', '.'), ('which', 'DET'), ('*T*-1', 'X'), ('has', 'VERB'), ('no', 'DET'), ('limits', 'NOUN'), (',', '.'), ('settled', 'VERB'), ('at', 'ADP'), ('14.53', 'CONJ'), ('cents', 'NOUN'), (',', '.'), ('up', 'ADV'), ('0.56', 'CONJ'), ('cent', 'NOUN'), ('a', 'DET'), ('pound', 'NOUN'), ('.', '.'), ('The', 'DET'), ('total', 'ADJ'), ('marks', 'NOUN'), ('the', 'DET'), ('sixth', 'ADJ'), ('consecutive', 'ADJ'), ('monthly', 'ADJ'), ('decline', 'NOUN'), ('.', '.'), ('``', '.'), ('After', 'ADP'), ('two', 'NUM'), ('months', 'NOUN'), ('of', 'ADP'), ('talks', 'NOUN'), (',', '.'), ('our', 'PRON'), ('rating', 'NOUN'), ('was', 'VERB'), ('maintained', 'VERB'), ('*-1', 'X'), ('.', '.'), (\"''\", '.'), ('``', '.'), ('Do', 'VERB'), ('you', 'PRON'), ('make', 'VERB'), ('sweatshirts', 'CONJ'), ('or', 'CONJ'), ('sparkplugs', 'CONJ'), ('?', '.'), ('The', 'DET'), ('judge', 'NOUN'), ('declined', 'VERB'), ('*-1', 'X'), ('to', 'PRT'), ('discuss', 'VERB'), ('his', 'PRON'), ('salary', 'NOUN'), ('in', 'ADP'), ('detail', 'CONJ'), (',', '.'), ('but', 'CONJ'), ('said', 'VERB'), (':', '.'), ('``', '.'), ('I', 'PRON'), (\"'m\", 'VERB'), ('going', 'VERB'), ('*-2', 'X'), ('to', 'PRT'), ('be', 'VERB'), ('a', 'DET'), ('high-priced', 'ADJ'), ('lawyer', 'NOUN'), ('.', '.'), (\"''\", '.'), ('Relations', 'NOUN'), ('between', 'ADP'), ('China', 'NOUN'), ('and', 'CONJ'), ('the', 'DET'), ('U.S.', 'NOUN'), ('have', 'VERB'), ('been', 'VERB'), ('tense', 'ADJ'), ('since', 'ADP'), ('June', 'NOUN'), ('7', 'NUM'), (',', '.'), ('when', 'ADV'), ('Chinese', 'ADJ'), ('dissident', 'CONJ'), ('Fang', 'NOUN'), ('Lizhi', 'CONJ'), ('and', 'CONJ'), ('his', 'PRON'), ('wife', 'NOUN'), (',', '.'), ('Li', 'NOUN'), ('Shuxian', 'CONJ'), (',', '.'), ('took', 'VERB'), ('refuge', 'CONJ'), ('in', 'ADP'), ('the', 'DET'), ('U.S.', 'NOUN'), ('Embassy', 'NOUN'), ('in', 'ADP'), ('Beijing', 'NOUN'), ('*T*-1', 'X'), ('.', '.'), ('How', 'ADV'), ('does', 'VERB'), ('a', 'DET'), ('nice', 'ADJ'), ('new', 'ADJ'), ('tax', 'NOUN'), (',', '.'), ('say', 'VERB'), ('5', 'NUM'), ('%', 'NOUN'), (',', '.'), ('on', 'ADP'), ('any', 'DET'), ('financial', 'ADJ'), ('transaction', 'NOUN'), ('sound', 'NOUN'), ('*T*-1', 'X'), ('?', '.'), ('He', 'PRON'), ('earned', 'VERB'), ('his', 'PRON'), ('doctorate', 'CONJ'), ('in', 'ADP'), ('nuclear', 'ADJ'), ('physics', 'NOUN'), ('from', 'ADP'), ('the', 'DET'), ('Massachusetts', 'NOUN'), ('Institute', 'NOUN'), ('of', 'ADP'), ('Technology', 'NOUN'), ('.', '.'), ('Propaganda', 'CONJ'), ('is', 'VERB'), ('just', 'ADV'), ('information', 'NOUN'), ('0', 'X'), ('*T*-1', 'X'), ('to', 'PRT'), ('support', 'VERB'), ('a', 'DET'), ('viewpoint', 'NOUN'), (',', '.'), ('and', 'CONJ'), ('the', 'DET'), ('beauty', 'NOUN'), ('of', 'ADP'), ('a', 'DET'), ('democracy', 'NOUN'), ('is', 'VERB'), ('that', 'ADP'), ('it', 'PRON'), ('enables', 'VERB'), ('you', 'PRON'), ('to', 'PRT'), ('hear', 'VERB'), ('or', 'CONJ'), ('read', 'VERB'), ('every', 'DET'), ('viewpoint', 'NOUN'), ('and', 'CONJ'), ('then', 'ADV'), ('make', 'VERB'), ('up', 'ADV'), ('your', 'PRON'), ('own', 'ADJ'), ('mind', 'VERB'), ('on', 'ADP'), ('an', 'DET'), ('issue', 'NOUN'), ('.', '.'), ('Also', 'ADV'), (',', '.'), ('Mr.', 'NOUN'), ('Canepa', 'NOUN'), ('received', 'VERB'), ('a', 'DET'), ('two-week', 'ADJ'), ('suspension', 'NOUN'), ('``', '.'), ('in', 'ADP'), ('a', 'DET'), ('principal', 'NOUN'), ('capacity', 'NOUN'), ('.', '.'), (\"''\", '.'), ('The', 'DET'), ('Nasdaq', 'NOUN'), ('100', 'NUM'), ('index', 'NOUN'), ('of', 'ADP'), ('the', 'DET'), ('biggest', 'ADJ'), ('nonfinancial', 'CONJ'), ('stocks', 'NOUN'), ('gained', 'VERB'), ('1.39', 'CONJ'), ('to', 'PRT'), ('446.62', 'CONJ'), ('.', '.'), ('``', '.'), ('When', 'ADV'), ('the', 'DET'), ('sell', 'VERB'), ('programs', 'NOUN'), ('hit', 'VERB'), ('*T*-1', 'X'), (',', '.'), ('you', 'PRON'), ('can', 'VERB'), ('hear', 'VERB'), ('the', 'DET'), ('order', 'NOUN'), ('printers', 'CONJ'), ('start', 'NOUN'), ('*-2', 'X'), ('to', 'PRT'), ('go', 'VERB'), (\"''\", '.'), ('on', 'ADP'), ('the', 'DET'), ('Big', 'NOUN'), ('Board', 'NOUN'), ('trading', 'NOUN'), ('floor', 'NOUN'), (',', '.'), ('says', 'VERB'), ('0', 'X'), ('*T*-3', 'X'), ('one', 'NUM'), ('specialist', 'NOUN'), ('there', 'DET'), ('.', '.'), ('Rep.', 'NOUN'), ('John', 'NOUN'), ('Dingell', 'NOUN'), (',', '.'), ('an', 'DET'), ('important', 'ADJ'), ('sponsor', 'NOUN'), ('of', 'ADP'), ('President', 'NOUN'), ('Bush', 'NOUN'), (\"'s\", 'PRT'), ('clean-air', 'ADJ'), ('bill', 'NOUN'), (',', '.'), ('plans', 'NOUN'), ('*-2', 'X'), ('to', 'PRT'), ('unveil', 'VERB'), ('a', 'DET'), ('surprise', 'NOUN'), ('proposal', 'NOUN'), ('that', 'ADP'), ('*T*-1', 'X'), ('would', 'VERB'), ('break', 'VERB'), ('with', 'ADP'), ('the', 'DET'), ('White', 'NOUN'), ('House', 'NOUN'), ('on', 'ADP'), ('a', 'DET'), ('centerpiece', 'CONJ'), ('issue', 'NOUN'), (':', '.'), ('acid', 'NOUN'), ('rain', 'NOUN'), ('.', '.'), ('Even', 'ADV'), ('before', 'ADP'), ('those', 'DET'), ('moves', 'NOUN'), ('added', 'VERB'), ('fuel', 'VERB'), (',', '.'), ('the', 'DET'), ('fires', 'CONJ'), ('of', 'ADP'), ('discontent', 'CONJ'), ('had', 'VERB'), ('been', 'VERB'), ('well', 'ADV'), ('stoked', 'CONJ'), ('*-1', 'X'), ('by', 'ADP'), ('the', 'DET'), ('highly', 'ADV'), ('publicized', 'VERB'), ('experience', 'NOUN'), ('in', 'ADP'), ('Japan', 'NOUN'), ('of', 'ADP'), ('one', 'NUM'), ('U.S.', 'NOUN'), ('investor', 'NOUN'), (',', '.'), ('T.', 'NOUN'), ('Boone', 'NOUN'), ('Pickens', 'NOUN'), ('Jr', 'CONJ'), ('.', '.'), ('This', 'DET'), ('compares', 'VERB'), ('with', 'ADP'), ('estimates', 'NOUN'), ('that', 'ADP'), ('the', 'DET'), ('U.S.', 'NOUN'), ('``', '.'), ('derivatives', 'CONJ'), (\"''\", '.'), ('market', 'NOUN'), ('is', 'VERB'), ('perhaps', 'ADV'), ('four', 'NUM'), ('times', 'NOUN'), ('as', 'ADP'), ('large', 'ADJ'), ('as', 'ADP'), ('the', 'DET'), ('underlying', 'ADJ'), ('domestic', 'ADJ'), ('market', 'NOUN'), ('.', '.'), ('Besides', 'ADP'), ('*-1', 'X'), ('being', 'VERB'), ('a', 'DET'), ('``', '.'), ('minority-owned', 'CONJ'), ('company', 'NOUN'), (\"''\", '.'), ('Wedtech', 'NOUN'), ('was', 'VERB'), ('located', 'VERB'), ('*-1', 'X'), ('in', 'ADP'), ('the', 'DET'), ('South', 'NOUN'), ('Bronx', 'NOUN'), (',', '.'), ('a', 'DET'), ('blighted', 'CONJ'), ('area', 'NOUN'), (',', '.'), ('made', 'VERB'), ('*', 'X'), ('famous', 'CONJ'), ('by', 'ADP'), ('Jimmy', 'CONJ'), ('Carter', 'NOUN'), ('in', 'ADP'), ('his', 'PRON'), ('1976', 'NUM'), ('presidential', 'ADJ'), ('campaign', 'NOUN'), ('.', '.'), ('Standard', 'NOUN'), ('&', 'CONJ'), ('Poor', 'NOUN'), (\"'s\", 'PRT'), ('500-Stock', 'CONJ'), ('Index', 'NOUN'), ('added', 'VERB'), ('0.84', 'CONJ'), ('to', 'PRT'), ('341.20', 'CONJ'), (';', '.'), ('the', 'DET'), ('rise', 'NOUN'), ('was', 'VERB'), ('equivalent', 'NOUN'), ('to', 'PRT'), ('a', 'DET'), ('gain', 'NOUN'), ('of', 'ADP'), ('about', 'ADP'), ('six', 'NUM'), ('points', 'NOUN'), ('in', 'ADP'), ('the', 'DET'), ('industrial', 'ADJ'), ('average', 'ADJ'), ('.', '.'), ('The', 'DET'), ('House', 'NOUN'), ('has', 'VERB'), ('voted', 'VERB'), ('*-1', 'X'), ('to', 'PRT'), ('raise', 'VERB'), ('the', 'DET'), ('ceiling', 'NOUN'), ('to', 'PRT'), ('$', '.'), ('3.1', 'NUM'), ('trillion', 'NUM'), ('*U*', 'X'), (',', '.'), ('but', 'CONJ'), ('the', 'DET'), ('Senate', 'NOUN'), ('is', 'VERB'), (\"n't\", 'ADV'), ('expected', 'VERB'), ('*-2', 'X'), ('to', 'PRT'), ('act', 'VERB'), ('until', 'ADP'), ('next', 'ADJ'), ('week', 'NOUN'), ('at', 'ADP'), ('the', 'DET'), ('earliest', 'CONJ'), ('.', '.'), ('There', 'DET'), ('is', 'VERB'), ('something', 'NOUN'), ('inherently', 'CONJ'), ('suspect', 'VERB'), ('about', 'ADP'), ('Congress', 'NOUN'), (\"'s\", 'PRT'), ('prohibiting', 'CONJ'), ('the', 'DET'), ('executive', 'ADJ'), ('from', 'ADP'), ('*-1', 'X'), ('even', 'ADV'), ('studying', 'VERB'), ('whether', 'ADP'), ('public', 'ADJ'), ('funds', 'NOUN'), ('are', 'VERB'), ('being', 'VERB'), ('wasted', 'CONJ'), ('*-57', 'X'), ('in', 'ADP'), ('some', 'DET'), ('favored', 'ADJ'), ('program', 'NOUN'), ('or', 'CONJ'), ('other', 'ADJ'), ('.', '.'), ('Or', 'CONJ'), (',', '.'), ('as', 'ADP'), ('Dorothy', 'NOUN'), ('Arighi', 'NOUN'), (',', '.'), ('an', 'DET'), ('interior', 'CONJ'), ('decorator', 'CONJ'), ('in', 'ADP'), ('Arnold', 'NOUN'), (',', '.'), ('Calif.', 'NOUN'), (',', '.'), ('puts', 'VERB'), ('it', 'PRON'), (':', '.'), ('``', '.'), ('All', 'DET'), ('kinds', 'NOUN'), ('of', 'ADP'), ('funny', 'ADJ'), ('things', 'NOUN'), ('spook', 'CONJ'), ('the', 'DET'), ('market', 'NOUN'), ('these', 'DET'), ('days', 'NOUN'), ('.', '.'), (\"''\", '.'), ('Copperweld', 'NOUN'), ('said', 'VERB'), ('0', 'X'), ('it', 'PRON'), ('does', 'VERB'), (\"n't\", 'ADV'), ('expect', 'VERB'), ('a', 'DET'), ('protracted', 'ADJ'), ('strike', 'NOUN'), ('.', '.'), ('In', 'ADP'), ('the', 'DET'), ('1970s', 'NUM'), (',', '.'), ('scientists', 'NOUN'), ('reported', 'VERB'), ('cancer', 'NOUN'), ('cases', 'NOUN'), ('among', 'ADP'), ('the', 'DET'), ('daughters', 'NOUN'), ('of', 'ADP'), ('DES', 'NOUN'), ('users', 'NOUN'), ('.', '.'), ('Douglas', 'NOUN'), ('Madison', 'NOUN'), (',', '.'), ('a', 'DET'), ('corporate', 'ADJ'), ('trader', 'NOUN'), ('with', 'ADP'), ('Bank', 'NOUN'), ('of', 'ADP'), ('America', 'NOUN'), ('in', 'ADP'), ('Los', 'NOUN'), ('Angeles', 'NOUN'), (',', '.'), ('traced', 'CONJ'), ('the', 'DET'), ('dollar', 'NOUN'), (\"'s\", 'PRT'), ('recent', 'ADJ'), ('solid', 'ADJ'), ('performance', 'NOUN'), ('against', 'ADP'), ('the', 'DET'), ('yen', 'NOUN'), ('to', 'PRT'), ('purchases', 'NOUN'), ('of', 'ADP'), ('securities', 'NOUN'), ('by', 'ADP'), ('Japanese', 'ADJ'), ('insurance', 'NOUN'), ('companies', 'NOUN'), ('and', 'CONJ'), ('trust', 'NOUN'), ('banks', 'NOUN'), ('and', 'CONJ'), ('the', 'DET'), ('sense', 'NOUN'), ('that', 'ADP'), ('another', 'DET'), ('wave', 'CONJ'), ('of', 'ADP'), ('investment', 'NOUN'), ('is', 'VERB'), ('waiting', 'VERB'), ('in', 'ADP'), ('the', 'DET'), ('wings', 'NOUN'), ('.', '.'), ('Dealers', 'NOUN'), ('said', 'VERB'), ('0', 'X'), ('most', 'ADV'), ('investor', 'NOUN'), ('interest', 'NOUN'), ('was', 'VERB'), ('focused', 'VERB'), ('*-1', 'X'), ('on', 'ADP'), ('defensive', 'ADJ'), ('blue-chip', 'ADJ'), ('stocks', 'NOUN'), (',', '.'), ('particularly', 'ADV'), ('those', 'DET'), ('with', 'ADP'), ('limited', 'ADJ'), ('U.K.', 'NOUN'), ('exposure', 'NOUN'), ('.', '.'), ('The', 'DET'), ('rest', 'NOUN'), ('were', 'VERB'), ('history', 'NOUN'), (',', '.'), ('sociology', 'CONJ'), (',', '.'), ('finance', 'NOUN'), ('--', '.'), ('subjects', 'NOUN'), ('0', 'X'), ('they', 'PRON'), ('never', 'ADV'), ('had', 'VERB'), ('*T*-1', 'X'), ('.', '.'), (\"''\", '.'), ('On', 'ADP'), ('London', 'NOUN'), (\"'s\", 'PRT'), ('Stock', 'NOUN'), ('Exchange', 'NOUN'), (',', '.'), ('Reuters', 'NOUN'), ('shares', 'NOUN'), ('rose', 'VERB'), ('five', 'NUM'), ('pence', 'NOUN'), ('to', 'PRT'), ('913', 'CONJ'), ('pence', 'NOUN'), ('-LRB-', '.'), ('$', '.'), ('14.43', 'CONJ'), ('*U*', 'X'), ('-RRB-', '.'), ('.', '.'), ('That', 'DET'), ('sounded', 'VERB'), ('a', 'DET'), ('lot', 'NOUN'), ('like', 'ADP'), ('censorship', 'NOUN'), (',', '.'), ('so', 'ADV'), ('after', 'ADP'), ('years', 'NOUN'), ('of', 'ADP'), ('letters', 'NOUN'), ('and', 'CONJ'), ('conversations', 'NOUN'), ('that', 'ADP'), ('*T*-22', 'X'), ('went', 'VERB'), ('nowhere', 'ADV'), (',', '.'), ('I', 'PRON'), ('sued', 'VERB'), ('.', '.'), ('Crane', 'NOUN'), ('&', 'CONJ'), ('Co.', 'NOUN'), ('Securities', 'NOUN'), ('Inc.', 'NOUN'), (',', '.'), ('of', 'ADP'), ('Mount', 'CONJ'), ('Clemens', 'CONJ'), (',', '.'), ('Mich.', 'NOUN'), (',', '.'), ('and', 'CONJ'), ('its', 'PRON'), ('president', 'NOUN'), (',', '.'), ('Glenn', 'NOUN'), ('R.', 'NOUN'), ('Crane', 'NOUN'), (',', '.'), ('of', 'ADP'), ('Sterling', 'NOUN'), ('Heights', 'NOUN'), (',', '.'), ('Mich.', 'NOUN'), (',', '.'), ('consented', 'VERB'), ('to', 'PRT'), ('a', 'DET'), ('joint', 'ADJ'), ('fine', 'NOUN'), ('of', 'ADP'), ('$', '.'), ('10,000', 'NUM'), ('*U*', 'X'), ('.', '.'), ('The', 'DET'), ('United', 'NOUN'), ('Kingdom', 'NOUN'), ('High', 'NOUN'), ('Court', 'NOUN'), ('declared', 'VERB'), ('illegal', 'ADJ'), ('a', 'DET'), ('variety', 'NOUN'), ('of', 'ADP'), ('interest-rate', 'NOUN'), ('swap', 'NOUN'), ('transactions', 'NOUN'), ('and', 'CONJ'), ('options', 'NOUN'), ('deals', 'NOUN'), ('between', 'ADP'), ('a', 'DET'), ('London', 'NOUN'), ('borough', 'CONJ'), ('council', 'NOUN'), ('and', 'CONJ'), ('commercial', 'ADJ'), ('banks', 'NOUN'), ('.', '.'), ('There', 'DET'), ('is', 'VERB'), ('also', 'ADV'), ('speculation', 'NOUN'), ('that', 'ADP'), ('Mr.', 'NOUN'), ('Newhouse', 'NOUN'), ('could', 'VERB'), ('bring', 'VERB'), ('in', 'ADP'), ('a', 'DET'), ('powerhouse', 'CONJ'), ('businessman', 'NOUN'), ('or', 'CONJ'), ('another', 'DET'), ('Newhouse', 'NOUN'), ('family', 'NOUN'), ('member', 'NOUN'), ('0', 'X'), ('*T*-1', 'X'), ('to', 'PRT'), ('run', 'VERB'), ('the', 'DET'), ('business', 'NOUN'), ('side', 'NOUN'), (',', '.'), ('in', 'ADP'), ('combination', 'NOUN'), ('with', 'ADP'), ('a', 'DET'), ('publishing', 'NOUN'), ('executive', 'NOUN'), ('like', 'ADP'), ('Robert', 'NOUN'), ('Gottlieb', 'CONJ'), (',', '.'), ('who', 'PRON'), ('*T*-38', 'X'), ('left', 'VERB'), ('Random', 'NOUN'), ('House', 'NOUN'), (\"'s\", 'PRT'), ('Alfred', 'NOUN'), ('A.', 'NOUN'), ('Knopf', 'NOUN'), ('*-2', 'X'), ('to', 'PRT'), ('run', 'VERB'), ('the', 'DET'), ('New', 'NOUN'), ('Yorker', 'CONJ'), (',', '.'), ('also', 'ADV'), ('owned', 'VERB'), ('*', 'X'), ('by', 'ADP'), ('the', 'DET'), ('Newhouse', 'NOUN'), ('family', 'NOUN'), ('.', '.'), ('Typically', 'ADV'), (',', '.'), ('money-fund', 'CONJ'), ('yields', 'NOUN'), ('beat', 'VERB'), ('comparable', 'ADJ'), ('short-term', 'ADJ'), ('investments', 'NOUN'), ('because', 'ADP'), ('portfolio', 'NOUN'), ('managers', 'NOUN'), ('can', 'VERB'), ('vary', 'VERB'), ('maturities', 'NOUN'), ('and', 'CONJ'), ('go', 'VERB'), ('after', 'ADP'), ('the', 'DET'), ('highest', 'ADJ'), ('rates', 'NOUN'), ('.', '.'), ('They', 'PRON'), ('want', 'VERB'), ('assets', 'NOUN'), (',', '.'), ('they', 'PRON'), ('want', 'VERB'), ('a', 'DET'), ('balance', 'NOUN'), ('sheet', 'NOUN'), (',', '.'), ('which', 'DET'), ('*T*-194', 'CONJ'), ('has', 'VERB'), ('no', 'DET'), ('relation', 'CONJ'), ('to', 'PRT'), ('the', 'DET'), ('business', 'NOUN'), ('0', 'X'), ('a', 'DET'), ('company', 'NOUN'), ('can', 'VERB'), ('generate', 'CONJ'), ('*T*-1', 'X'), ('.', '.'), (\"''\", '.'), ('Seoul', 'NOUN'), ('also', 'ADV'), ('has', 'VERB'), ('instituted', 'VERB'), ('effective', 'ADJ'), ('search-and-seizure', 'CONJ'), ('procedures', 'NOUN'), ('0', 'X'), ('*', 'X'), ('to', 'PRT'), ('aid', 'NOUN'), ('these', 'DET'), ('teams', 'NOUN'), ('*T*-2', 'X'), (',', '.'), ('she', 'PRON'), ('said', 'VERB'), ('0', 'X'), ('*T*-1', 'X'), ('.', '.'), ('The', 'DET'), ('plan', 'NOUN'), ('was', 'VERB'), ('filed', 'VERB'), ('*-1', 'X'), ('jointly', 'ADV'), ('with', 'ADP'), ('unsecured', 'ADJ'), ('creditors', 'NOUN'), ('in', 'ADP'), ('federal', 'ADJ'), ('bankruptcy', 'NOUN'), ('court', 'NOUN'), ('in', 'ADP'), ('New', 'NOUN'), ('York', 'NOUN'), ('and', 'CONJ'), ('must', 'VERB'), ('be', 'VERB'), ('approved', 'VERB'), ('*-1', 'X'), ('by', 'ADP'), ('the', 'DET'), ('court', 'NOUN'), ('.', '.'), ('Some', 'DET'), ('analysts', 'NOUN'), ('say', 'VERB'), ('0', 'X'), ('investors', 'NOUN'), ('should', 'VERB'), ('run', 'VERB'), ('for', 'ADP'), ('the', 'DET'), ('exits', 'CONJ'), ('if', 'ADP'), ('a', 'DET'), ('sustained', 'VERB'), ('market', 'NOUN'), ('rebound', 'VERB'), ('pushes', 'CONJ'), ('the', 'DET'), ('yield', 'NOUN'), ('below', 'ADP'), ('3', 'NUM'), ('%', 'NOUN'), ('.', '.'), ('An', 'DET'), ('official', 'NOUN'), ('for', 'ADP'), ('the', 'DET'), ('lead', 'NOUN'), ('underwriter', 'NOUN'), ('declined', 'VERB'), ('*-1', 'X'), ('to', 'PRT'), ('comment', 'VERB'), ('on', 'ADP'), ('the', 'DET'), ('reason', 'NOUN'), ('for', 'ADP'), ('the', 'DET'), ('delay', 'VERB'), (',', '.'), ('but', 'CONJ'), ('market', 'NOUN'), ('participants', 'NOUN'), ('speculated', 'VERB'), ('that', 'ADP'), ('a', 'DET'), ('number', 'NOUN'), ('of', 'ADP'), ('factors', 'NOUN'), (',', '.'), ('including', 'VERB'), ('a', 'DET'), ('lack', 'NOUN'), ('of', 'ADP'), ('investor', 'NOUN'), ('interest', 'NOUN'), (',', '.'), ('were', 'VERB'), ('responsible', 'ADJ'), ('.', '.'), ('Always', 'CONJ'), ('.', '.'), ('The', 'DET'), ('department', 'NOUN'), ('proposed', 'VERB'), ('*', 'X'), ('requiring', 'VERB'), ('stronger', 'ADJ'), ('roofs', 'NOUN'), ('for', 'ADP'), ('light', 'ADJ'), ('trucks', 'NOUN'), ('and', 'CONJ'), ('minivans', 'NOUN'), (',', '.'), ('*', 'X'), ('beginning', 'VERB'), ('with', 'ADP'), ('1992', 'NUM'), ('models', 'NOUN'), ('.', '.'), ('For', 'ADP'), ('the', 'DET'), ('year', 'NOUN'), ('ended', 'VERB'), ('Sept.', 'NOUN'), ('30', 'NUM'), (',', '.'), ('Ralston', 'NOUN'), ('earned', 'VERB'), ('$', '.'), ('422.5', 'CONJ'), ('million', 'NUM'), ('*U*', 'X'), (',', '.'), ('or', 'CONJ'), ('$', '.'), ('6.44', 'CONJ'), ('*U*', 'X'), ('a', 'DET'), ('share', 'NOUN'), (',', '.'), ('up', 'ADV'), ('8.9', 'CONJ'), ('%', 'NOUN'), ('from', 'ADP'), ('$', '.'), ('387.8', 'CONJ'), ('million', 'NUM'), ('*U*', 'X'), (',', '.'), ('or', 'CONJ'), ('$', '.'), ('5.63', 'CONJ'), ('*U*', 'X'), ('a', 'DET'), ('share', 'NOUN'), ('.', '.'), ('``', '.'), ('What', 'PRON'), ('*T*-14', 'X'), ('matters', 'NOUN'), ('is', 'VERB'), ('what', 'PRON'), ('advertisers', 'NOUN'), ('are', 'VERB'), ('paying', 'VERB'), ('*T*-15', 'X'), ('per', 'ADP'), ('page', 'NOUN'), (',', '.'), ('and', 'CONJ'), ('in', 'ADP'), ('that', 'DET'), ('department', 'NOUN'), ('we', 'PRON'), ('are', 'VERB'), ('doing', 'VERB'), ('fine', 'NOUN'), ('this', 'DET'), ('fall', 'NOUN'), (',', '.'), (\"''\", '.'), ('said', 'VERB'), ('*T*-1', 'X'), ('Mr.', 'NOUN'), ('Spoon', 'NOUN'), ('.', '.'), ('Your', 'PRON'), ('$', '.'), ('15,000', 'NUM'), ('*U*', 'X'), ('will', 'VERB'), ('help', 'VERB'), ('*-1', 'X'), ('keep', 'VERB'), ('a', 'DET'), ('needy', 'CONJ'), ('savings', 'NOUN'), ('and', 'CONJ'), ('loan', 'NOUN'), ('solvent', 'CONJ'), ('--', '.'), ('and', 'CONJ'), ('out', 'ADP'), ('of', 'ADP'), ('the', 'DET'), ('federal', 'ADJ'), ('budget', 'NOUN'), ('deficit', 'NOUN'), ('.', '.'), ('About', 'ADP'), ('$', '.'), ('490', 'CONJ'), ('million', 'NUM'), ('*U*', 'X'), ('of', 'ADP'), ('that', 'DET'), ('would', 'VERB'), ('be', 'VERB'), ('allocated', 'VERB'), ('*-87', 'X'), ('to', 'PRT'), ('the', 'DET'), ('buy-back', 'ADJ'), (',', '.'), ('*', 'X'), ('leaving', 'VERB'), ('about', 'ADP'), ('$', '.'), ('130', 'NUM'), ('million', 'NUM'), ('*U*', 'X'), (',', '.'), ('he', 'PRON'), ('said', 'VERB'), ('0', 'X'), ('*T*-1', 'X'), ('.', '.'), ('To', 'PRT'), ('the', 'DET'), ('surprise', 'NOUN'), ('of', 'ADP'), ('some', 'DET'), ('analysts', 'NOUN'), (',', '.'), ('net', 'ADJ'), ('cash', 'NOUN'), ('income', 'NOUN'), ('rose', 'VERB'), ('in', 'ADP'), ('some', 'DET'), ('of', 'ADP'), ('the', 'DET'), ('hardest-hit', 'CONJ'), ('states', 'NOUN'), (',', '.'), ('including', 'VERB'), ('Indiana', 'NOUN'), (',', '.'), ('Illinois', 'NOUN'), (',', '.'), ('Nebraska', 'NOUN'), ('and', 'CONJ'), ('the', 'DET'), ('Dakotas', 'CONJ'), ('.', '.'), ('In', 'ADP'), ('the', 'DET'), ('last', 'ADJ'), ('year', 'NOUN'), ('or', 'CONJ'), ('so', 'ADV'), (',', '.'), ('however', 'ADV'), (',', '.'), ('this', 'DET'), ('exclusive', 'ADJ'), ('club', 'NOUN'), ('has', 'VERB'), ('taken', 'VERB'), ('in', 'ADP'), ('a', 'DET'), ('host', 'NOUN'), ('of', 'ADP'), ('flashy', 'CONJ'), ('new', 'ADJ'), ('members', 'NOUN'), ('.', '.'), ('By', 'ADP'), ('1997', 'CONJ'), (',', '.'), ('almost', 'ADV'), ('all', 'DET'), ('remaining', 'VERB'), ('uses', 'VERB'), ('of', 'ADP'), ('cancer-causing', 'CONJ'), ('asbestos', 'NOUN'), ('will', 'VERB'), ('be', 'VERB'), ('outlawed', 'CONJ'), ('*-6', 'X'), ('.', '.'), ('IBM', 'NOUN'), (',', '.'), ('the', 'DET'), ('giant', 'ADJ'), ('computer', 'NOUN'), ('maker', 'NOUN'), (',', '.'), ('offered', 'VERB'), ('$', '.'), ('750', 'NUM'), ('million', 'NUM'), ('*U*', 'X'), ('of', 'ADP'), ('non-callable', 'ADJ'), ('30-year', 'ADJ'), ('debentures', 'NOUN'), ('priced', 'VERB'), ('*', 'X'), ('*-1', 'X'), ('to', 'PRT'), ('yield', 'VERB'), ('8.47', 'NUM'), ('%', 'NOUN'), (',', '.'), ('or', 'CONJ'), ('about', 'ADP'), ('1\\\\/2', 'NUM'), ('percentage', 'NOUN'), ('point', 'NOUN'), ('higher', 'ADJ'), ('than', 'ADP'), ('the', 'DET'), ('yield', 'NOUN'), ('on', 'ADP'), ('30-year', 'ADJ'), ('Treasury', 'NOUN'), ('bonds', 'NOUN'), ('.', '.'), ('Big', 'NOUN'), ('Board', 'NOUN'), ('volume', 'NOUN'), ('totaled', 'VERB'), ('154.2', 'CONJ'), ('million', 'NUM'), ('shares', 'NOUN'), ('.', '.'), ('Bears', 'CONJ'), ('have', 'VERB'), ('targeted', 'VERB'), ('Columbia', 'NOUN'), (\"'s\", 'PRT'), ('stock', 'NOUN'), ('because', 'ADP'), ('of', 'ADP'), ('the', 'DET'), ('thrift', 'NOUN'), (\"'s\", 'PRT'), ('exposure', 'NOUN'), ('to', 'PRT'), ('the', 'DET'), ('shaky', 'CONJ'), ('junk', 'NOUN'), ('market', 'NOUN'), ('.', '.'), ('Freeport-McMoRan', 'NOUN'), ('Inc.', 'NOUN'), ('said', 'VERB'), ('0', 'X'), ('it', 'PRON'), ('will', 'VERB'), ('convert', 'CONJ'), ('its', 'PRON'), ('Freeport-McMoRan', 'NOUN'), ('Energy', 'NOUN'), ('Partners', 'NOUN'), ('Ltd.', 'NOUN'), ('partnership', 'NOUN'), ('into', 'ADP'), ('a', 'DET'), ('publicly', 'ADV'), ('traded', 'VERB'), ('company', 'NOUN'), ('through', 'ADP'), ('the', 'DET'), ('exchange', 'NOUN'), ('of', 'ADP'), ('units', 'NOUN'), ('of', 'ADP'), ('the', 'DET'), ('partnership', 'NOUN'), ('for', 'ADP'), ('common', 'ADJ'), ('shares', 'NOUN'), ('.', '.'), ('Similar', 'CONJ'), ('levels', 'NOUN'), ('hamstrung', 'CONJ'), ('barge', 'NOUN'), ('shipments', 'NOUN'), ('last', 'ADJ'), ('year', 'NOUN'), ('in', 'ADP'), ('the', 'DET'), ('wake', 'NOUN'), ('of', 'ADP'), ('the', 'DET'), ('worst', 'ADJ'), ('drought', 'NOUN'), ('in', 'ADP'), ('50', 'NUM'), ('years', 'NOUN'), ('.', '.'), ('All', 'DET'), ('came', 'VERB'), ('from', 'ADP'), ('Cray', 'NOUN'), ('Research', 'NOUN'), ('.', '.'), ('``', '.'), ('I', 'PRON'), (\"'m\", 'VERB'), ('very', 'ADV'), ('alarmed', 'CONJ'), ('*-2', 'X'), ('to', 'PRT'), ('see', 'VERB'), ('these', 'DET'), ('rich', 'ADJ'), ('valuations', 'CONJ'), (',', '.'), (\"''\", '.'), ('says', 'VERB'), ('*T*-1', 'X'), ('Smith', 'NOUN'), ('Barney', 'NOUN'), (\"'s\", 'PRT'), ('Mr.', 'NOUN'), ('Porter', 'NOUN'), ('.', '.'), ('More', 'ADV'), ('than', 'ADP'), ('a', 'DET'), ('few', 'ADJ'), ('CEOs', 'NOUN'), ('say', 'VERB'), ('0', 'X'), ('the', 'DET'), ('red-carpet', 'CONJ'), ('treatment', 'NOUN'), ('tempts', 'CONJ'), ('them', 'PRON'), ('to', 'PRT'), ('return', 'NOUN'), ('to', 'PRT'), ('a', 'DET'), ('heartland', 'CONJ'), ('city', 'NOUN'), ('for', 'ADP'), ('future', 'ADJ'), ('meetings', 'NOUN'), ('.', '.'), ('Until', 'ADP'), ('such', 'ADJ'), ('action', 'NOUN'), ('takes', 'VERB'), ('places', 'VERB'), (',', '.'), ('the', 'DET'), ('Treasury', 'NOUN'), ('has', 'VERB'), ('no', 'DET'), ('ability', 'NOUN'), ('*', 'X'), ('to', 'PRT'), ('issue', 'NOUN'), ('new', 'ADJ'), ('debt', 'NOUN'), ('of', 'ADP'), ('any', 'DET'), ('kind', 'NOUN'), ('.', '.'), ('Under', 'ADP'), ('a', 'DET'), ('1934', 'CONJ'), ('law', 'NOUN'), (',', '.'), ('the', 'DET'), ('Johnson', 'NOUN'), ('Debt', 'CONJ'), ('Default', 'CONJ'), ('Act', 'NOUN'), (',', '.'), ('as', 'ADP'), ('*', 'X'), ('amended', 'CONJ'), ('*-1', 'X'), (',', '.'), ('it', 'PRON'), ('*EXP*-2', 'X'), (\"'s\", 'PRT'), ('illegal', 'ADJ'), ('for', 'ADP'), ('Americans', 'NOUN'), ('to', 'PRT'), ('extend', 'VERB'), ('credit', 'NOUN'), ('to', 'PRT'), ('countries', 'NOUN'), ('in', 'ADP'), ('default', 'NOUN'), ('to', 'PRT'), ('the', 'DET'), ('U.S.', 'NOUN'), ('government', 'NOUN'), (',', '.'), ('unless', 'ADP'), ('they', 'PRON'), ('are', 'VERB'), ('members', 'NOUN'), ('of', 'ADP'), ('the', 'DET'), ('World', 'NOUN'), ('Bank', 'NOUN'), ('and', 'CONJ'), ('International', 'NOUN'), ('Monetary', 'NOUN'), ('Fund', 'NOUN'), ('.', '.'), ('Standard', 'NOUN'), ('&', 'CONJ'), ('Poor', 'NOUN'), (\"'s\", 'PRT'), ('Corp.', 'NOUN'), ('lowered', 'VERB'), ('to', 'PRT'), ('double-C', 'CONJ'), ('from', 'ADP'), ('triple-C', 'CONJ'), ('the', 'DET'), ('rating', 'NOUN'), ('on', 'ADP'), ('about', 'ADP'), ('$', '.'), ('130', 'NUM'), ('million', 'NUM'), ('*U*', 'X'), ('of', 'ADP'), ('debt', 'NOUN'), ('.', '.'), ('Of', 'ADP'), ('course', 'NOUN'), (',', '.'), ('regulators', 'NOUN'), ('would', 'VERB'), ('have', 'VERB'), ('*-1', 'X'), ('to', 'PRT'), ('approve', 'VERB'), ('Columbia', 'NOUN'), (\"'s\", 'PRT'), ('reorganization', 'NOUN'), ('.', '.'), ('In', 'ADP'), ('another', 'DET'), ('reflection', 'NOUN'), ('that', 'ADP'), ('the', 'DET'), ('growth', 'NOUN'), ('of', 'ADP'), ('the', 'DET'), ('economy', 'NOUN'), ('is', 'VERB'), ('leveling', 'VERB'), ('off', 'PRT'), (',', '.'), ('the', 'DET'), ('government', 'NOUN'), ('said', 'VERB'), ('that', 'ADP'), ('orders', 'NOUN'), ('for', 'ADP'), ('manufactured', 'VERB'), ('goods', 'NOUN'), ('and', 'CONJ'), ('spending', 'NOUN'), ('on', 'ADP'), ('construction', 'NOUN'), ('failed', 'VERB'), ('*-1', 'X'), ('to', 'PRT'), ('rise', 'VERB'), ('in', 'ADP'), ('September', 'NOUN'), ('.', '.'), ('Activity', 'CONJ'), ('was', 'VERB'), ('light', 'ADJ'), ('in', 'ADP'), ('derivative', 'CONJ'), ('markets', 'NOUN'), (',', '.'), ('with', 'ADP'), ('no', 'DET'), ('new', 'ADJ'), ('issues', 'NOUN'), ('priced', 'VERB'), ('*-1', 'X'), ('.', '.'), ('``', '.'), ('*', 'X'), ('Having', 'CONJ'), ('the', 'DET'), ('dividend', 'NOUN'), ('increases', 'NOUN'), ('is', 'VERB'), ('a', 'DET'), ('supportive', 'CONJ'), ('element', 'CONJ'), ('in', 'ADP'), ('the', 'DET'), ('market', 'NOUN'), ('outlook', 'NOUN'), (',', '.'), ('but', 'CONJ'), ('I', 'PRON'), ('do', 'VERB'), (\"n't\", 'ADV'), ('think', 'VERB'), ('0', 'X'), ('it', 'PRON'), (\"'s\", 'VERB'), ('a', 'DET'), ('main', 'ADJ'), ('consideration', 'NOUN'), (',', '.'), (\"''\", '.'), ('he', 'PRON'), ('says', 'VERB'), ('*T*-1', 'X'), ('.', '.'), ('But', 'CONJ'), ('since', 'ADP'), ('the', 'DET'), ('1990', 'NUM'), ('model', 'NOUN'), ('year', 'NOUN'), ('began', 'VERB'), ('Oct.', 'NOUN'), ('1', 'NUM'), (',', '.'), ('Buick', 'NOUN'), ('sales', 'NOUN'), ('have', 'VERB'), ('plunged', 'VERB'), ('33', 'NUM'), ('%', 'NOUN'), ('.', '.'), ('Futures', 'NOUN'), ('traders', 'NOUN'), ('respond', 'VERB'), ('that', 'ADP'), ('low', 'ADJ'), ('margins', 'NOUN'), ('help', 'VERB'), ('*-1', 'X'), ('keep', 'VERB'), ('their', 'PRON'), ('markets', 'NOUN'), ('active', 'ADJ'), ('.', '.'), ('Sales', 'NOUN'), ('rose', 'VERB'), ('to', 'PRT'), ('$', '.'), ('9.8', 'NUM'), ('million', 'NUM'), ('*U*', 'X'), ('from', 'ADP'), ('$', '.'), ('8.9', 'CONJ'), ('million', 'NUM'), ('*U*', 'X'), ('.', '.'), ('He', 'PRON'), ('and', 'CONJ'), ('his', 'PRON'), ('successor', 'NOUN'), (',', '.'), ('Mary', 'NOUN'), ('Anne', 'NOUN'), ('Dolan', 'CONJ'), (',', '.'), ('restored', 'CONJ'), ('respect', 'NOUN'), ('for', 'ADP'), ('the', 'DET'), ('editorial', 'NOUN'), ('product', 'NOUN'), (',', '.'), ('and', 'CONJ'), ('though', 'ADP'), ('in', 'ADP'), ('recent', 'ADJ'), ('years', 'NOUN'), ('the', 'DET'), ('paper', 'NOUN'), ('had', 'VERB'), ('been', 'VERB'), ('limping', 'CONJ'), ('along', 'ADP'), ('on', 'ADP'), ('limited', 'ADJ'), ('resources', 'NOUN'), (',', '.'), ('its', 'PRON'), ('accomplishments', 'CONJ'), ('were', 'VERB'), ('notable', 'CONJ'), ('.', '.'), ('The', 'DET'), ('Treasury', 'NOUN'), ('plans', 'VERB'), ('*-1', 'X'), ('to', 'PRT'), ('sell', 'VERB'), ('$', '.'), ('30', 'NUM'), ('billion', 'NUM'), ('*U*', 'X'), ('in', 'ADP'), ('notes', 'NOUN'), ('and', 'CONJ'), ('bonds', 'NOUN'), ('next', 'ADP'), ('week', 'NOUN'), ('but', 'CONJ'), ('will', 'VERB'), ('delay', 'VERB'), ('the', 'DET'), ('auction', 'NOUN'), ('unless', 'ADP'), ('Congress', 'NOUN'), ('quickly', 'ADV'), ('raises', 'VERB'), ('the', 'DET'), ('debt', 'NOUN'), ('ceiling', 'NOUN'), ('.', '.'), ('The', 'DET'), ('biggest', 'ADJ'), ('firms', 'NOUN'), ('still', 'ADV'), ('retain', 'VERB'), ('the', 'DET'), ('highest', 'ADJ'), ('ratings', 'NOUN'), ('on', 'ADP'), ('their', 'PRON'), ('commercial', 'ADJ'), ('paper', 'NOUN'), ('.', '.'), ('More', 'ADV'), ('than', 'ADP'), ('three', 'NUM'), ('in', 'ADP'), ('five', 'NUM'), ('said', 'VERB'), ('0', 'X'), ('they', 'PRON'), ('are', 'VERB'), ('under', 'ADP'), ('a', 'DET'), ('great', 'ADJ'), ('deal', 'NOUN'), ('of', 'ADP'), ('stress', 'CONJ'), ('most', 'ADJ'), ('of', 'ADP'), ('the', 'DET'), ('time', 'NOUN'), (',', '.'), ('compared', 'VERB'), ('with', 'ADP'), ('less', 'ADJ'), ('than', 'ADP'), ('one', 'NUM'), ('in', 'ADP'), ('two', 'NUM'), ('U.S.', 'NOUN'), ('consumers', 'NOUN'), ('and', 'CONJ'), ('one', 'NUM'), ('in', 'ADP'), ('four', 'NUM'), ('in', 'ADP'), ('Japan', 'NOUN'), ('.', '.'), ('--', '.'), ('Dorothy', 'NOUN'), ('L.', 'NOUN'), ('Sayers', 'NOUN'), (',', '.'), ('``', '.'), ('The', 'DET'), ('Nine', 'CONJ'), ('Tailors', 'CONJ'), (\"''\", '.'), ('Some', 'DET'), ('U.S.', 'NOUN'), ('firms', 'NOUN'), (',', '.'), ('notably', 'ADV'), ('Salomon', 'NOUN'), ('Inc.', 'NOUN'), ('and', 'CONJ'), ('Morgan', 'NOUN'), ('Stanley', 'NOUN'), ('Group', 'NOUN'), ('Inc.', 'NOUN'), (',', '.'), ('have', 'VERB'), ('reaped', 'CONJ'), ('a', 'DET'), ('hefty', 'ADJ'), ('chunk', 'NOUN'), ('of', 'ADP'), ('their', 'PRON'), ('Japanese', 'ADJ'), ('earnings', 'NOUN'), ('from', 'ADP'), ('index', 'NOUN'), ('arbitrage', 'NOUN'), (',', '.'), ('both', 'DET'), ('for', 'ADP'), ('customers', 'NOUN'), ('and', 'CONJ'), ('for', 'ADP'), ('their', 'PRON'), ('own', 'ADJ'), ('accounts', 'NOUN'), ('.', '.'), ('Typical', 'CONJ'), ('rates', 'NOUN'), ('in', 'ADP'), ('the', 'DET'), ('secondary', 'ADJ'), ('market', 'NOUN'), (':', '.'), ('8.60', 'CONJ'), ('%', 'NOUN'), ('one', 'NUM'), ('month', 'NOUN'), (';', '.'), ('8.55', 'NUM'), ('%', 'NOUN'), ('three', 'NUM'), ('months', 'NOUN'), (';', '.'), ('8.35', 'CONJ'), ('%', 'NOUN'), ('six', 'NUM'), ('months', 'NOUN'), ('.', '.'), ('``', '.'), ('The', 'DET'), ('disturbing', 'ADJ'), ('thing', 'NOUN'), ('about', 'ADP'), ('this', 'DET'), ('abortion', 'NOUN'), ('issue', 'NOUN'), ('is', 'VERB'), ('that', 'ADP'), ('the', 'DET'), ('debate', 'NOUN'), ('has', 'VERB'), ('become', 'VERB'), ('polarized', 'CONJ'), ('*-1', 'X'), (',', '.'), ('so', 'ADV'), ('that', 'ADP'), ('no', 'DET'), ('mechanism', 'NOUN'), ('*ICH*-2', 'X'), ('exists', 'CONJ'), (\"''\", '.'), ('for', 'ADP'), ('*', 'X'), ('finding', 'VERB'), ('a', 'DET'), ('middle', 'NOUN'), ('ground', 'NOUN'), ('.', '.'), ('As', 'ADP'), ('an', 'DET'), ('actor', 'CONJ'), (',', '.'), ('Charles', 'NOUN'), ('Lane', 'NOUN'), ('is', 'VERB'), (\"n't\", 'ADV'), ('the', 'DET'), ('inheritor', 'CONJ'), ('of', 'ADP'), ('Charlie', 'CONJ'), ('Chaplin', 'NOUN'), (\"'s\", 'PRT'), ('spirit', 'NOUN'), ('.', '.'), ('Rudolph', 'NOUN'), ('Agnew', 'CONJ'), (',', '.'), ('55', 'NUM'), ('years', 'NOUN'), ('old', 'ADJ'), ('and', 'CONJ'), ('former', 'ADJ'), ('chairman', 'NOUN'), ('of', 'ADP'), ('Consolidated', 'NOUN'), ('Gold', 'NOUN'), ('Fields', 'NOUN'), ('PLC', 'NOUN'), (',', '.'), ('was', 'VERB'), ('named', 'VERB'), ('*-1', 'X'), ('a', 'DET'), ('nonexecutive', 'ADJ'), ('director', 'NOUN'), ('of', 'ADP'), ('this', 'DET'), ('British', 'ADJ'), ('industrial', 'ADJ'), ('conglomerate', 'NOUN'), ('.', '.'), ('The', 'DET'), ('new', 'ADJ'), (',', '.'), ('seven-year', 'CONJ'), ('funds', 'NOUN'), ('--', '.'), ('one', 'NUM'), ('offering', 'NOUN'), ('a', 'DET'), ('fixed-rate', 'ADJ'), ('return', 'NOUN'), ('and', 'CONJ'), ('the', 'DET'), ('other', 'ADJ'), ('with', 'ADP'), ('a', 'DET'), ('floating-rate', 'ADJ'), ('return', 'NOUN'), ('linked', 'VERB'), ('*', 'X'), ('to', 'PRT'), ('the', 'DET'), ('London', 'NOUN'), ('interbank', 'NOUN'), ('offered', 'VERB'), ('rate', 'NOUN'), ('--', '.'), ('offer', 'NOUN'), ('two', 'NUM'), ('key', 'ADJ'), ('advantages', 'NOUN'), ('to', 'PRT'), ('Japanese', 'ADJ'), ('investors', 'NOUN'), ('.', '.'), ('A', 'DET'), ('White', 'NOUN'), ('House', 'NOUN'), ('spokesman', 'NOUN'), ('said', 'VERB'), ('last', 'ADJ'), ('week', 'NOUN'), ('that', 'ADP'), ('the', 'DET'), ('president', 'NOUN'), ('is', 'VERB'), ('considering', 'VERB'), ('*-1', 'X'), ('declaring', 'VERB'), ('that', 'ADP'), ('the', 'DET'), ('Constitution', 'NOUN'), ('implicitly', 'CONJ'), ('gives', 'VERB'), ('him', 'PRON'), ('the', 'DET'), ('authority', 'NOUN'), ('for', 'ADP'), ('a', 'DET'), ('line-item', 'ADJ'), ('veto', 'NOUN'), ('*-2', 'X'), ('to', 'PRT'), ('provoke', 'CONJ'), ('a', 'DET'), ('test', 'NOUN'), ('case', 'NOUN'), ('.', '.'), ('But', 'CONJ'), ('she', 'PRON'), ('did', 'VERB'), (\"n't\", 'ADV'), ('deserve', 'VERB'), ('*-1', 'X'), ('to', 'PRT'), ('have', 'VERB'), ('her', 'PRON'), ('head', 'NOUN'), ('chopped', 'CONJ'), ('*-2', 'X'), ('off', 'PRT'), ('.', '.'), ('The', 'DET'), ('report', 'NOUN'), ('from', 'ADP'), ('the', 'DET'), ('Fed', 'NOUN'), ('found', 'VERB'), ('that', 'ADP'), ('manufacturing', 'NOUN'), (',', '.'), ('in', 'ADP'), ('particular', 'ADJ'), (',', '.'), ('has', 'VERB'), ('been', 'VERB'), ('weak', 'ADJ'), ('in', 'ADP'), ('recent', 'ADJ'), ('weeks', 'NOUN'), ('.', '.'), ('Characters', 'CONJ'), ('drink', 'NOUN'), ('Salty', 'CONJ'), ('Dogs', 'CONJ'), (',', '.'), ('whistle', 'CONJ'), ('``', '.'), ('Johnny', 'CONJ'), ('B.', 'NOUN'), ('Goode', 'CONJ'), (\"''\", '.'), ('and', 'CONJ'), ('watch', 'VERB'), ('Bugs', 'CONJ'), ('Bunny', 'CONJ'), ('reruns', 'NOUN'), ('.', '.'), ('Many', 'ADJ'), ('Asians', 'CONJ'), ('regard', 'VERB'), ('a', 'DET'), ('U.S.', 'NOUN'), ('presence', 'NOUN'), ('as', 'ADP'), ('a', 'DET'), ('desirable', 'ADJ'), ('counterweight', 'CONJ'), ('to', 'PRT'), ('Japanese', 'ADJ'), ('influence', 'NOUN'), ('.', '.'), ('1', 'NUM'), ('.', '.'), ('*', 'X'), ('Buy', 'VERB'), ('a', 'DET'), ('new', 'ADJ'), ('Chevrolet', 'NOUN'), ('.', '.'), ('Elisabeth', 'CONJ'), ('Rubinfien', 'CONJ'), ('contributed', 'VERB'), ('to', 'PRT'), ('this', 'DET'), ('article', 'NOUN'), ('.', '.'), ('``', '.'), ('You', 'PRON'), ('either', 'ADV'), ('believe', 'VERB'), ('0', 'X'), ('Seymour', 'NOUN'), ('can', 'VERB'), ('do', 'VERB'), ('it', 'PRON'), ('again', 'ADV'), ('or', 'CONJ'), ('you', 'PRON'), ('do', 'VERB'), (\"n't\", 'ADV'), ('*?*', 'X'), ('.', '.'), (\"''\", '.'), ('There', 'DET'), ('have', 'VERB'), ('been', 'VERB'), ('only', 'ADV'), ('seven', 'NUM'), ('other', 'ADJ'), ('times', 'NOUN'), ('--', '.'), ('in', 'ADP'), ('1929', 'NUM'), (',', '.'), ('1933', 'CONJ'), (',', '.'), ('1961', 'CONJ'), (',', '.'), ('1965', 'NUM'), (',', '.'), ('1968', 'CONJ'), (',', '.'), ('1971', 'NUM'), ('and', 'CONJ'), ('1972', 'NUM'), ('--', '.'), ('when', 'ADV'), ('the', 'DET'), ('yield', 'NOUN'), ('on', 'ADP'), ('the', 'DET'), ('S&P', 'NOUN'), ('500', 'NUM'), ('dropped', 'VERB'), ('below', 'ADP'), ('3', 'NUM'), ('%', 'NOUN'), ('for', 'ADP'), ('at', 'ADP'), ('least', 'ADJ'), ('two', 'NUM'), ('consecutive', 'ADJ'), ('months', 'NOUN'), ('*T*-1', 'X'), (',', '.'), ('Mr.', 'NOUN'), ('Perritt', 'CONJ'), ('found', 'VERB'), ('0', 'X'), ('*T*-2', 'X'), ('.', '.'), ('Earnings', 'NOUN'), ('were', 'VERB'), ('hurt', 'VERB'), ('*-1', 'X'), ('by', 'ADP'), ('disposal', 'NOUN'), ('of', 'ADP'), ('operations', 'NOUN'), ('in', 'ADP'), ('its', 'PRON'), ('restructuring', 'NOUN'), (',', '.'), ('Reed', 'NOUN'), ('said', 'VERB'), ('0', 'X'), ('*T*-2', 'X'), ('.', '.'), ('Back', 'CONJ'), ('downtown', 'NOUN'), (',', '.'), ('the', 'DET'), ('execs', 'CONJ'), ('squeezed', 'VERB'), ('in', 'ADP'), ('a', 'DET'), ('few', 'ADJ'), ('meetings', 'NOUN'), ('at', 'ADP'), ('the', 'DET'), ('hotel', 'NOUN'), ('before', 'ADP'), ('*-1', 'X'), ('boarding', 'CONJ'), ('the', 'DET'), ('buses', 'NOUN'), ('again', 'ADV'), ('.', '.'), ('Proponents', 'CONJ'), ('of', 'ADP'), ('the', 'DET'), ('funding', 'NOUN'), ('arrangement', 'NOUN'), ('predict', 'VERB'), ('that', 'ADP'), (',', '.'), ('based', 'VERB'), ('on', 'ADP'), ('recent', 'ADJ'), ('filing', 'NOUN'), ('levels', 'NOUN'), ('of', 'ADP'), ('more', 'ADJ'), ('than', 'ADP'), ('2,000', 'NUM'), ('a', 'DET'), ('year', 'NOUN'), (',', '.'), ('the', 'DET'), ('fees', 'NOUN'), ('will', 'VERB'), ('yield', 'VERB'), ('at', 'ADP'), ('least', 'ADJ'), ('$', '.'), ('40', 'NUM'), ('million', 'NUM'), ('*U*', 'X'), ('*ICH*-1', 'X'), ('this', 'DET'), ('fiscal', 'ADJ'), ('year', 'NOUN'), (',', '.'), ('or', 'CONJ'), ('$', '.'), ('10', 'NUM'), ('million', 'NUM'), ('*U*', 'X'), ('more', 'ADV'), ('than', 'ADP'), ('the', 'DET'), ('budget', 'NOUN'), ('cuts', 'NOUN'), ('.', '.'), ('President', 'NOUN'), ('Bush', 'NOUN'), ('should', 'VERB'), ('set', 'VERB'), ('things', 'NOUN'), ('straight', 'ADV'), ('.', '.'), ('Rick', 'NOUN'), ('Brownell', 'NOUN'), (',', '.'), ('senior', 'ADJ'), ('editor', 'NOUN'), ('of', 'ADP'), ('Scoring', 'NOUN'), ('High', 'NOUN'), (',', '.'), ('says', 'VERB'), ('that', 'ADP'), ('Messrs.', 'NOUN'), ('Kaminski', 'NOUN'), ('and', 'CONJ'), ('Mehrens', 'NOUN'), ('are', 'VERB'), ('ignoring', 'VERB'), ('``', '.'), ('the', 'DET'), ('need', 'NOUN'), ('0', 'X'), ('students', 'NOUN'), ('have', 'VERB'), ('*T*-1', 'X'), ('for', 'ADP'), ('*', 'X'), ('becoming', 'VERB'), ('familiar', 'ADJ'), ('with', 'ADP'), ('tests', 'NOUN'), ('and', 'CONJ'), ('testing', 'NOUN'), ('format', 'NOUN'), ('.', '.'), (\"''\", '.'), ('Rockwell', 'NOUN'), ('International', 'NOUN'), ('Corp.', 'NOUN'), ('won', 'VERB'), ('a', 'DET'), ('$', '.'), ('130.7', 'CONJ'), ('million', 'NUM'), ('*U*', 'X'), ('Air', 'NOUN'), ('Force', 'NOUN'), ('contract', 'NOUN'), ('for', 'ADP'), ('AC-130U', 'CONJ'), ('gunship', 'NOUN'), ('replacement', 'NOUN'), ('aircraft', 'NOUN'), ('.', '.'), ('On', 'ADP'), ('one', 'NUM'), ('side', 'NOUN'), ('of', 'ADP'), ('this', 'DET'), ('power', 'NOUN'), ('struggle', 'NOUN'), ('stand', 'VERB'), ('*T*-1', 'X'), ('the', 'DET'), ('forces', 'NOUN'), ('in', 'ADP'), ('ascendency', 'CONJ'), ('on', 'ADP'), ('Wall', 'NOUN'), ('Street', 'NOUN'), ('--', '.'), ('the', 'DET'), ('New', 'NOUN'), ('Guard', 'NOUN'), ('--', '.'), ('consisting', 'CONJ'), ('of', 'ADP'), ('high-tech', 'ADJ'), ('computer', 'NOUN'), ('wizards', 'CONJ'), ('at', 'ADP'), ('the', 'DET'), ('major', 'ADJ'), ('brokerage', 'NOUN'), ('firms', 'NOUN'), (',', '.'), ('their', 'PRON'), ('pension', 'NOUN'), ('fund', 'NOUN'), ('clients', 'NOUN'), ('with', 'ADP'), ('immense', 'CONJ'), ('pools', 'CONJ'), ('of', 'ADP'), ('money', 'NOUN'), (',', '.'), ('and', 'CONJ'), ('the', 'DET'), ('traders', 'NOUN'), ('at', 'ADP'), ('the', 'DET'), ('fast-growing', 'CONJ'), ('Chicago', 'NOUN'), ('futures', 'NOUN'), ('exchanges', 'NOUN'), ('.', '.'), ('Viacom', 'NOUN'), (\"'s\", 'PRT'), ('move', 'VERB'), ('comes', 'VERB'), ('as', 'ADP'), ('the', 'DET'), ('syndication', 'NOUN'), ('market', 'NOUN'), ('is', 'VERB'), ('being', 'VERB'), ('flooded', 'CONJ'), ('*-76', 'X'), ('with', 'ADP'), ('situation', 'NOUN'), ('comedies', 'CONJ'), ('that', 'DET'), ('*T*-152', 'CONJ'), ('are', 'VERB'), ('still', 'ADV'), ('running', 'VERB'), ('on', 'ADP'), ('the', 'DET'), ('networks', 'CONJ'), ('.', '.'), ('What', 'PRON'), ('*T*-234', 'CONJ'), ('will', 'VERB'), ('happen', 'VERB'), ('to', 'PRT'), ('dividend', 'NOUN'), ('growth', 'NOUN'), ('next', 'ADP'), ('year', 'NOUN'), ('?', '.'), ('``', '.'), ('Insurance', 'NOUN'), ('agents', 'NOUN'), ('have', 'VERB'), ('been', 'VERB'), ('forced', 'VERB'), ('*-158', 'CONJ'), ('by', 'ADP'), ('their', 'PRON'), ('companies', 'NOUN'), ('into', 'ADP'), ('*-2', 'X'), ('becoming', 'VERB'), ('registered', 'VERB'), ('reps', 'CONJ'), (',', '.'), (\"''\", '.'), ('he', 'PRON'), ('said', 'VERB'), ('*T*-1', 'X'), (',', '.'), ('``', '.'), ('but', 'CONJ'), ('they', 'PRON'), ('are', 'VERB'), ('not', 'ADV'), ('providing', 'VERB'), ('compliance', 'NOUN'), ('and', 'CONJ'), ('security-type', 'CONJ'), ('training', 'NOUN'), ('so', 'ADV'), ('that', 'ADP'), ('we', 'PRON'), ('can', 'VERB'), ('avoid', 'VERB'), ('stupid', 'ADJ'), ('mistakes', 'CONJ'), ('.', '.'), (\"''\", '.'), ('Workers', 'NOUN'), ('described', 'VERB'), ('``', '.'), ('clouds', 'CONJ'), ('of', 'ADP'), ('blue', 'ADJ'), ('dust', 'CONJ'), (\"''\", '.'), ('that', 'DET'), ('*T*-1', 'X'), ('hung', 'CONJ'), ('over', 'ADP'), ('parts', 'NOUN'), ('of', 'ADP'), ('the', 'DET'), ('factory', 'NOUN'), (',', '.'), ('even', 'ADV'), ('though', 'ADP'), ('exhaust', 'VERB'), ('fans', 'NOUN'), ('ventilated', 'CONJ'), ('the', 'DET'), ('area', 'NOUN'), ('.', '.')]\n"
     ]
    }
   ],
   "source": [
    "print(\"Time taken in seconds: \", difference)\n",
    "print(tagged_seq)\n",
    "#print(test_run_base)"
   ]
  },
  {
   "cell_type": "code",
   "execution_count": 24,
   "metadata": {},
   "outputs": [
    {
     "data": {
      "text/plain": [
       "0.906909985646914"
      ]
     },
     "execution_count": 24,
     "metadata": {},
     "output_type": "execute_result"
    }
   ],
   "source": [
    "# accuracy\n",
    "check = [i for i, j in zip(tagged_seq, test_run_base) if i == j] \n",
    "accuracy = len(check)/len(tagged_seq)\n",
    "accuracy"
   ]
  },
  {
   "cell_type": "markdown",
   "metadata": {},
   "source": [
    "We get ~90% of accuracy with the default Viterbi algorithm.\n",
    "\n",
    "Let's compare with the test sentences and see how it tagged the sentences"
   ]
  },
  {
   "cell_type": "markdown",
   "metadata": {},
   "source": [
    "### Reading the given Text file"
   ]
  },
  {
   "cell_type": "code",
   "execution_count": 25,
   "metadata": {},
   "outputs": [
    {
     "name": "stdout",
     "output_type": "stream",
     "text": [
      "Android is a mobile operating system developed by Google.\r\n",
      "\n",
      "Android has been the best-selling OS worldwide on smartphones since 2011 and on tablets since 2013.\r\n",
      "\n",
      "Google and Twitter made a deal in 2015 that gave Google access to Twitter's firehose.\r\n",
      "\n",
      "Twitter is an online news and social networking service on which users post and interact with messages known as tweets.\r\n",
      "\n",
      "Before entering politics, Donald Trump was a domineering businessman and a television personality.\r\n",
      "\n",
      "The 2018 FIFA World Cup is the 21st FIFA World Cup, an international football tournament contested once every four years.\r\n",
      "\n",
      "This is the first World Cup to be held in Eastern Europe and the 11th time that it has been held in Europe.\r\n",
      "\n",
      "Show me the cheapest round trips from Dallas to Atlanta\r\n",
      "\n",
      "I would like to see flights from Denver to Philadelphia.\r\n",
      "\n",
      "Show me the price of the flights leaving Atlanta at about 3 in the afternoon and arriving in San Francisco.\r\n",
      "\n",
      "NASA invited social media users to experience the launch of ICESAT-2 Satellite.\r\n",
      "\n",
      "\r\n",
      "\n",
      "\r\n",
      "\n",
      "\r\n",
      "\n"
     ]
    }
   ],
   "source": [
    "lines=[]\n",
    "f = codecs.open(\"Test_sentences.txt\", encoding='utf-8')\n",
    "for line in f:\n",
    "    print(line)\n",
    "    lines.append(line)"
   ]
  },
  {
   "cell_type": "markdown",
   "metadata": {},
   "source": [
    "## Solving the problem of unknown words\n"
   ]
  },
  {
   "cell_type": "code",
   "execution_count": 26,
   "metadata": {},
   "outputs": [
    {
     "data": {
      "text/plain": [
       "['Android is a mobile operating system developed by Google.\\r\\n',\n",
       " 'Android has been the best-selling OS worldwide on smartphones since 2011 and on tablets since 2013.\\r\\n',\n",
       " \"Google and Twitter made a deal in 2015 that gave Google access to Twitter's firehose.\\r\\n\",\n",
       " 'Twitter is an online news and social networking service on which users post and interact with messages known as tweets.\\r\\n',\n",
       " 'Before entering politics, Donald Trump was a domineering businessman and a television personality.\\r\\n',\n",
       " 'The 2018 FIFA World Cup is the 21st FIFA World Cup, an international football tournament contested once every four years.\\r\\n',\n",
       " 'This is the first World Cup to be held in Eastern Europe and the 11th time that it has been held in Europe.\\r\\n',\n",
       " 'Show me the cheapest round trips from Dallas to Atlanta\\r\\n',\n",
       " 'I would like to see flights from Denver to Philadelphia.\\r\\n',\n",
       " 'Show me the price of the flights leaving Atlanta at about 3 in the afternoon and arriving in San Francisco.\\r\\n',\n",
       " 'NASA invited social media users to experience the launch of ICESAT-2 Satellite.\\r\\n',\n",
       " '\\r\\n',\n",
       " '\\r\\n',\n",
       " '\\r\\n']"
      ]
     },
     "execution_count": 26,
     "metadata": {},
     "output_type": "execute_result"
    }
   ],
   "source": [
    "lines"
   ]
  },
  {
   "cell_type": "code",
   "execution_count": 27,
   "metadata": {},
   "outputs": [
    {
     "data": {
      "text/plain": [
       "['Android is a mobile operating system developed by Google.',\n",
       " 'Android has been the best-selling OS worldwide on smartphones since 2011 and on tablets since 2013.',\n",
       " \"Google and Twitter made a deal in 2015 that gave Google access to Twitter's firehose.\",\n",
       " 'Twitter is an online news and social networking service on which users post and interact with messages known as tweets.',\n",
       " 'Before entering politics, Donald Trump was a domineering businessman and a television personality.',\n",
       " 'The 2018 FIFA World Cup is the 21st FIFA World Cup, an international football tournament contested once every four years.',\n",
       " 'This is the first World Cup to be held in Eastern Europe and the 11th time that it has been held in Europe.',\n",
       " 'Show me the cheapest round trips from Dallas to Atlanta',\n",
       " 'I would like to see flights from Denver to Philadelphia.',\n",
       " 'Show me the price of the flights leaving Atlanta at about 3 in the afternoon and arriving in San Francisco.',\n",
       " 'NASA invited social media users to experience the launch of ICESAT-2 Satellite.']"
      ]
     },
     "execution_count": 27,
     "metadata": {},
     "output_type": "execute_result"
    }
   ],
   "source": [
    "#Strip the special characters and empty strings in the list file\n",
    "test_lines =[sent.rstrip() for sent in lines if sent.rstrip()!='']\n",
    "test_lines"
   ]
  },
  {
   "cell_type": "code",
   "execution_count": 28,
   "metadata": {},
   "outputs": [
    {
     "data": {
      "text/plain": [
       "[[('.', '.'), (('Ruth', 'CONJ'), ('Ruth', 'NOUN'))],\n",
       " [('Nelson', 'NOUN'), (('Cullowhee', 'CONJ'), ('Cullowhee', 'NOUN'))],\n",
       " [('shares', 'NOUN'), (('*T*-121', 'CONJ'), ('*T*-121', 'X'))],\n",
       " [('*T*-121', 'X'), (('trade', 'NOUN'), ('trade', 'VERB'))],\n",
       " [('.', '.'), (('Card', 'CONJ'), ('Card', 'NOUN'))],\n",
       " [('a', 'DET'), (('sweepstakes', 'CONJ'), ('sweepstakes', 'NOUN'))],\n",
       " [('Maxwell', 'NOUN'), (('R.D.', 'CONJ'), ('R.D.', 'NOUN'))],\n",
       " [('R.D.', 'NOUN'), (('Vos', 'CONJ'), ('Vos', 'NOUN'))],\n",
       " [(',', '.'), (('N.Y', 'CONJ'), ('N.Y', 'NOUN'))],\n",
       " [('The', 'DET'), (('Perch', 'CONJ'), ('Perch', 'NOUN'))],\n",
       " [('and', 'CONJ'), (('Dolphin', 'CONJ'), ('Dolphin', 'NOUN'))],\n",
       " [('producing', 'VERB'), (('early', 'ADV'), ('early', 'ADJ'))],\n",
       " [('the', 'DET'), (('Seahorse', 'CONJ'), ('Seahorse', 'NOUN'))],\n",
       " [('and', 'CONJ'), (('Tarwhine', 'CONJ'), ('Tarwhine', 'NOUN'))],\n",
       " [('be', 'VERB'), (('refunded', 'CONJ'), ('refunded', 'VERB'))],\n",
       " [('newly', 'ADV'), (('fattened', 'CONJ'), ('fattened', 'VERB'))],\n",
       " [('a', 'DET'), (('disembodied', 'CONJ'), ('disembodied', 'ADJ'))],\n",
       " [('disembodied', 'ADJ'), (('male', 'ADJ'), ('male', 'NOUN'))],\n",
       " [('.', '.'), (('Otherwise', 'CONJ'), ('Otherwise', 'ADV'))],\n",
       " [('the', 'DET'), (('300-day', 'CONJ'), ('300-day', 'ADJ'))],\n",
       " [('oldest', 'ADJ'), (('bell-ringing', 'CONJ'), ('bell-ringing', 'ADJ'))],\n",
       " [('the', 'DET'), (('Ancient', 'CONJ'), ('Ancient', 'NOUN'))],\n",
       " [('College', 'NOUN'), (('Youths', 'CONJ'), ('Youths', 'NOUN'))],\n",
       " [('in', 'ADP'), (('1637', 'CONJ'), ('1637', 'NUM'))],\n",
       " [('remains', 'VERB'), (('male-only', 'CONJ'), ('male-only', 'ADJ'))],\n",
       " [('fact', 'NOUN'), (('that', 'ADP'), ('that', 'DET'))],\n",
       " [('that', 'DET'), (('*T*-230', 'CONJ'), ('*T*-230', 'X'))],\n",
       " [('*T*-230', 'X'), ((\"'s\", 'PRT'), (\"'s\", 'VERB'))],\n",
       " [('particularly', 'ADV'), (('galling', 'CONJ'), ('galling', 'ADJ'))],\n",
       " [('the', 'DET'), (('sole', 'CONJ'), ('sole', 'ADJ'))],\n",
       " [(\"'s\", 'PRT'), (('Cathedral', 'CONJ'), ('Cathedral', 'NOUN'))],\n",
       " [('and', 'CONJ'), (('Westminster', 'CONJ'), ('Westminster', 'NOUN'))],\n",
       " [('Westminster', 'NOUN'), (('Abbey', 'CONJ'), ('Abbey', 'NOUN'))],\n",
       " [(\"'s\", 'PRT'), (('short-lived', 'CONJ'), ('short-lived', 'ADJ'))],\n",
       " [('democratic', 'ADJ'), (('Kerensky', 'CONJ'), ('Kerensky', 'NOUN'))],\n",
       " [('the', 'DET'), (('Communists', 'CONJ'), ('Communists', 'NOUN'))],\n",
       " [('Communists', 'NOUN'), (('seized', 'CONJ'), ('seized', 'VERB'))],\n",
       " [('in', 'ADP'), (('1917', 'CONJ'), ('1917', 'NUM'))],\n",
       " [('funds', 'NOUN'), (('mirrors', 'CONJ'), ('mirrors', 'VERB'))],\n",
       " [('fund', 'NOUN'), (('mania', 'CONJ'), ('mania', 'NOUN'))],\n",
       " [('the', 'DET'), (('1920s', 'NUM'), ('1920s', 'NOUN'))],\n",
       " [('when', 'ADV'), (('narrowly', 'CONJ'), ('narrowly', 'ADV'))],\n",
       " [('grew', 'VERB'), (('wildly', 'CONJ'), ('wildly', 'ADV'))],\n",
       " [(',', '.'), (('as', 'ADP'), ('as', 'ADV'))],\n",
       " [('possible', 'ADJ'), (('white', 'NOUN'), ('white', 'ADJ'))],\n",
       " [('white', 'ADJ'), (('knight', 'CONJ'), ('knight', 'NOUN'))],\n",
       " [('an', 'DET'), (('undisclosed', 'CONJ'), ('undisclosed', 'ADJ'))],\n",
       " [('for', 'ADP'), (('Great', 'NOUN'), ('Great', 'ADJ'))],\n",
       " [('the', 'DET'), (('flightiness', 'CONJ'), ('flightiness', 'NOUN'))],\n",
       " [('will', 'VERB'), (('diminish', 'CONJ'), ('diminish', 'VERB'))],\n",
       " [('the', 'DET'), (('East', 'NOUN'), ('East', 'ADJ'))],\n",
       " [('East', 'ADJ'), (('Anglian', 'CONJ'), ('Anglian', 'ADJ'))],\n",
       " [('group', 'NOUN'), (('that', 'ADP'), ('that', 'DET'))],\n",
       " [('that', 'DET'), (('*T*-223', 'CONJ'), ('*T*-223', 'X'))],\n",
       " [('bells', 'NOUN'), (('pealing', 'CONJ'), ('pealing', 'VERB'))],\n",
       " [('advertising', 'NOUN'), (('standpoint', 'CONJ'), ('standpoint', 'NOUN'))],\n",
       " [('folks', 'NOUN'), (('that', 'ADP'), ('that', 'DET'))],\n",
       " [('that', 'DET'), (('*T*-153', 'CONJ'), ('*T*-153', 'X'))],\n",
       " [('a', 'DET'), (('gigantic', 'CONJ'), ('gigantic', 'ADJ'))],\n",
       " [('gigantic', 'ADJ'), (('crapshoot', 'CONJ'), ('crapshoot', 'NOUN'))],\n",
       " [('A', 'DET'), (('buffet', 'VERB'), ('buffet', 'NOUN'))],\n",
       " [('buffet', 'NOUN'), (('breakfast', 'CONJ'), ('breakfast', 'NOUN'))],\n",
       " [('and', 'CONJ'), (('drinks', 'CONJ'), ('drinks', 'NOUN'))],\n",
       " [('to', 'PRT'), (('everyday', 'CONJ'), ('everyday', 'ADJ'))],\n",
       " [('A', 'DET'), (('Different', 'CONJ'), ('Different', 'NOUN'))],\n",
       " [('a', 'DET'), (('spin-off', 'CONJ'), ('spin-off', 'NOUN'))],\n",
       " [('reruns', 'NOUN'), (('*T*-151', 'CONJ'), ('*T*-151', 'X'))],\n",
       " [('The', 'DET'), (('forthcoming', 'CONJ'), ('forthcoming', 'ADJ'))],\n",
       " [('a', 'DET'), (('10-year', 'ADJ'), ('10-year', 'NUM'))],\n",
       " [('government', 'NOUN'),\n",
       "  (('yen-denominated', 'CONJ'), ('yen-denominated', 'ADJ'))],\n",
       " [('at', 'ADP'), (('about', 'ADP'), ('about', 'ADV'))],\n",
       " [('investors', 'NOUN'), (('redeeming', 'CONJ'), ('redeeming', 'VERB'))],\n",
       " [('provision', 'NOUN'), (('amounts', 'NOUN'), ('amounts', 'VERB'))],\n",
       " [('a', 'DET'), (('one-house', 'CONJ'), ('one-house', 'ADJ'))],\n",
       " [('neither', 'DET'), (('bicameral', 'CONJ'), ('bicameral', 'ADJ'))],\n",
       " [('nor', 'CONJ'), (('presentation', 'CONJ'), ('presentation', 'NOUN'))],\n",
       " [('his', 'PRON'), (('signature', 'CONJ'), ('signature', 'NOUN'))],\n",
       " [('coaching', 'NOUN'), (('aids', 'CONJ'), ('aids', 'NOUN'))],\n",
       " [('can', 'VERB'), (('defeat', 'NOUN'), ('defeat', 'VERB'))],\n",
       " [('which', 'DET'), (('*T*-104', 'CONJ'), ('*T*-104', 'X'))],\n",
       " [('gauge', 'VERB'), (('learning', 'CONJ'), ('learning', 'NOUN'))],\n",
       " [('are', 'VERB'), (('reaping', 'CONJ'), ('reaping', 'VERB'))],\n",
       " [('sudden', 'ADJ'), (('windfall', 'CONJ'), ('windfall', 'NOUN'))],\n",
       " [('carrier', 'NOUN'), (('costs', 'NOUN'), ('costs', 'VERB'))],\n",
       " [('costs', 'VERB'), (('less', 'ADV'), ('less', 'ADJ'))],\n",
       " [('takes', 'VERB'), (('up', 'ADV'), ('up', 'PRT'))],\n",
       " [('paper', 'NOUN'), (('carriers', 'CONJ'), ('carriers', 'NOUN'))],\n",
       " [('failed', 'VERB'),\n",
       "  (('labor-management', 'NOUN'), ('labor-management', 'ADJ'))],\n",
       " [('.', '.'), (('Gunmen', 'CONJ'), ('Gunmen', 'NOUN'))],\n",
       " [('in', 'ADP'), (('Lebanon', 'CONJ'), ('Lebanon', 'NOUN'))],\n",
       " [('Lebanon', 'NOUN'), (('assassinated', 'CONJ'), ('assassinated', 'VERB'))],\n",
       " [('Saudi', 'NOUN'), (('Arabian', 'CONJ'), ('Arabian', 'NOUN'))],\n",
       " [('the', 'DET'), (('pro-Iranian', 'CONJ'), ('pro-Iranian', 'ADJ'))],\n",
       " [('pro-Iranian', 'ADJ'), (('Islamic', 'CONJ'), ('Islamic', 'NOUN'))],\n",
       " [('the', 'DET'), (('slaying', 'CONJ'), ('slaying', 'NOUN'))],\n",
       " [('to', 'PRT'), (('avenge', 'CONJ'), ('avenge', 'VERB'))],\n",
       " [('the', 'DET'), (('beheading', 'CONJ'), ('beheading', 'NOUN'))],\n",
       " [('16', 'NUM'), (('terrorists', 'CONJ'), ('terrorists', 'NOUN'))],\n",
       " [('by', 'ADP'), (('Riyadh', 'CONJ'), ('Riyadh', 'NOUN'))],\n",
       " [('for', 'ADP'),\n",
       "  (('computer-system-design', 'CONJ'), ('computer-system-design', 'ADJ'))],\n",
       " [('obtained', 'VERB'), (('8300', 'NUM'), ('8300', 'ADJ'))],\n",
       " [('And', 'CONJ'), (('unlike', 'ADJ'), ('unlike', 'ADP'))],\n",
       " [('*', 'X'), (('bless', 'CONJ'), ('bless', 'VERB'))],\n",
       " [('covers', 'VERB'), (('only', 'ADV'), ('only', 'ADJ'))],\n",
       " [('who', 'PRON'), (('*T*-260', 'CONJ'), ('*T*-260', 'X'))],\n",
       " [('including', 'VERB'), (('air', 'VERB'), ('air', 'NOUN'))],\n",
       " [('air', 'NOUN'), (('bags', 'CONJ'), ('bags', 'NOUN'))],\n",
       " [('in', 'ADP'), (('front', 'NOUN'), ('front', 'ADJ'))],\n",
       " [('improved', 'VERB'), (('side-crash', 'CONJ'), ('side-crash', 'ADJ'))],\n",
       " [('.', '.'), (('GOODY', 'CONJ'), ('GOODY', 'NOUN'))],\n",
       " [('GOODY', 'NOUN'), (('PRODUCTS', 'CONJ'), ('PRODUCTS', 'NOUN'))],\n",
       " [('from', 'ADP'), (('11.5', 'CONJ'), ('11.5', 'NUM'))],\n",
       " [('was', 'VERB'), (('untrained', 'CONJ'), ('untrained', 'ADJ'))],\n",
       " [('one', 'NUM'), (('botched', 'CONJ'), ('botched', 'ADJ'))],\n",
       " [(\"'\", 'PRT'), (('chief', 'NOUN'), ('chief', 'ADJ'))],\n",
       " [('the', 'DET'), (('asset-sale', 'CONJ'), ('asset-sale', 'ADJ'))],\n",
       " [('would', 'VERB'), (('end', 'NOUN'), ('end', 'VERB'))],\n",
       " [('$', '.'), (('620', 'CONJ'), ('620', 'NUM'))],\n",
       " [('$', '.'), (('45.2', 'CONJ'), ('45.2', 'NUM'))],\n",
       " [('$', '.'), (('84.9', 'CONJ'), ('84.9', 'NUM'))],\n",
       " [('$', '.'), (('1.24', 'CONJ'), ('1.24', 'NUM'))],\n",
       " [('year', 'NOUN'), (('earlier', 'ADV'), ('earlier', 'ADJ'))],\n",
       " [('an', 'DET'), (('eight-count', 'CONJ'), ('eight-count', 'ADJ'))],\n",
       " [('eight-count', 'ADJ'), (('indictment', 'CONJ'), ('indictment', 'NOUN'))],\n",
       " [('its', 'PRON'), (('Vice', 'CONJ'), ('Vice', 'NOUN'))],\n",
       " [('T.', 'NOUN'), (('Sherwin', 'CONJ'), ('Sherwin', 'NOUN'))],\n",
       " [('to', 'PRT'), (('manipulate', 'CONJ'), ('manipulate', 'VERB'))],\n",
       " [('Union', 'NOUN'), (('Carbide', 'CONJ'), ('Carbide', 'NOUN'))],\n",
       " [(\"'s\", 'PRT'), (('planned', 'VERB'), ('planned', 'ADJ'))],\n",
       " [('expected', 'VERB'), (('*-129', 'CONJ'), ('*-129', 'X'))],\n",
       " [('has', 'VERB'), (('promised', 'CONJ'), ('promised', 'VERB'))],\n",
       " [('promised', 'VERB'), (('stiffer', 'CONJ'), ('stiffer', 'ADJ'))],\n",
       " [('to', 'PRT'), (('study', 'NOUN'), ('study', 'VERB'))],\n",
       " [('$', '.'), (('3.28', 'CONJ'), ('3.28', 'NUM'))],\n",
       " [('$', '.'), (('3.16', 'CONJ'), ('3.16', 'NUM'))],\n",
       " [('M.', 'NOUN'), (('Rexinger', 'CONJ'), ('Rexinger', 'NOUN'))],\n",
       " [('City', 'NOUN'), (('executive', 'NOUN'), ('executive', 'ADJ'))],\n",
       " [('R.', 'NOUN'), (('Glauber', 'CONJ'), ('Glauber', 'NOUN'))],\n",
       " [('the', 'DET'), (('12-member', 'CONJ'), ('12-member', 'ADJ'))],\n",
       " [('the', 'DET'), (('risk-free', 'CONJ'), ('risk-free', 'ADJ'))],\n",
       " [('easily', 'ADV'), (('outdistanced', 'CONJ'), ('outdistanced', 'VERB'))],\n",
       " [('John', 'NOUN'), (('Lonski', 'CONJ'), ('Lonski', 'NOUN'))],\n",
       " [('a', 'DET'), (('richer', 'CONJ'), ('richer', 'ADJ'))],\n",
       " [('the', 'DET'), (('more', 'ADJ'), ('more', 'ADV'))],\n",
       " [('profitable', 'ADJ'), (('pipe', 'CONJ'), ('pipe', 'NOUN'))],\n",
       " [('and', 'CONJ'), (('galvanized', 'CONJ'), ('galvanized', 'ADJ'))],\n",
       " [('galvanized', 'ADJ'), (('coated', 'CONJ'), ('coated', 'VERB'))],\n",
       " [('than', 'ADP'), (('lower-priced', 'CONJ'), ('lower-priced', 'ADJ'))],\n",
       " [('lower-priced', 'ADJ'), (('structural', 'CONJ'), ('structural', 'ADJ'))],\n",
       " [('*ICH*-1', 'X'), (('Kathryn', 'CONJ'), ('Kathryn', 'NOUN'))],\n",
       " [('Kathryn', 'NOUN'), (('McAuley', 'CONJ'), ('McAuley', 'NOUN'))],\n",
       " [('not', 'ADV'), (('concern', 'NOUN'), ('concern', 'VERB'))],\n",
       " [('are', 'VERB'), (('sufficiently', 'CONJ'), ('sufficiently', 'ADV'))],\n",
       " [('greatly', 'ADV'), (('inflated', 'CONJ'), ('inflated', 'VERB'))],\n",
       " [('Buick', 'NOUN'), (('approached', 'CONJ'), ('approached', 'VERB'))],\n",
       " [('approached', 'VERB'), (('American', 'ADJ'), ('American', 'NOUN'))],\n",
       " [('hurt', 'VERB'), (('U.S.-Japan', 'CONJ'), ('U.S.-Japan', 'ADJ'))],\n",
       " [('a', 'DET'), (('minus', 'CONJ'), ('minus', 'NOUN'))],\n",
       " [('dividend', 'NOUN'), (('yield', 'VERB'), ('yield', 'NOUN'))],\n",
       " [('level', 'NOUN'), (('that', 'ADP'), ('that', 'DET'))],\n",
       " [('that', 'DET'), (('*T*-232', 'CONJ'), ('*T*-232', 'X'))],\n",
       " [('and', 'CONJ'), (('unenticing', 'CONJ'), ('unenticing', 'ADJ'))],\n",
       " [('something', 'NOUN'), (('stuck', 'CONJ'), ('stuck', 'VERB'))],\n",
       " [('to', 'PRT'), (('last', 'ADJ'), ('last', 'VERB'))],\n",
       " [('are', 'VERB'), (('worth', 'ADJ'), ('worth', 'ADP'))],\n",
       " [('for', 'ADP'), (('aesthetic', 'CONJ'), ('aesthetic', 'ADJ'))],\n",
       " [('one', 'NUM'), (('famed', 'CONJ'), ('famed', 'ADJ'))],\n",
       " [('*', 'X'), (('SWITCHING', 'CONJ'), ('SWITCHING', 'VERB'))],\n",
       " [('SWITCHING', 'VERB'), (('TO', 'CONJ'), ('TO', 'PRT'))],\n",
       " [('THE', 'DET'), (('DEFENSE', 'CONJ'), ('DEFENSE', 'NOUN'))],\n",
       " [('a', 'DET'), (('fast-growing', 'CONJ'), ('fast-growing', 'ADJ'))],\n",
       " [(',', '.'), (('acquisition-minded', 'CONJ'), ('acquisition-minded', 'ADJ'))],\n",
       " [('London-based', 'ADJ'), (('jeweler', 'CONJ'), ('jeweler', 'NOUN'))],\n",
       " [('for', 'ADP'), (('Seattle-based', 'CONJ'), ('Seattle-based', 'ADJ'))],\n",
       " [('specialty', 'NOUN'), (('jeweler', 'CONJ'), ('jeweler', 'NOUN'))],\n",
       " [('$', '.'), (('62.1', 'CONJ'), ('62.1', 'NUM'))],\n",
       " [('to', 'PRT'), (('outbid', 'CONJ'), ('outbid', 'VERB'))],\n",
       " [('a', 'DET'), (('buildup', 'CONJ'), ('buildup', 'NOUN'))],\n",
       " [('can', 'VERB'), (('provoke', 'CONJ'), ('provoke', 'VERB'))],\n",
       " [('production', 'NOUN'), (('that', 'ADP'), ('that', 'DET'))],\n",
       " [('*-1', 'X'), (('Bucking', 'CONJ'), ('Bucking', 'VERB'))],\n",
       " [('apparently', 'ADV'), (('drew', 'CONJ'), ('drew', 'VERB'))],\n",
       " [('*', 'X'), (('addressing', 'CONJ'), ('addressing', 'VERB'))],\n",
       " [('*-1', 'X'), (('Rated', 'CONJ'), ('Rated', 'VERB'))],\n",
       " [('drawn', 'VERB'), (('*-139', 'CONJ'), ('*-139', 'X'))],\n",
       " [('that', 'DET'), (('fuller', 'CONJ'), ('fuller', 'ADJ'))],\n",
       " [(\"''\", '.'), (('Concurrent', 'CONJ'), ('Concurrent', 'ADJ'))],\n",
       " [('many', 'ADJ'), (('emerging', 'CONJ'), ('emerging', 'VERB'))],\n",
       " [('have', 'VERB'), (('outpaced', 'CONJ'), ('outpaced', 'VERB'))],\n",
       " [('outpaced', 'VERB'), (('more', 'ADJ'), ('more', 'ADV'))],\n",
       " [('more', 'ADV'), (('mature', 'VERB'), ('mature', 'ADJ'))],\n",
       " [('.', '.'), (('Common', 'NOUN'), ('Common', 'ADJ'))],\n",
       " [('$', '.'), (('5.57', 'CONJ'), ('5.57', 'NUM'))],\n",
       " [('Ed', 'NOUN'), (('Macheski', 'CONJ'), ('Macheski', 'NOUN'))],\n",
       " [('a', 'DET'), (('Wilton', 'CONJ'), ('Wilton', 'NOUN'))],\n",
       " [('who', 'PRON'), (('*T*-120', 'CONJ'), ('*T*-120', 'X'))],\n",
       " [('green', 'ADJ'), (('light', 'ADJ'), ('light', 'NOUN'))],\n",
       " [(\"'s\", 'PRT'), (('yielding', 'VERB'), ('yielding', 'NOUN'))],\n",
       " [('--', '.'), (('telegraph', 'NOUN'), ('telegraph', 'VERB'))],\n",
       " [('students', 'NOUN'), (('beforehand', 'CONJ'), ('beforehand', 'ADV'))],\n",
       " [('the', 'DET'), (('precise', 'CONJ'), ('precise', 'ADJ'))],\n",
       " [('give', 'VERB'), (('away', 'ADV'), ('away', 'PRT'))],\n",
       " [('general', 'ADJ'), (('softening', 'VERB'), ('softening', 'NOUN'))],\n",
       " [('more', 'ADV'), (('scarce', 'CONJ'), ('scarce', 'ADJ'))],\n",
       " [('``', '.'), (('Public', 'NOUN'), ('Public', 'ADJ'))],\n",
       " [('policy', 'NOUN'), (('favors', 'CONJ'), ('favors', 'VERB'))],\n",
       " [('might', 'VERB'), (('accompany', 'CONJ'), ('accompany', 'VERB'))],\n",
       " [('save', 'VERB'), (('lives', 'VERB'), ('lives', 'NOUN'))],\n",
       " [('reduce', 'VERB'), (('pain', 'CONJ'), ('pain', 'NOUN'))],\n",
       " [('the', 'DET'), (('unanimous', 'CONJ'), ('unanimous', 'ADJ'))],\n",
       " [('trading', 'NOUN'), (('focus', 'VERB'), ('focus', 'NOUN'))],\n",
       " [('will', 'VERB'), (('personally', 'CONJ'), ('personally', 'ADV'))],\n",
       " [('personally', 'ADV'), (('direct', 'ADJ'), ('direct', 'VERB'))],\n",
       " [('*-1', 'X'), (('assisted', 'CONJ'), ('assisted', 'VERB'))],\n",
       " [('by', 'ADP'), (('Manfred', 'CONJ'), ('Manfred', 'NOUN'))],\n",
       " [('Manfred', 'NOUN'), (('Gingl', 'CONJ'), ('Gingl', 'NOUN'))],\n",
       " [('The', 'DET'), (('Sacramento-based', 'CONJ'), ('Sacramento-based', 'ADJ'))],\n",
       " [('which', 'DET'), (('*T*-110', 'CONJ'), ('*T*-110', 'X'))],\n",
       " [('in', 'ADP'), (('north', 'CONJ'), ('north', 'ADJ'))],\n",
       " [('print', 'VERB'), (('hither', 'CONJ'), ('hither', 'ADV'))],\n",
       " [('to', 'PRT'), (('yon', 'CONJ'), ('yon', 'ADV'))],\n",
       " [(\"n't\", 'ADV'), (('as', 'ADP'), ('as', 'ADV'))],\n",
       " [('as', 'ADV'), (('troublesome', 'CONJ'), ('troublesome', 'ADJ'))],\n",
       " [('called', 'VERB'), (('in', 'ADP'), ('in', 'PRT'))],\n",
       " [('to', 'PRT'), (('arrest', 'CONJ'), ('arrest', 'VERB'))],\n",
       " [('were', 'VERB'), (('occupying', 'CONJ'), ('occupying', 'VERB'))],\n",
       " [('*T*-1', 'X'), (('Brenda', 'CONJ'), ('Brenda', 'NOUN'))],\n",
       " [('Brenda', 'NOUN'), (('Malizia', 'CONJ'), ('Malizia', 'NOUN'))],\n",
       " [('Malizia', 'NOUN'), (('Negus', 'CONJ'), ('Negus', 'NOUN'))],\n",
       " [('may', 'VERB'), (('blip', 'CONJ'), ('blip', 'VERB'))],\n",
       " [('blip', 'VERB'), (('up', 'ADV'), ('up', 'PRT'))],\n",
       " [('they', 'PRON'), (('blip', 'CONJ'), ('blip', 'VERB'))],\n",
       " [('blip', 'VERB'), (('down', 'ADV'), ('down', 'PRT'))],\n",
       " [('recent', 'ADJ'), (('rises', 'CONJ'), ('rises', 'NOUN'))],\n",
       " [('to', 'PRT'), (('veto', 'NOUN'), ('veto', 'VERB'))],\n",
       " [('veto', 'VERB'), (('such', 'ADJ'), ('such', 'DET'))],\n",
       " [('it', 'PRON'), (('views', 'NOUN'), ('views', 'VERB'))],\n",
       " [('an', 'DET'), (('undesirable', 'CONJ'), ('undesirable', 'ADJ'))],\n",
       " [('undesirable', 'ADJ'), (('intrusion', 'CONJ'), ('intrusion', 'NOUN'))],\n",
       " [('the', 'DET'), (('300-113', 'CONJ'), ('300-113', 'NUM'))],\n",
       " [('the', 'DET'), (('potential', 'ADJ'), ('potential', 'NOUN'))],\n",
       " [('to', 'PRT'), (('override', 'CONJ'), ('override', 'VERB'))],\n",
       " [('in', 'ADP'), (('1988-89', 'CONJ'), ('1988-89', 'NUM'))],\n",
       " [('the', 'DET'), (('manufacturing', 'NOUN'), ('manufacturing', 'VERB'))],\n",
       " [('.', '.'), (('Something', 'CONJ'), ('Something', 'NOUN'))],\n",
       " [(',', '.'), (('ranging', 'CONJ'), ('ranging', 'VERB'))],\n",
       " [('St.', 'NOUN'), (('Petersburg', 'CONJ'), ('Petersburg', 'NOUN'))],\n",
       " [('of', 'ADP'), (('as', 'ADP'), ('as', 'ADV'))],\n",
       " [('and', 'CONJ'), (('restructurings', 'CONJ'), ('restructurings', 'NOUN'))],\n",
       " [('W.', 'NOUN'), (('Perritt', 'CONJ'), ('Perritt', 'NOUN'))],\n",
       " [('at', 'ADP'), (('14.53', 'CONJ'), ('14.53', 'NUM'))],\n",
       " [('up', 'ADV'), (('0.56', 'CONJ'), ('0.56', 'NUM'))],\n",
       " [('The', 'DET'), (('total', 'ADJ'), ('total', 'NOUN'))],\n",
       " [('total', 'NOUN'), (('marks', 'NOUN'), ('marks', 'VERB'))],\n",
       " [('make', 'VERB'), (('sweatshirts', 'CONJ'), ('sweatshirts', 'NOUN'))],\n",
       " [('or', 'CONJ'), (('sparkplugs', 'CONJ'), ('sparkplugs', 'NOUN'))],\n",
       " [('in', 'ADP'), (('detail', 'CONJ'), ('detail', 'NOUN'))],\n",
       " [('Chinese', 'ADJ'), (('dissident', 'CONJ'), ('dissident', 'NOUN'))],\n",
       " [('Fang', 'NOUN'), (('Lizhi', 'CONJ'), ('Lizhi', 'NOUN'))],\n",
       " [('Li', 'NOUN'), (('Shuxian', 'CONJ'), ('Shuxian', 'NOUN'))],\n",
       " [('took', 'VERB'), (('refuge', 'CONJ'), ('refuge', 'NOUN'))],\n",
       " [('transaction', 'NOUN'), (('sound', 'NOUN'), ('sound', 'VERB'))],\n",
       " [('his', 'PRON'), (('doctorate', 'CONJ'), ('doctorate', 'NOUN'))],\n",
       " [('.', '.'), (('Propaganda', 'CONJ'), ('Propaganda', 'NOUN'))],\n",
       " [('make', 'VERB'), (('up', 'ADV'), ('up', 'PRT'))],\n",
       " [('own', 'ADJ'), (('mind', 'VERB'), ('mind', 'NOUN'))],\n",
       " [('a', 'DET'), (('principal', 'NOUN'), ('principal', 'ADJ'))],\n",
       " [('biggest', 'ADJ'), (('nonfinancial', 'CONJ'), ('nonfinancial', 'ADJ'))],\n",
       " [('gained', 'VERB'), (('1.39', 'CONJ'), ('1.39', 'NUM'))],\n",
       " [('to', 'PRT'), (('446.62', 'CONJ'), ('446.62', 'NUM'))],\n",
       " [('the', 'DET'), (('sell', 'VERB'), ('sell', 'NOUN'))],\n",
       " [('order', 'NOUN'), (('printers', 'CONJ'), ('printers', 'NOUN'))],\n",
       " [('printers', 'NOUN'), (('start', 'NOUN'), ('start', 'VERB'))],\n",
       " [('specialist', 'NOUN'), (('there', 'DET'), ('there', 'ADV'))],\n",
       " [(',', '.'), (('plans', 'NOUN'), ('plans', 'VERB'))],\n",
       " [('proposal', 'NOUN'), (('that', 'ADP'), ('that', 'DET'))],\n",
       " [('a', 'DET'), (('centerpiece', 'CONJ'), ('centerpiece', 'NOUN'))],\n",
       " [(':', '.'), (('acid', 'NOUN'), ('acid', 'ADJ'))],\n",
       " [('added', 'VERB'), (('fuel', 'VERB'), ('fuel', 'NOUN'))],\n",
       " [('the', 'DET'), (('fires', 'CONJ'), ('fires', 'NOUN'))],\n",
       " [('of', 'ADP'), (('discontent', 'CONJ'), ('discontent', 'NOUN'))],\n",
       " [('well', 'ADV'), (('stoked', 'CONJ'), ('stoked', 'VERB'))],\n",
       " [('Pickens', 'NOUN'), (('Jr', 'CONJ'), ('Jr', 'NOUN'))],\n",
       " [('``', '.'), (('derivatives', 'CONJ'), ('derivatives', 'NOUN'))],\n",
       " [('times', 'NOUN'), (('as', 'ADP'), ('as', 'ADV'))],\n",
       " [('the', 'DET'), (('underlying', 'ADJ'), ('underlying', 'VERB'))],\n",
       " [('``', '.'), (('minority-owned', 'CONJ'), ('minority-owned', 'ADJ'))],\n",
       " [('a', 'DET'), (('blighted', 'CONJ'), ('blighted', 'ADJ'))],\n",
       " [('*', 'X'), (('famous', 'CONJ'), ('famous', 'ADJ'))],\n",
       " [('by', 'ADP'), (('Jimmy', 'CONJ'), ('Jimmy', 'NOUN'))],\n",
       " [(\"'s\", 'PRT'), (('500-Stock', 'CONJ'), ('500-Stock', 'NOUN'))],\n",
       " [('added', 'VERB'), (('0.84', 'CONJ'), ('0.84', 'NUM'))],\n",
       " [('to', 'PRT'), (('341.20', 'CONJ'), ('341.20', 'NUM'))],\n",
       " [('was', 'VERB'), (('equivalent', 'NOUN'), ('equivalent', 'ADJ'))],\n",
       " [('industrial', 'ADJ'), (('average', 'ADJ'), ('average', 'NOUN'))],\n",
       " [('the', 'DET'), (('earliest', 'CONJ'), ('earliest', 'ADJ'))],\n",
       " [('something', 'NOUN'), (('inherently', 'CONJ'), ('inherently', 'ADV'))],\n",
       " [('inherently', 'ADV'), (('suspect', 'VERB'), ('suspect', 'ADJ'))],\n",
       " [(\"'s\", 'PRT'), (('prohibiting', 'CONJ'), ('prohibiting', 'VERB'))],\n",
       " [('the', 'DET'), (('executive', 'ADJ'), ('executive', 'NOUN'))],\n",
       " [('being', 'VERB'), (('wasted', 'CONJ'), ('wasted', 'VERB'))],\n",
       " [('some', 'DET'), (('favored', 'ADJ'), ('favored', 'VERB'))],\n",
       " [('an', 'DET'), (('interior', 'CONJ'), ('interior', 'ADJ'))],\n",
       " [('interior', 'ADJ'), (('decorator', 'CONJ'), ('decorator', 'NOUN'))],\n",
       " [('things', 'NOUN'), (('spook', 'CONJ'), ('spook', 'VERB'))],\n",
       " [(',', '.'), (('traced', 'CONJ'), ('traced', 'VERB'))],\n",
       " [('another', 'DET'), (('wave', 'CONJ'), ('wave', 'NOUN'))],\n",
       " [('0', 'X'), (('most', 'ADV'), ('most', 'ADJ'))],\n",
       " [(',', '.'), (('sociology', 'CONJ'), ('sociology', 'NOUN'))],\n",
       " [('to', 'PRT'), (('913', 'CONJ'), ('913', 'NUM'))],\n",
       " [('$', '.'), (('14.43', 'CONJ'), ('14.43', 'NUM'))],\n",
       " [('conversations', 'NOUN'), (('that', 'ADP'), ('that', 'DET'))],\n",
       " [('of', 'ADP'), (('Mount', 'CONJ'), ('Mount', 'NOUN'))],\n",
       " [('Mount', 'NOUN'), (('Clemens', 'CONJ'), ('Clemens', 'NOUN'))],\n",
       " [('London', 'NOUN'), (('borough', 'CONJ'), ('borough', 'NOUN'))],\n",
       " [('a', 'DET'), (('powerhouse', 'CONJ'), ('powerhouse', 'NOUN'))],\n",
       " [('Robert', 'NOUN'), (('Gottlieb', 'CONJ'), ('Gottlieb', 'NOUN'))],\n",
       " [('New', 'NOUN'), (('Yorker', 'CONJ'), ('Yorker', 'NOUN'))],\n",
       " [(',', '.'), (('money-fund', 'CONJ'), ('money-fund', 'NOUN'))],\n",
       " [('which', 'DET'), (('*T*-194', 'CONJ'), ('*T*-194', 'X'))],\n",
       " [('no', 'DET'), (('relation', 'CONJ'), ('relation', 'NOUN'))],\n",
       " [('can', 'VERB'), (('generate', 'CONJ'), ('generate', 'VERB'))],\n",
       " [('effective', 'ADJ'),\n",
       "  (('search-and-seizure', 'CONJ'), ('search-and-seizure', 'ADJ'))],\n",
       " [('to', 'PRT'), (('aid', 'NOUN'), ('aid', 'VERB'))],\n",
       " [('the', 'DET'), (('exits', 'CONJ'), ('exits', 'NOUN'))],\n",
       " [('market', 'NOUN'), (('rebound', 'VERB'), ('rebound', 'NOUN'))],\n",
       " [('rebound', 'NOUN'), (('pushes', 'CONJ'), ('pushes', 'VERB'))],\n",
       " [('the', 'DET'), (('delay', 'VERB'), ('delay', 'NOUN'))],\n",
       " [('.', '.'), (('Always', 'CONJ'), ('Always', 'ADV'))],\n",
       " [('$', '.'), (('422.5', 'CONJ'), ('422.5', 'NUM'))],\n",
       " [('$', '.'), (('6.44', 'CONJ'), ('6.44', 'NUM'))],\n",
       " [('up', 'ADV'), (('8.9', 'CONJ'), ('8.9', 'NUM'))],\n",
       " [('$', '.'), (('387.8', 'CONJ'), ('387.8', 'NUM'))],\n",
       " [('$', '.'), (('5.63', 'CONJ'), ('5.63', 'NUM'))],\n",
       " [('*T*-14', 'X'), (('matters', 'NOUN'), ('matters', 'VERB'))],\n",
       " [('doing', 'VERB'), (('fine', 'NOUN'), ('fine', 'ADV'))],\n",
       " [('a', 'DET'), (('needy', 'CONJ'), ('needy', 'ADJ'))],\n",
       " [('loan', 'NOUN'), (('solvent', 'CONJ'), ('solvent', 'ADJ'))],\n",
       " [('$', '.'), (('490', 'CONJ'), ('490', 'NUM'))],\n",
       " [('the', 'DET'), (('buy-back', 'ADJ'), ('buy-back', 'NOUN'))],\n",
       " [('the', 'DET'), (('hardest-hit', 'CONJ'), ('hardest-hit', 'ADJ'))],\n",
       " [('the', 'DET'), (('Dakotas', 'CONJ'), ('Dakotas', 'NOUN'))],\n",
       " [('of', 'ADP'), (('flashy', 'CONJ'), ('flashy', 'ADJ'))],\n",
       " [('By', 'ADP'), (('1997', 'CONJ'), ('1997', 'NUM'))],\n",
       " [('remaining', 'VERB'), (('uses', 'VERB'), ('uses', 'NOUN'))],\n",
       " [('of', 'ADP'), (('cancer-causing', 'CONJ'), ('cancer-causing', 'ADJ'))],\n",
       " [('be', 'VERB'), (('outlawed', 'CONJ'), ('outlawed', 'VERB'))],\n",
       " [('totaled', 'VERB'), (('154.2', 'CONJ'), ('154.2', 'NUM'))],\n",
       " [('.', '.'), (('Bears', 'CONJ'), ('Bears', 'NOUN'))],\n",
       " [('the', 'DET'), (('shaky', 'CONJ'), ('shaky', 'ADJ'))],\n",
       " [('will', 'VERB'), (('convert', 'CONJ'), ('convert', 'VERB'))],\n",
       " [('.', '.'), (('Similar', 'CONJ'), ('Similar', 'ADJ'))],\n",
       " [('levels', 'NOUN'), (('hamstrung', 'CONJ'), ('hamstrung', 'VERB'))],\n",
       " [('very', 'ADV'), (('alarmed', 'CONJ'), ('alarmed', 'VERB'))],\n",
       " [('rich', 'ADJ'), (('valuations', 'CONJ'), ('valuations', 'NOUN'))],\n",
       " [('.', '.'), (('More', 'ADV'), ('More', 'ADJ'))],\n",
       " [('the', 'DET'), (('red-carpet', 'CONJ'), ('red-carpet', 'ADJ'))],\n",
       " [('treatment', 'NOUN'), (('tempts', 'CONJ'), ('tempts', 'VERB'))],\n",
       " [('to', 'PRT'), (('return', 'NOUN'), ('return', 'VERB'))],\n",
       " [('a', 'DET'), (('heartland', 'CONJ'), ('heartland', 'NOUN'))],\n",
       " [('takes', 'VERB'), (('places', 'VERB'), ('places', 'NOUN'))],\n",
       " [('to', 'PRT'), (('issue', 'NOUN'), ('issue', 'VERB'))],\n",
       " [('a', 'DET'), (('1934', 'CONJ'), ('1934', 'NUM'))],\n",
       " [('Johnson', 'NOUN'), (('Debt', 'CONJ'), ('Debt', 'NOUN'))],\n",
       " [('Debt', 'NOUN'), (('Default', 'CONJ'), ('Default', 'NOUN'))],\n",
       " [(',', '.'), (('as', 'ADP'), ('as', 'ADV'))],\n",
       " [('*', 'X'), (('amended', 'CONJ'), ('amended', 'VERB'))],\n",
       " [('*EXP*-2', 'X'), ((\"'s\", 'PRT'), (\"'s\", 'VERB'))],\n",
       " [('to', 'PRT'), (('double-C', 'CONJ'), ('double-C', 'NOUN'))],\n",
       " [('from', 'ADP'), (('triple-C', 'CONJ'), ('triple-C', 'NOUN'))],\n",
       " [('.', '.'), (('Activity', 'CONJ'), ('Activity', 'NOUN'))],\n",
       " [('in', 'ADP'), (('derivative', 'CONJ'), ('derivative', 'ADJ'))],\n",
       " [('*', 'X'), (('Having', 'CONJ'), ('Having', 'VERB'))],\n",
       " [('a', 'DET'), (('supportive', 'CONJ'), ('supportive', 'ADJ'))],\n",
       " [('supportive', 'ADJ'), (('element', 'CONJ'), ('element', 'NOUN'))],\n",
       " [('$', '.'), (('8.9', 'CONJ'), ('8.9', 'NUM'))],\n",
       " [('Anne', 'NOUN'), (('Dolan', 'CONJ'), ('Dolan', 'NOUN'))],\n",
       " [(',', '.'), (('restored', 'CONJ'), ('restored', 'VERB'))],\n",
       " [('been', 'VERB'), (('limping', 'CONJ'), ('limping', 'VERB'))],\n",
       " [('on', 'ADP'), (('limited', 'ADJ'), ('limited', 'VERB'))],\n",
       " [('its', 'PRON'), (('accomplishments', 'CONJ'), ('accomplishments', 'NOUN'))],\n",
       " [('were', 'VERB'), (('notable', 'CONJ'), ('notable', 'ADJ'))],\n",
       " [('.', '.'), (('More', 'ADV'), ('More', 'ADJ'))],\n",
       " [('of', 'ADP'), (('stress', 'CONJ'), ('stress', 'NOUN'))],\n",
       " [('The', 'DET'), (('Nine', 'CONJ'), ('Nine', 'NUM'))],\n",
       " [('Nine', 'NUM'), (('Tailors', 'CONJ'), ('Tailors', 'NOUN'))],\n",
       " [('have', 'VERB'), (('reaped', 'CONJ'), ('reaped', 'VERB'))],\n",
       " [('.', '.'), (('Typical', 'CONJ'), ('Typical', 'ADJ'))],\n",
       " [(':', '.'), (('8.60', 'CONJ'), ('8.60', 'NUM'))],\n",
       " [(';', '.'), (('8.35', 'CONJ'), ('8.35', 'NUM'))],\n",
       " [('become', 'VERB'), (('polarized', 'CONJ'), ('polarized', 'VERB'))],\n",
       " [(',', '.'), (('so', 'ADV'), ('so', 'ADP'))],\n",
       " [('*ICH*-2', 'X'), (('exists', 'CONJ'), ('exists', 'VERB'))],\n",
       " [('a', 'DET'), (('middle', 'NOUN'), ('middle', 'ADJ'))],\n",
       " [('an', 'DET'), (('actor', 'CONJ'), ('actor', 'NOUN'))],\n",
       " [('the', 'DET'), (('inheritor', 'CONJ'), ('inheritor', 'NOUN'))],\n",
       " [('of', 'ADP'), (('Charlie', 'CONJ'), ('Charlie', 'NOUN'))],\n",
       " [('Rudolph', 'NOUN'), (('Agnew', 'CONJ'), ('Agnew', 'NOUN'))],\n",
       " [(',', '.'), (('seven-year', 'CONJ'), ('seven-year', 'ADJ'))],\n",
       " [('one', 'NUM'), (('offering', 'NOUN'), ('offering', 'VERB'))],\n",
       " [('--', '.'), (('offer', 'NOUN'), ('offer', 'VERB'))],\n",
       " [('Constitution', 'NOUN'), (('implicitly', 'CONJ'), ('implicitly', 'ADV'))],\n",
       " [('to', 'PRT'), (('provoke', 'CONJ'), ('provoke', 'VERB'))],\n",
       " [('head', 'NOUN'), (('chopped', 'CONJ'), ('chopped', 'VERB'))],\n",
       " [('.', '.'), (('Characters', 'CONJ'), ('Characters', 'NOUN'))],\n",
       " [('Characters', 'NOUN'), (('drink', 'NOUN'), ('drink', 'VERB'))],\n",
       " [('drink', 'VERB'), (('Salty', 'CONJ'), ('Salty', 'NOUN'))],\n",
       " [('Salty', 'NOUN'), (('Dogs', 'CONJ'), ('Dogs', 'NOUN'))],\n",
       " [(',', '.'), (('whistle', 'CONJ'), ('whistle', 'VERB'))],\n",
       " [('``', '.'), (('Johnny', 'CONJ'), ('Johnny', 'NOUN'))],\n",
       " [('B.', 'NOUN'), (('Goode', 'CONJ'), ('Goode', 'NOUN'))],\n",
       " [('watch', 'VERB'), (('Bugs', 'CONJ'), ('Bugs', 'NOUN'))],\n",
       " [('Bugs', 'NOUN'), (('Bunny', 'CONJ'), ('Bunny', 'NOUN'))],\n",
       " [('Many', 'ADJ'), (('Asians', 'CONJ'), ('Asians', 'NOUN'))],\n",
       " [('desirable', 'ADJ'),\n",
       "  (('counterweight', 'CONJ'), ('counterweight', 'NOUN'))],\n",
       " [('.', '.'), (('1', 'NUM'), ('1', 'X'))],\n",
       " [('.', '.'), (('Elisabeth', 'CONJ'), ('Elisabeth', 'NOUN'))],\n",
       " [('Elisabeth', 'NOUN'), (('Rubinfien', 'CONJ'), ('Rubinfien', 'NOUN'))],\n",
       " [('--', '.'), (('in', 'ADP'), ('in', 'NOUN'))],\n",
       " [(',', '.'), (('1933', 'CONJ'), ('1933', 'NUM'))],\n",
       " [(',', '.'), (('1961', 'CONJ'), ('1961', 'NUM'))],\n",
       " [(',', '.'), (('1968', 'CONJ'), ('1968', 'NUM'))],\n",
       " [('Mr.', 'NOUN'), (('Perritt', 'CONJ'), ('Perritt', 'NOUN'))],\n",
       " [('.', '.'), (('Back', 'CONJ'), ('Back', 'ADV'))],\n",
       " [('the', 'DET'), (('execs', 'CONJ'), ('execs', 'NOUN'))],\n",
       " [('squeezed', 'VERB'), (('in', 'ADP'), ('in', 'PRT'))],\n",
       " [('*-1', 'X'), (('boarding', 'CONJ'), ('boarding', 'VERB'))],\n",
       " [('.', '.'), (('Proponents', 'CONJ'), ('Proponents', 'NOUN'))],\n",
       " [('*U*', 'X'), (('more', 'ADV'), ('more', 'ADJ'))],\n",
       " [('$', '.'), (('130.7', 'CONJ'), ('130.7', 'NUM'))],\n",
       " [('for', 'ADP'), (('AC-130U', 'CONJ'), ('AC-130U', 'NOUN'))],\n",
       " [('in', 'ADP'), (('ascendency', 'CONJ'), ('ascendency', 'NOUN'))],\n",
       " [('--', '.'), (('consisting', 'CONJ'), ('consisting', 'VERB'))],\n",
       " [('computer', 'NOUN'), (('wizards', 'CONJ'), ('wizards', 'NOUN'))],\n",
       " [('with', 'ADP'), (('immense', 'CONJ'), ('immense', 'NOUN'))],\n",
       " [('immense', 'NOUN'), (('pools', 'CONJ'), ('pools', 'NOUN'))],\n",
       " [('the', 'DET'), (('fast-growing', 'CONJ'), ('fast-growing', 'ADJ'))],\n",
       " [(\"'s\", 'PRT'), (('move', 'VERB'), ('move', 'NOUN'))],\n",
       " [('being', 'VERB'), (('flooded', 'CONJ'), ('flooded', 'VERB'))],\n",
       " [('situation', 'NOUN'), (('comedies', 'CONJ'), ('comedies', 'NOUN'))],\n",
       " [('that', 'DET'), (('*T*-152', 'CONJ'), ('*T*-152', 'X'))],\n",
       " [('the', 'DET'), (('networks', 'CONJ'), ('networks', 'NOUN'))],\n",
       " [('What', 'PRON'), (('*T*-234', 'CONJ'), ('*T*-234', 'X'))],\n",
       " [('growth', 'NOUN'), (('next', 'ADP'), ('next', 'ADJ'))],\n",
       " [('forced', 'VERB'), (('*-158', 'CONJ'), ('*-158', 'X'))],\n",
       " [('registered', 'VERB'), (('reps', 'CONJ'), ('reps', 'NOUN'))],\n",
       " [('and', 'CONJ'), (('security-type', 'CONJ'), ('security-type', 'ADJ'))],\n",
       " [('training', 'NOUN'), (('so', 'ADV'), ('so', 'ADP'))],\n",
       " [('stupid', 'ADJ'), (('mistakes', 'CONJ'), ('mistakes', 'NOUN'))],\n",
       " [('``', '.'), (('clouds', 'CONJ'), ('clouds', 'NOUN'))],\n",
       " [('blue', 'ADJ'), (('dust', 'CONJ'), ('dust', 'NOUN'))],\n",
       " [('*T*-1', 'X'), (('hung', 'CONJ'), ('hung', 'VERB'))],\n",
       " [('though', 'ADP'), (('exhaust', 'VERB'), ('exhaust', 'NOUN'))],\n",
       " [('fans', 'NOUN'), (('ventilated', 'CONJ'), ('ventilated', 'VERB'))]]"
      ]
     },
     "execution_count": 28,
     "metadata": {},
     "output_type": "execute_result"
    }
   ],
   "source": [
    "#Get the words in the test set which are incorrectly classified\n",
    "incorrect_tagged_cases = [[test_run_base[i-1],j] for i, j in enumerate(zip(tagged_seq, test_run_base)) if j[0]!=j[1]]\n",
    "incorrect_tagged_cases"
   ]
  },
  {
   "cell_type": "markdown",
   "metadata": {},
   "source": [
    "Most of the words which are not present in training set are simply assigned the first pos tag in the training pos tagset\n",
    "\n",
    "Let us do the analysis on the test file which we read before\n",
    "\n"
   ]
  },
  {
   "cell_type": "code",
   "execution_count": 29,
   "metadata": {},
   "outputs": [
    {
     "data": {
      "text/plain": [
       "[('Android', 'CONJ'),\n",
       " ('is', 'VERB'),\n",
       " ('a', 'DET'),\n",
       " ('mobile', 'ADJ'),\n",
       " ('operating', 'NOUN'),\n",
       " ('system', 'NOUN'),\n",
       " ('developed', 'VERB'),\n",
       " ('by', 'ADP'),\n",
       " ('Google', 'CONJ'),\n",
       " ('.', '.'),\n",
       " ('Android', 'CONJ'),\n",
       " ('has', 'VERB'),\n",
       " ('been', 'VERB'),\n",
       " ('the', 'DET'),\n",
       " ('best-selling', 'ADJ'),\n",
       " ('OS', 'CONJ'),\n",
       " ('worldwide', 'CONJ'),\n",
       " ('on', 'ADP'),\n",
       " ('smartphones', 'CONJ'),\n",
       " ('since', 'ADP'),\n",
       " ('2011', 'CONJ'),\n",
       " ('and', 'CONJ'),\n",
       " ('on', 'ADP'),\n",
       " ('tablets', 'NOUN'),\n",
       " ('since', 'ADP'),\n",
       " ('2013', 'CONJ'),\n",
       " ('.', '.'),\n",
       " ('Google', 'CONJ'),\n",
       " ('and', 'CONJ'),\n",
       " ('Twitter', 'CONJ'),\n",
       " ('made', 'VERB'),\n",
       " ('a', 'DET'),\n",
       " ('deal', 'NOUN'),\n",
       " ('in', 'ADP'),\n",
       " ('2015', 'CONJ'),\n",
       " ('that', 'DET'),\n",
       " ('gave', 'VERB'),\n",
       " ('Google', 'CONJ'),\n",
       " ('access', 'NOUN'),\n",
       " ('to', 'PRT'),\n",
       " ('Twitter', 'CONJ'),\n",
       " (\"'s\", 'PRT'),\n",
       " ('firehose', 'CONJ'),\n",
       " ('.', '.'),\n",
       " ('Twitter', 'CONJ'),\n",
       " ('is', 'VERB'),\n",
       " ('an', 'DET'),\n",
       " ('online', 'CONJ'),\n",
       " ('news', 'NOUN'),\n",
       " ('and', 'CONJ'),\n",
       " ('social', 'ADJ'),\n",
       " ('networking', 'NOUN'),\n",
       " ('service', 'NOUN'),\n",
       " ('on', 'ADP'),\n",
       " ('which', 'DET'),\n",
       " ('users', 'NOUN'),\n",
       " ('post', 'NOUN'),\n",
       " ('and', 'CONJ'),\n",
       " ('interact', 'CONJ'),\n",
       " ('with', 'ADP'),\n",
       " ('messages', 'CONJ'),\n",
       " ('known', 'VERB'),\n",
       " ('as', 'ADP'),\n",
       " ('tweets', 'CONJ'),\n",
       " ('.', '.'),\n",
       " ('Before', 'ADP'),\n",
       " ('entering', 'VERB'),\n",
       " ('politics', 'NOUN'),\n",
       " (',', '.'),\n",
       " ('Donald', 'NOUN'),\n",
       " ('Trump', 'NOUN'),\n",
       " ('was', 'VERB'),\n",
       " ('a', 'DET'),\n",
       " ('domineering', 'CONJ'),\n",
       " ('businessman', 'NOUN'),\n",
       " ('and', 'CONJ'),\n",
       " ('a', 'DET'),\n",
       " ('television', 'NOUN'),\n",
       " ('personality', 'CONJ'),\n",
       " ('.', '.'),\n",
       " ('The', 'DET'),\n",
       " ('2018', 'CONJ'),\n",
       " ('FIFA', 'CONJ'),\n",
       " ('World', 'NOUN'),\n",
       " ('Cup', 'CONJ'),\n",
       " ('is', 'VERB'),\n",
       " ('the', 'DET'),\n",
       " ('21st', 'CONJ'),\n",
       " ('FIFA', 'CONJ'),\n",
       " ('World', 'NOUN'),\n",
       " ('Cup', 'CONJ'),\n",
       " (',', '.'),\n",
       " ('an', 'DET'),\n",
       " ('international', 'ADJ'),\n",
       " ('football', 'NOUN'),\n",
       " ('tournament', 'CONJ'),\n",
       " ('contested', 'CONJ'),\n",
       " ('once', 'ADV'),\n",
       " ('every', 'DET'),\n",
       " ('four', 'NUM'),\n",
       " ('years', 'NOUN'),\n",
       " ('.', '.'),\n",
       " ('This', 'DET'),\n",
       " ('is', 'VERB'),\n",
       " ('the', 'DET'),\n",
       " ('first', 'ADJ'),\n",
       " ('World', 'NOUN'),\n",
       " ('Cup', 'CONJ'),\n",
       " ('to', 'PRT'),\n",
       " ('be', 'VERB'),\n",
       " ('held', 'VERB'),\n",
       " ('in', 'ADP'),\n",
       " ('Eastern', 'NOUN'),\n",
       " ('Europe', 'NOUN'),\n",
       " ('and', 'CONJ'),\n",
       " ('the', 'DET'),\n",
       " ('11th', 'ADJ'),\n",
       " ('time', 'NOUN'),\n",
       " ('that', 'ADP'),\n",
       " ('it', 'PRON'),\n",
       " ('has', 'VERB'),\n",
       " ('been', 'VERB'),\n",
       " ('held', 'VERB'),\n",
       " ('in', 'ADP'),\n",
       " ('Europe', 'NOUN'),\n",
       " ('.', '.'),\n",
       " ('Show', 'NOUN'),\n",
       " ('me', 'PRON'),\n",
       " ('the', 'DET'),\n",
       " ('cheapest', 'ADJ'),\n",
       " ('round', 'NOUN'),\n",
       " ('trips', 'CONJ'),\n",
       " ('from', 'ADP'),\n",
       " ('Dallas', 'NOUN'),\n",
       " ('to', 'PRT'),\n",
       " ('Atlanta', 'NOUN'),\n",
       " ('I', 'PRON'),\n",
       " ('would', 'VERB'),\n",
       " ('like', 'ADP'),\n",
       " ('to', 'PRT'),\n",
       " ('see', 'VERB'),\n",
       " ('flights', 'NOUN'),\n",
       " ('from', 'ADP'),\n",
       " ('Denver', 'NOUN'),\n",
       " ('to', 'PRT'),\n",
       " ('Philadelphia', 'NOUN'),\n",
       " ('.', '.'),\n",
       " ('Show', 'NOUN'),\n",
       " ('me', 'PRON'),\n",
       " ('the', 'DET'),\n",
       " ('price', 'NOUN'),\n",
       " ('of', 'ADP'),\n",
       " ('the', 'DET'),\n",
       " ('flights', 'NOUN'),\n",
       " ('leaving', 'VERB'),\n",
       " ('Atlanta', 'NOUN'),\n",
       " ('at', 'ADP'),\n",
       " ('about', 'ADP'),\n",
       " ('3', 'NUM'),\n",
       " ('in', 'ADP'),\n",
       " ('the', 'DET'),\n",
       " ('afternoon', 'NOUN'),\n",
       " ('and', 'CONJ'),\n",
       " ('arriving', 'CONJ'),\n",
       " ('in', 'ADP'),\n",
       " ('San', 'NOUN'),\n",
       " ('Francisco', 'NOUN'),\n",
       " ('.', '.'),\n",
       " ('NASA', 'CONJ'),\n",
       " ('invited', 'CONJ'),\n",
       " ('social', 'ADJ'),\n",
       " ('media', 'NOUN'),\n",
       " ('users', 'NOUN'),\n",
       " ('to', 'PRT'),\n",
       " ('experience', 'NOUN'),\n",
       " ('the', 'DET'),\n",
       " ('launch', 'NOUN'),\n",
       " ('of', 'ADP'),\n",
       " ('ICESAT-2', 'CONJ'),\n",
       " ('Satellite', 'CONJ'),\n",
       " ('.', '.')]"
      ]
     },
     "execution_count": 29,
     "metadata": {},
     "output_type": "execute_result"
    }
   ],
   "source": [
    "#Get the predictions on the test sentences\n",
    "sample_pred_list =[]\n",
    "for line in test_lines:\n",
    "    sample_pred_list=sample_pred_list+list(Viterbi(word_tokenize(line)))\n",
    "sample_pred_list"
   ]
  },
  {
   "cell_type": "markdown",
   "metadata": {},
   "source": [
    "For words like Android,Google,smartphones,Twitter,tweets,ICESAT-2,the first tag in the training pos tagset is given.i.DET\n"
   ]
  },
  {
   "cell_type": "markdown",
   "metadata": {},
   "source": [
    "Let us see if these words exist in the training corpus"
   ]
  },
  {
   "cell_type": "code",
   "execution_count": 30,
   "metadata": {},
   "outputs": [],
   "source": [
    "#Get the tokens in the test file\n",
    "sample_words=[tokens for line in test_lines for tokens in word_tokenize(line)]"
   ]
  },
  {
   "cell_type": "markdown",
   "metadata": {},
   "source": [
    "#Get the list of words which are present in test lines but not in the training corpus\n",
    "words_not_in_corpus = list(set(sample_words) - set(tokens))\n",
    "words_not_in_corpus"
   ]
  },
  {
   "cell_type": "code",
   "execution_count": 35,
   "metadata": {},
   "outputs": [],
   "source": [
    "words_not_in_corpus = list(set(sample_words) - set(tokens)) "
   ]
  },
  {
   "cell_type": "markdown",
   "metadata": {},
   "source": [
    "Clearly the words like 'Google','Android','Fifa' are not present in the training set and they are all tagged default tags."
   ]
  },
  {
   "cell_type": "code",
   "execution_count": 36,
   "metadata": {},
   "outputs": [
    {
     "data": {
      "text/plain": [
       "[('Android', 'CONJ'),\n",
       " ('Google', 'CONJ'),\n",
       " ('Android', 'CONJ'),\n",
       " ('OS', 'CONJ'),\n",
       " ('worldwide', 'CONJ'),\n",
       " ('smartphones', 'CONJ'),\n",
       " ('2011', 'CONJ'),\n",
       " ('2013', 'CONJ'),\n",
       " ('Google', 'CONJ'),\n",
       " ('Twitter', 'CONJ'),\n",
       " ('2015', 'CONJ'),\n",
       " ('Google', 'CONJ'),\n",
       " ('Twitter', 'CONJ'),\n",
       " ('firehose', 'CONJ'),\n",
       " ('Twitter', 'CONJ'),\n",
       " ('online', 'CONJ'),\n",
       " ('interact', 'CONJ'),\n",
       " ('messages', 'CONJ'),\n",
       " ('tweets', 'CONJ'),\n",
       " ('domineering', 'CONJ'),\n",
       " ('personality', 'CONJ'),\n",
       " ('2018', 'CONJ'),\n",
       " ('FIFA', 'CONJ'),\n",
       " ('Cup', 'CONJ'),\n",
       " ('21st', 'CONJ'),\n",
       " ('FIFA', 'CONJ'),\n",
       " ('Cup', 'CONJ'),\n",
       " ('tournament', 'CONJ'),\n",
       " ('contested', 'CONJ'),\n",
       " ('Cup', 'CONJ'),\n",
       " ('trips', 'CONJ'),\n",
       " ('arriving', 'CONJ'),\n",
       " ('NASA', 'CONJ'),\n",
       " ('invited', 'CONJ'),\n",
       " ('ICESAT-2', 'CONJ'),\n",
       " ('Satellite', 'CONJ')]"
      ]
     },
     "execution_count": 36,
     "metadata": {},
     "output_type": "execute_result"
    }
   ],
   "source": [
    "#Get the tags predicted for unknown words\n",
    "[tup for tup in sample_pred_list for word in words_not_in_corpus if tup[0]==word ]"
   ]
  },
  {
   "cell_type": "code",
   "execution_count": 37,
   "metadata": {},
   "outputs": [
    {
     "data": {
      "text/plain": [
       "Counter({'DET': 8269,\n",
       "         'NOUN': 27471,\n",
       "         '.': 11130,\n",
       "         'ADP': 9387,\n",
       "         'ADJ': 6063,\n",
       "         'VERB': 12910,\n",
       "         'X': 6320,\n",
       "         'NUM': 3364,\n",
       "         'CONJ': 2144,\n",
       "         'ADV': 3052,\n",
       "         'PRT': 3070,\n",
       "         'PRON': 2619})"
      ]
     },
     "execution_count": 37,
     "metadata": {},
     "output_type": "execute_result"
    }
   ],
   "source": [
    "#Let us see the count of all tags in the training set\n",
    "from collections import Counter\n",
    "tag_counts = Counter(pair[1] for pair in train_tagged_words)\n",
    "tag_counts\n"
   ]
  },
  {
   "cell_type": "code",
   "execution_count": 38,
   "metadata": {},
   "outputs": [
    {
     "data": {
      "text/plain": [
       "[('NOUN', 27471), ('VERB', 12910), ('.', 11130), ('ADP', 9387), ('DET', 8269)]"
      ]
     },
     "execution_count": 38,
     "metadata": {},
     "output_type": "execute_result"
    }
   ],
   "source": [
    "# see most common tags can in the training corpus\n",
    "tag_counts.most_common(5)"
   ]
  },
  {
   "cell_type": "code",
   "execution_count": 39,
   "metadata": {},
   "outputs": [
    {
     "data": {
      "text/plain": [
       "Counter({'CONJ': 342,\n",
       "         'NOUN': 36,\n",
       "         'ADV': 15,\n",
       "         'ADJ': 19,\n",
       "         'ADP': 17,\n",
       "         'PRT': 2,\n",
       "         'NUM': 3,\n",
       "         'VERB': 19,\n",
       "         'DET': 1})"
      ]
     },
     "execution_count": 39,
     "metadata": {},
     "output_type": "execute_result"
    }
   ],
   "source": [
    "#Lets see count of incorrectly classfied words for each tag\n",
    "wrong_tag_counts = Counter(pair[1][0][1] for pair in incorrect_tagged_cases)\n",
    "wrong_tag_counts"
   ]
  },
  {
   "cell_type": "code",
   "execution_count": 40,
   "metadata": {},
   "outputs": [
    {
     "name": "stdout",
     "output_type": "stream",
     "text": [
      "0.20712625871417506\n"
     ]
    },
    {
     "data": {
      "text/plain": [
       "[('traded', 'VERB'),\n",
       " ('totaled', 'VERB'),\n",
       " ('announced', 'VERB'),\n",
       " ('spurred', 'VERB'),\n",
       " ('served', 'VERB'),\n",
       " ('reached', 'VERB'),\n",
       " ('dropped', 'VERB'),\n",
       " ('reserved', 'VERB'),\n",
       " ('observed', 'VERB'),\n",
       " ('complicated', 'VERB'),\n",
       " ('increased', 'VERB'),\n",
       " ('succeeded', 'VERB'),\n",
       " ('offered', 'VERB'),\n",
       " ('offered', 'VERB'),\n",
       " ('based', 'VERB'),\n",
       " ('heightened', 'VERB'),\n",
       " ('turned', 'VERB'),\n",
       " ('expected', 'VERB'),\n",
       " ('printed', 'VERB'),\n",
       " ('recycled', 'VERB')]"
      ]
     },
     "execution_count": 40,
     "metadata": {},
     "output_type": "execute_result"
    }
   ],
   "source": [
    "# Let us see the percentage of verbs which are classifed as 'verb which end with 'ed'\n",
    "verbs = [pair for pair in train_tagged_words if pair[1]=='VERB']\n",
    "ed_verbs = [pair for pair in verbs if pair[0].endswith('ed')]\n",
    "print(len(ed_verbs) / len(verbs))\n",
    "ed_verbs[:20]"
   ]
  },
  {
   "cell_type": "markdown",
   "metadata": {},
   "source": [
    "Around 20% of words which end with 'ed' are verbs. Though it is 20% it is high because this is universal tagset and Verbs contain all the forms of verbs"
   ]
  },
  {
   "cell_type": "code",
   "execution_count": 41,
   "metadata": {},
   "outputs": [
    {
     "name": "stdout",
     "output_type": "stream",
     "text": [
      "0.10929512006196747\n"
     ]
    },
    {
     "data": {
      "text/plain": [
       "[('holding', 'VERB'),\n",
       " ('buying', 'VERB'),\n",
       " ('causing', 'VERB'),\n",
       " ('stepping', 'VERB'),\n",
       " ('following', 'VERB'),\n",
       " ('leveraging', 'VERB'),\n",
       " ('owning', 'VERB'),\n",
       " ('soaring', 'VERB'),\n",
       " ('sorting', 'VERB'),\n",
       " ('signing', 'VERB'),\n",
       " ('installing', 'VERB'),\n",
       " ('moving', 'VERB'),\n",
       " ('changing', 'VERB'),\n",
       " ('according', 'VERB'),\n",
       " ('seeking', 'VERB'),\n",
       " ('sparking', 'VERB'),\n",
       " ('posing', 'VERB'),\n",
       " ('paying', 'VERB'),\n",
       " ('publishing', 'VERB'),\n",
       " ('borrowing', 'VERB')]"
      ]
     },
     "execution_count": 41,
     "metadata": {},
     "output_type": "execute_result"
    }
   ],
   "source": [
    "# Let us see the percentage of verbs which are classifed as 'verb which end with 'ing'\n",
    "verbs = [pair for pair in train_tagged_words if pair[1]=='VERB']\n",
    "ing_verbs = [pair for pair in verbs if pair[0].endswith('ing')]\n",
    "print(len(ing_verbs) / len(verbs))\n",
    "ing_verbs[:20]"
   ]
  },
  {
   "cell_type": "code",
   "execution_count": 42,
   "metadata": {},
   "outputs": [
    {
     "name": "stdout",
     "output_type": "stream",
     "text": [
      "6063\n",
      "4235\n",
      "0.698499092858321\n"
     ]
    }
   ],
   "source": [
    "#Lets see percentage of Adjective tags followed by nouns\n",
    "# create a list of all tags (without the words)\n",
    "tags = [pair[1] for pair in train_tagged_words]\n",
    "\n",
    "# create a list of Adj tags\n",
    "adj_tags = [t for t in tags if t == 'ADJ']\n",
    "\n",
    "# create a list of (ADJ, Noun) tags\n",
    "adj_noun_tags = [(t, tags[index+1]) for index, t in enumerate(tags) \n",
    "              if t=='ADJ' and tags[index+1]=='NOUN']\n",
    "\n",
    "print(len(adj_tags))\n",
    "print(len(adj_noun_tags))\n",
    "print(len(adj_noun_tags) / len(adj_tags))"
   ]
  },
  {
   "cell_type": "markdown",
   "metadata": {},
   "source": [
    "Around 70% of adjectives are followed by Nouns"
   ]
  },
  {
   "cell_type": "code",
   "execution_count": 43,
   "metadata": {},
   "outputs": [
    {
     "name": "stdout",
     "output_type": "stream",
     "text": [
      "8269\n",
      "5281\n",
      "0.6386503809408635\n"
     ]
    }
   ],
   "source": [
    "#Lets see percentage of Determinent tags followed by nouns\n",
    "dt_tags = [t for t in tags if t == 'DET']\n",
    "dt_noun_tags = [(t, tags[index+1]) for index, t in enumerate(tags) \n",
    "              if t=='DET' and tags[index+1]=='NOUN']\n",
    "\n",
    "print(len(dt_tags))\n",
    "print(len(dt_noun_tags))\n",
    "print(len(dt_noun_tags) / len(dt_tags))"
   ]
  },
  {
   "cell_type": "markdown",
   "metadata": {},
   "source": [
    "Around 63% of determinants are followed by Nouns"
   ]
  },
  {
   "cell_type": "code",
   "execution_count": 44,
   "metadata": {},
   "outputs": [
    {
     "name": "stdout",
     "output_type": "stream",
     "text": [
      "3052\n",
      "1051\n",
      "0.3443643512450852\n"
     ]
    }
   ],
   "source": [
    "#Lets see percentage of Adverbs tags followed by Verbs\n",
    "adv_tags = [t for t in tags if t == 'ADV']\n",
    "adv_vb_tags = [(t, tags[index+1]) for index, t in enumerate(tags) \n",
    "              if t=='ADV' and tags[index+1]=='VERB']\n",
    "\n",
    "print(len(adv_tags))\n",
    "print(len(adv_vb_tags))\n",
    "print(len(adv_vb_tags) / len(adv_tags))"
   ]
  },
  {
   "cell_type": "markdown",
   "metadata": {},
   "source": [
    "Around 34% of adverbs are followed by verbs\n",
    "\n"
   ]
  },
  {
   "cell_type": "markdown",
   "metadata": {},
   "source": [
    "now use the EDA done above and set grammer rules for regex based tagger"
   ]
  },
  {
   "cell_type": "markdown",
   "metadata": {},
   "source": [
    "## Rule-Based (Regular Expression) Tagger\n",
    "Now let's build a rule-based, or regular expression based tagger. In NLTK, the RegexpTagger() can be provided with handwritten regular expression patterns, as shown below.\n",
    "\n",
    "In the example below, we specify regexes for gerunds and past tense verbs (as seen above), 3rd singular present verb (creates, moves, makes etc.), modal verbs MD (should, would, could), possesive nouns (partner's, bank's etc.), plural nouns (banks, institutions), cardinal numbers CD and finally, if none of the above rules are applicable to a word, we tag the most frequent tag NN."
   ]
  },
  {
   "cell_type": "code",
   "execution_count": 45,
   "metadata": {},
   "outputs": [],
   "source": [
    "\n",
    "# specify patterns for tagging\n",
    "patterns = [\n",
    "    (r'.*ing$', 'VERB'),              # gerund\n",
    "    (r'.*ed$', 'VERB'),               # past tense verbs\n",
    "    (r'.*es$', 'VERB'),               # singular present verbs\n",
    "    (r'.*ould$', 'VERB'),              # modal verbs\n",
    "    (r'.*\\'s$', 'NOUN'),              # possessive nouns\n",
    "    (r'.*s$', 'NOUN'),                # plural nouns\n",
    "    (r'^-?[0-9]+(.[0-9]+)?$', 'NUM'), # cardinal numbers\n",
    "    (r'(The|the|A|a|An|an)$', 'DET'),   # articles or determinants\n",
    "    (r'.*able$', 'ADJ'),                # adjectives\n",
    "    (r'.*ness$', 'NOUN'),                # nouns formed from adjectives\n",
    "    (r'.*ly$', 'ADV'),                  # adverbs\n",
    "    (r'.*', 'NOUN')                    # nouns\n",
    "]"
   ]
  },
  {
   "cell_type": "code",
   "execution_count": 46,
   "metadata": {},
   "outputs": [],
   "source": [
    "regexp_tagger = nltk.RegexpTagger(patterns)\n",
    "# help(regexp_tagger)"
   ]
  },
  {
   "cell_type": "code",
   "execution_count": 47,
   "metadata": {},
   "outputs": [
    {
     "data": {
      "text/plain": [
       "0.41275374205454174"
      ]
     },
     "execution_count": 47,
     "metadata": {},
     "output_type": "execute_result"
    }
   ],
   "source": [
    "regexp_tagger.evaluate(test_set)"
   ]
  },
  {
   "cell_type": "markdown",
   "metadata": {},
   "source": [
    "## Viterbi Heuristic with rule based"
   ]
  },
  {
   "cell_type": "code",
   "execution_count": 48,
   "metadata": {},
   "outputs": [],
   "source": [
    "# Viterbi Heuristic\n",
    "def Viterbi_updated(words, train_bag = train_tagged_words):\n",
    "    state = []\n",
    "    T = list(set([pair[1] for pair in train_bag]))\n",
    "    \n",
    "    for key, word in enumerate(words):\n",
    "        #initialise list of probability column for a given observation\n",
    "        p = [] \n",
    "        for tag in T:\n",
    "            if key == 0:\n",
    "                transition_p = tags_df.loc['.', tag]\n",
    "            else:\n",
    "                transition_p = tags_df.loc[state[-1], tag]\n",
    "                \n",
    "            # compute emission and state probabilities\n",
    "            emission_p = word_given_tag(words[key], tag)[0]/word_given_tag(words[key], tag)[1]\n",
    "            state_probability = emission_p * transition_p    \n",
    "            p.append(state_probability)\n",
    "            \n",
    "        pmax = max(p)\n",
    "       \n",
    "        #Check if state probability is zero\n",
    "        if(pmax==0.0):\n",
    "            #If state probability is zero i.e if the word is unknown if updates the tag based on the brill tagger\n",
    "            state_max = regexp_tagger.tag([word])[0][1]\n",
    "        else:\n",
    "            # getting state for which probability is maximum\n",
    "            state_max = T[p.index(pmax)] \n",
    "        state.append(state_max)\n",
    "    return list(zip(words, state))"
   ]
  },
  {
   "cell_type": "code",
   "execution_count": 49,
   "metadata": {},
   "outputs": [
    {
     "name": "stdout",
     "output_type": "stream",
     "text": [
      "1010.9327301979065\n"
     ]
    }
   ],
   "source": [
    "# tagging the test sentences with the updated Viterbi algorithm\n",
    "start = time.time()\n",
    "updated_tagged_seq = Viterbi_updated(test_tagged_words)\n",
    "end = time.time()\n",
    "difference = end-start\n",
    "#Print total time taken to train the algorithm\n",
    "print(difference)"
   ]
  },
  {
   "cell_type": "code",
   "execution_count": 50,
   "metadata": {},
   "outputs": [
    {
     "data": {
      "text/plain": [
       "0.9516095960631535"
      ]
     },
     "execution_count": 50,
     "metadata": {},
     "output_type": "execute_result"
    }
   ],
   "source": [
    "# Calculate the accuracy for the updated Viterbi algorithm\n",
    "check = [i for i, j in zip(updated_tagged_seq, test_run_base) if i == j] \n",
    "accuracy_rule = len(check)/len(updated_tagged_seq)\n",
    "accuracy_rule\n"
   ]
  },
  {
   "cell_type": "markdown",
   "metadata": {},
   "source": [
    "\n"
   ]
  },
  {
   "cell_type": "markdown",
   "metadata": {},
   "source": [
    "## List down cases which were incorrectly tagged by original POS tagger and got corrected by your modifications\n",
    "        "
   ]
  },
  {
   "cell_type": "code",
   "execution_count": 51,
   "metadata": {},
   "outputs": [
    {
     "name": "stdout",
     "output_type": "stream",
     "text": [
      "[('Android', 'CONJ'), ('is', 'VERB'), ('a', 'DET'), ('mobile', 'ADJ'), ('operating', 'NOUN'), ('system', 'NOUN'), ('developed', 'VERB'), ('by', 'ADP'), ('Google', 'CONJ'), ('.', '.')]\n",
      "[('Android', 'NOUN'), ('is', 'VERB'), ('a', 'DET'), ('mobile', 'ADJ'), ('operating', 'NOUN'), ('system', 'NOUN'), ('developed', 'VERB'), ('by', 'ADP'), ('Google', 'NOUN'), ('.', '.')]\n",
      "\n",
      "\n",
      "[('Android', 'CONJ'), ('has', 'VERB'), ('been', 'VERB'), ('the', 'DET'), ('best-selling', 'ADJ'), ('OS', 'CONJ'), ('worldwide', 'CONJ'), ('on', 'ADP'), ('smartphones', 'CONJ'), ('since', 'ADP'), ('2011', 'CONJ'), ('and', 'CONJ'), ('on', 'ADP'), ('tablets', 'NOUN'), ('since', 'ADP'), ('2013', 'CONJ'), ('.', '.')]\n",
      "[('Android', 'NOUN'), ('has', 'VERB'), ('been', 'VERB'), ('the', 'DET'), ('best-selling', 'ADJ'), ('OS', 'NOUN'), ('worldwide', 'NOUN'), ('on', 'ADP'), ('smartphones', 'VERB'), ('since', 'ADP'), ('2011', 'NUM'), ('and', 'CONJ'), ('on', 'ADP'), ('tablets', 'NOUN'), ('since', 'ADP'), ('2013', 'NUM'), ('.', '.')]\n",
      "\n",
      "\n",
      "[('Google', 'CONJ'), ('and', 'CONJ'), ('Twitter', 'CONJ'), ('made', 'VERB'), ('a', 'DET'), ('deal', 'NOUN'), ('in', 'ADP'), ('2015', 'CONJ'), ('that', 'DET'), ('gave', 'VERB'), ('Google', 'CONJ'), ('access', 'NOUN'), ('to', 'PRT'), ('Twitter', 'CONJ'), (\"'s\", 'PRT'), ('firehose', 'CONJ'), ('.', '.')]\n",
      "[('Google', 'NOUN'), ('and', 'CONJ'), ('Twitter', 'NOUN'), ('made', 'VERB'), ('a', 'DET'), ('deal', 'NOUN'), ('in', 'ADP'), ('2015', 'NUM'), ('that', 'ADP'), ('gave', 'VERB'), ('Google', 'NOUN'), ('access', 'NOUN'), ('to', 'PRT'), ('Twitter', 'NOUN'), (\"'s\", 'PRT'), ('firehose', 'NOUN'), ('.', '.')]\n",
      "\n",
      "\n",
      "[('Twitter', 'CONJ'), ('is', 'VERB'), ('an', 'DET'), ('online', 'CONJ'), ('news', 'NOUN'), ('and', 'CONJ'), ('social', 'ADJ'), ('networking', 'NOUN'), ('service', 'NOUN'), ('on', 'ADP'), ('which', 'DET'), ('users', 'NOUN'), ('post', 'NOUN'), ('and', 'CONJ'), ('interact', 'CONJ'), ('with', 'ADP'), ('messages', 'CONJ'), ('known', 'VERB'), ('as', 'ADP'), ('tweets', 'CONJ'), ('.', '.')]\n",
      "[('Twitter', 'NOUN'), ('is', 'VERB'), ('an', 'DET'), ('online', 'NOUN'), ('news', 'NOUN'), ('and', 'CONJ'), ('social', 'ADJ'), ('networking', 'NOUN'), ('service', 'NOUN'), ('on', 'ADP'), ('which', 'DET'), ('users', 'NOUN'), ('post', 'NOUN'), ('and', 'CONJ'), ('interact', 'NOUN'), ('with', 'ADP'), ('messages', 'VERB'), ('known', 'VERB'), ('as', 'ADP'), ('tweets', 'NOUN'), ('.', '.')]\n",
      "\n",
      "\n",
      "[('Before', 'ADP'), ('entering', 'VERB'), ('politics', 'NOUN'), (',', '.'), ('Donald', 'NOUN'), ('Trump', 'NOUN'), ('was', 'VERB'), ('a', 'DET'), ('domineering', 'CONJ'), ('businessman', 'NOUN'), ('and', 'CONJ'), ('a', 'DET'), ('television', 'NOUN'), ('personality', 'CONJ'), ('.', '.')]\n",
      "[('Before', 'ADP'), ('entering', 'VERB'), ('politics', 'NOUN'), (',', '.'), ('Donald', 'NOUN'), ('Trump', 'NOUN'), ('was', 'VERB'), ('a', 'DET'), ('domineering', 'VERB'), ('businessman', 'NOUN'), ('and', 'CONJ'), ('a', 'DET'), ('television', 'NOUN'), ('personality', 'NOUN'), ('.', '.')]\n",
      "\n",
      "\n",
      "[('The', 'DET'), ('2018', 'CONJ'), ('FIFA', 'CONJ'), ('World', 'NOUN'), ('Cup', 'CONJ'), ('is', 'VERB'), ('the', 'DET'), ('21st', 'CONJ'), ('FIFA', 'CONJ'), ('World', 'NOUN'), ('Cup', 'CONJ'), (',', '.'), ('an', 'DET'), ('international', 'ADJ'), ('football', 'NOUN'), ('tournament', 'CONJ'), ('contested', 'CONJ'), ('once', 'ADV'), ('every', 'DET'), ('four', 'NUM'), ('years', 'NOUN'), ('.', '.')]\n",
      "[('The', 'DET'), ('2018', 'NUM'), ('FIFA', 'NOUN'), ('World', 'NOUN'), ('Cup', 'NOUN'), ('is', 'VERB'), ('the', 'DET'), ('21st', 'NOUN'), ('FIFA', 'NOUN'), ('World', 'NOUN'), ('Cup', 'NOUN'), (',', '.'), ('an', 'DET'), ('international', 'ADJ'), ('football', 'NOUN'), ('tournament', 'NOUN'), ('contested', 'VERB'), ('once', 'ADV'), ('every', 'DET'), ('four', 'NUM'), ('years', 'NOUN'), ('.', '.')]\n",
      "\n",
      "\n",
      "[('This', 'DET'), ('is', 'VERB'), ('the', 'DET'), ('first', 'ADJ'), ('World', 'NOUN'), ('Cup', 'CONJ'), ('to', 'PRT'), ('be', 'VERB'), ('held', 'VERB'), ('in', 'ADP'), ('Eastern', 'NOUN'), ('Europe', 'NOUN'), ('and', 'CONJ'), ('the', 'DET'), ('11th', 'ADJ'), ('time', 'NOUN'), ('that', 'ADP'), ('it', 'PRON'), ('has', 'VERB'), ('been', 'VERB'), ('held', 'VERB'), ('in', 'ADP'), ('Europe', 'NOUN'), ('.', '.')]\n",
      "[('This', 'DET'), ('is', 'VERB'), ('the', 'DET'), ('first', 'ADJ'), ('World', 'NOUN'), ('Cup', 'NOUN'), ('to', 'PRT'), ('be', 'VERB'), ('held', 'VERB'), ('in', 'ADP'), ('Eastern', 'NOUN'), ('Europe', 'NOUN'), ('and', 'CONJ'), ('the', 'DET'), ('11th', 'ADJ'), ('time', 'NOUN'), ('that', 'ADP'), ('it', 'PRON'), ('has', 'VERB'), ('been', 'VERB'), ('held', 'VERB'), ('in', 'ADP'), ('Europe', 'NOUN'), ('.', '.')]\n",
      "\n",
      "\n",
      "[('Show', 'NOUN'), ('me', 'PRON'), ('the', 'DET'), ('cheapest', 'ADJ'), ('round', 'NOUN'), ('trips', 'CONJ'), ('from', 'ADP'), ('Dallas', 'NOUN'), ('to', 'PRT'), ('Atlanta', 'NOUN')]\n",
      "[('Show', 'NOUN'), ('me', 'PRON'), ('the', 'DET'), ('cheapest', 'ADJ'), ('round', 'NOUN'), ('trips', 'NOUN'), ('from', 'ADP'), ('Dallas', 'NOUN'), ('to', 'PRT'), ('Atlanta', 'NOUN')]\n",
      "\n",
      "\n",
      "[('I', 'PRON'), ('would', 'VERB'), ('like', 'ADP'), ('to', 'PRT'), ('see', 'VERB'), ('flights', 'NOUN'), ('from', 'ADP'), ('Denver', 'NOUN'), ('to', 'PRT'), ('Philadelphia', 'NOUN'), ('.', '.')]\n",
      "[('I', 'PRON'), ('would', 'VERB'), ('like', 'ADP'), ('to', 'PRT'), ('see', 'VERB'), ('flights', 'NOUN'), ('from', 'ADP'), ('Denver', 'NOUN'), ('to', 'PRT'), ('Philadelphia', 'NOUN'), ('.', '.')]\n",
      "\n",
      "\n",
      "[('Show', 'NOUN'), ('me', 'PRON'), ('the', 'DET'), ('price', 'NOUN'), ('of', 'ADP'), ('the', 'DET'), ('flights', 'NOUN'), ('leaving', 'VERB'), ('Atlanta', 'NOUN'), ('at', 'ADP'), ('about', 'ADP'), ('3', 'NUM'), ('in', 'ADP'), ('the', 'DET'), ('afternoon', 'NOUN'), ('and', 'CONJ'), ('arriving', 'CONJ'), ('in', 'ADP'), ('San', 'NOUN'), ('Francisco', 'NOUN'), ('.', '.')]\n",
      "[('Show', 'NOUN'), ('me', 'PRON'), ('the', 'DET'), ('price', 'NOUN'), ('of', 'ADP'), ('the', 'DET'), ('flights', 'NOUN'), ('leaving', 'VERB'), ('Atlanta', 'NOUN'), ('at', 'ADP'), ('about', 'ADP'), ('3', 'NUM'), ('in', 'ADP'), ('the', 'DET'), ('afternoon', 'NOUN'), ('and', 'CONJ'), ('arriving', 'VERB'), ('in', 'ADP'), ('San', 'NOUN'), ('Francisco', 'NOUN'), ('.', '.')]\n",
      "\n",
      "\n",
      "[('NASA', 'CONJ'), ('invited', 'CONJ'), ('social', 'ADJ'), ('media', 'NOUN'), ('users', 'NOUN'), ('to', 'PRT'), ('experience', 'NOUN'), ('the', 'DET'), ('launch', 'NOUN'), ('of', 'ADP'), ('ICESAT-2', 'CONJ'), ('Satellite', 'CONJ'), ('.', '.')]\n",
      "[('NASA', 'NOUN'), ('invited', 'VERB'), ('social', 'ADJ'), ('media', 'NOUN'), ('users', 'NOUN'), ('to', 'PRT'), ('experience', 'NOUN'), ('the', 'DET'), ('launch', 'NOUN'), ('of', 'ADP'), ('ICESAT-2', 'NOUN'), ('Satellite', 'NOUN'), ('.', '.')]\n",
      "\n",
      "\n"
     ]
    }
   ],
   "source": [
    "#Let us print the test lines with the initial Viterbi algorithm\n",
    "for line in test_lines:\n",
    "    print(list(Viterbi(word_tokenize(line))))\n",
    "    print(list(Viterbi_updated(word_tokenize(line))))\n",
    "    print(\"\\n\")\n",
    "   \n"
   ]
  },
  {
   "cell_type": "code",
   "execution_count": null,
   "metadata": {},
   "outputs": [],
   "source": []
  },
  {
   "cell_type": "markdown",
   "metadata": {},
   "source": [
    "\"\"Android is a mobile operating system developed by Google.\"\""
   ]
  },
  {
   "cell_type": "markdown",
   "metadata": {},
   "source": [
    "\n",
    "Here 'Android', 'Google' are unknown words and are incorrectly tagged in the initial viterbi algorithm. However with the updated Viterbi algorithm 'Android' and 'Google' are correctly classified as Nouns though they are unknown words\n",
    "\n"
   ]
  },
  {
   "cell_type": "markdown",
   "metadata": {},
   "source": [
    "\"\"\"Show me the cheapest round trips from Dallas to Atlanta\"\""
   ]
  },
  {
   "cell_type": "markdown",
   "metadata": {},
   "source": [
    "Here trips changed to conj to noun"
   ]
  },
  {
   "cell_type": "markdown",
   "metadata": {},
   "source": [
    "\"\"\"Show me the price of the flights leaving Atlanta at about 3 in the afternoon and arriving in San Francisco.\n",
    "\"\"\"\n",
    "\n",
    "Here arriving changed to verb"
   ]
  },
  {
   "cell_type": "markdown",
   "metadata": {},
   "source": [
    "\"\"\"NASA invited social media users to experience the launch of ICESAT-2 Satellite.\"\"\"\n",
    "\n",
    "Here NASA ,ICESAT-2 are changed to noun"
   ]
  },
  {
   "cell_type": "code",
   "execution_count": null,
   "metadata": {},
   "outputs": [],
   "source": []
  },
  {
   "cell_type": "code",
   "execution_count": null,
   "metadata": {},
   "outputs": [],
   "source": []
  },
  {
   "cell_type": "markdown",
   "metadata": {},
   "source": [
    "# Modified Viterbi with probabilistic tagging"
   ]
  },
  {
   "cell_type": "code",
   "execution_count": 52,
   "metadata": {},
   "outputs": [],
   "source": [
    "# Viterbi Heuristic\n",
    "def Viterbi_prob(words, train_bag = train_tagged_words):\n",
    "    state = []\n",
    "    T = list(set([pair[1] for pair in train_bag]))\n",
    "    \n",
    "    for key, word in enumerate(words):\n",
    "        #initialise list of probability column for a given observation\n",
    "        p = []\n",
    "        q=[]\n",
    "        for tag in T:\n",
    "            if key == 0:\n",
    "                transition_p = tags_df.loc['.', tag]\n",
    "            else:\n",
    "                transition_p = tags_df.loc[state[-1], tag]\n",
    "                \n",
    "            # compute emission and state probabilities\n",
    "            emission_p = word_given_tag(words[key], tag)[0]/word_given_tag(words[key], tag)[1]\n",
    "            state_probability = emission_p * transition_p    \n",
    "            p.append(state_probability)\n",
    "            q.append(transition_p )\n",
    "            \n",
    "            \n",
    "        pmax = max(p)\n",
    "        state_max=T[p.index(pmax)]\n",
    "       \n",
    "        #if probability is zero(unknownword)the use transistion probability\n",
    "        if(pmax==0.0):\n",
    "            pmax=max(q)\n",
    "            state_max=T[q.index(pmax)]\n",
    "        else:\n",
    "            # getting state for which probability is maximum\n",
    "            state_max = T[p.index(pmax)] \n",
    "        state.append(state_max)\n",
    "    return list(zip(words, state))"
   ]
  },
  {
   "cell_type": "code",
   "execution_count": 53,
   "metadata": {},
   "outputs": [
    {
     "name": "stdout",
     "output_type": "stream",
     "text": [
      "1180.7167999744415\n"
     ]
    }
   ],
   "source": [
    "# tagging the test sentences with the Viterbi_prob algorithm\n",
    "start = time.time()\n",
    "updated_tagged_seq = Viterbi_prob(test_tagged_words)\n",
    "end = time.time()\n",
    "difference = end-start\n",
    "#Print total time taken to train the algorithm\n",
    "print(difference)"
   ]
  },
  {
   "cell_type": "code",
   "execution_count": 55,
   "metadata": {},
   "outputs": [
    {
     "data": {
      "text/plain": [
       "0.9384867746565512"
      ]
     },
     "execution_count": 55,
     "metadata": {},
     "output_type": "execute_result"
    }
   ],
   "source": [
    "# Calculate the accuracy for the updated Viterbi algorithm\n",
    "check = [i for i, j in zip(updated_tagged_seq, test_run_base) if i == j] \n",
    "accuracy_prob = len(check)/len(updated_tagged_seq)\n",
    "accuracy_prob"
   ]
  },
  {
   "cell_type": "markdown",
   "metadata": {},
   "source": [
    "# Compare the tagging accuracies of the modifications with the vanilla Viterbi algorithm"
   ]
  },
  {
   "cell_type": "code",
   "execution_count": 58,
   "metadata": {},
   "outputs": [
    {
     "name": "stdout",
     "output_type": "stream",
     "text": [
      "The accurcy of plain vetbri: 0.906909985646914\n",
      "The accurcy of modified vetbri with Rule based tagging: 0.9516095960631535\n",
      "The accurcy of modified vetbri with probabilistic tagging: 0.9384867746565512\n"
     ]
    }
   ],
   "source": [
    "print(\"The accurcy of plain vetbri:\",accuracy)\n",
    "print(\"The accurcy of modified vetbri with Rule based tagging:\", accuracy_rule)\n",
    "print(\"The accurcy of modified vetbri with probabilistic tagging:\",accuracy_prob)"
   ]
  },
  {
   "cell_type": "code",
   "execution_count": null,
   "metadata": {},
   "outputs": [],
   "source": []
  },
  {
   "cell_type": "code",
   "execution_count": null,
   "metadata": {},
   "outputs": [],
   "source": []
  },
  {
   "cell_type": "code",
   "execution_count": null,
   "metadata": {},
   "outputs": [],
   "source": []
  },
  {
   "cell_type": "code",
   "execution_count": null,
   "metadata": {},
   "outputs": [],
   "source": []
  },
  {
   "cell_type": "markdown",
   "metadata": {},
   "source": [
    "# List of cases which were incorrectly tagged by original POS tagger and got corrected by your modifications"
   ]
  },
  {
   "cell_type": "code",
   "execution_count": 59,
   "metadata": {},
   "outputs": [
    {
     "name": "stdout",
     "output_type": "stream",
     "text": [
      "[('Android', 'CONJ'), ('is', 'VERB'), ('a', 'DET'), ('mobile', 'ADJ'), ('operating', 'NOUN'), ('system', 'NOUN'), ('developed', 'VERB'), ('by', 'ADP'), ('Google', 'CONJ'), ('.', '.')]\n",
      "[('Android', 'NOUN'), ('is', 'VERB'), ('a', 'DET'), ('mobile', 'ADJ'), ('operating', 'NOUN'), ('system', 'NOUN'), ('developed', 'VERB'), ('by', 'ADP'), ('Google', 'NOUN'), ('.', '.')]\n",
      "\n",
      "\n",
      "[('Android', 'CONJ'), ('has', 'VERB'), ('been', 'VERB'), ('the', 'DET'), ('best-selling', 'ADJ'), ('OS', 'CONJ'), ('worldwide', 'CONJ'), ('on', 'ADP'), ('smartphones', 'CONJ'), ('since', 'ADP'), ('2011', 'CONJ'), ('and', 'CONJ'), ('on', 'ADP'), ('tablets', 'NOUN'), ('since', 'ADP'), ('2013', 'CONJ'), ('.', '.')]\n",
      "[('Android', 'NOUN'), ('has', 'VERB'), ('been', 'VERB'), ('the', 'DET'), ('best-selling', 'ADJ'), ('OS', 'NOUN'), ('worldwide', 'NOUN'), ('on', 'ADP'), ('smartphones', 'NOUN'), ('since', 'ADP'), ('2011', 'NOUN'), ('and', 'CONJ'), ('on', 'ADP'), ('tablets', 'NOUN'), ('since', 'ADP'), ('2013', 'NOUN'), ('.', '.')]\n",
      "\n",
      "\n",
      "[('Google', 'CONJ'), ('and', 'CONJ'), ('Twitter', 'CONJ'), ('made', 'VERB'), ('a', 'DET'), ('deal', 'NOUN'), ('in', 'ADP'), ('2015', 'CONJ'), ('that', 'DET'), ('gave', 'VERB'), ('Google', 'CONJ'), ('access', 'NOUN'), ('to', 'PRT'), ('Twitter', 'CONJ'), (\"'s\", 'PRT'), ('firehose', 'CONJ'), ('.', '.')]\n",
      "[('Google', 'NOUN'), ('and', 'CONJ'), ('Twitter', 'NOUN'), ('made', 'VERB'), ('a', 'DET'), ('deal', 'NOUN'), ('in', 'ADP'), ('2015', 'NOUN'), ('that', 'ADP'), ('gave', 'VERB'), ('Google', 'X'), ('access', 'NOUN'), ('to', 'PRT'), ('Twitter', 'VERB'), (\"'s\", 'PRT'), ('firehose', 'VERB'), ('.', '.')]\n",
      "\n",
      "\n",
      "[('Twitter', 'CONJ'), ('is', 'VERB'), ('an', 'DET'), ('online', 'CONJ'), ('news', 'NOUN'), ('and', 'CONJ'), ('social', 'ADJ'), ('networking', 'NOUN'), ('service', 'NOUN'), ('on', 'ADP'), ('which', 'DET'), ('users', 'NOUN'), ('post', 'NOUN'), ('and', 'CONJ'), ('interact', 'CONJ'), ('with', 'ADP'), ('messages', 'CONJ'), ('known', 'VERB'), ('as', 'ADP'), ('tweets', 'CONJ'), ('.', '.')]\n",
      "[('Twitter', 'NOUN'), ('is', 'VERB'), ('an', 'DET'), ('online', 'NOUN'), ('news', 'NOUN'), ('and', 'CONJ'), ('social', 'ADJ'), ('networking', 'NOUN'), ('service', 'NOUN'), ('on', 'ADP'), ('which', 'DET'), ('users', 'NOUN'), ('post', 'NOUN'), ('and', 'CONJ'), ('interact', 'NOUN'), ('with', 'ADP'), ('messages', 'NOUN'), ('known', 'VERB'), ('as', 'ADP'), ('tweets', 'NOUN'), ('.', '.')]\n",
      "\n",
      "\n",
      "[('Before', 'ADP'), ('entering', 'VERB'), ('politics', 'NOUN'), (',', '.'), ('Donald', 'NOUN'), ('Trump', 'NOUN'), ('was', 'VERB'), ('a', 'DET'), ('domineering', 'CONJ'), ('businessman', 'NOUN'), ('and', 'CONJ'), ('a', 'DET'), ('television', 'NOUN'), ('personality', 'CONJ'), ('.', '.')]\n",
      "[('Before', 'ADP'), ('entering', 'VERB'), ('politics', 'NOUN'), (',', '.'), ('Donald', 'NOUN'), ('Trump', 'NOUN'), ('was', 'VERB'), ('a', 'DET'), ('domineering', 'NOUN'), ('businessman', 'NOUN'), ('and', 'CONJ'), ('a', 'DET'), ('television', 'NOUN'), ('personality', 'NOUN'), ('.', '.')]\n",
      "\n",
      "\n",
      "[('The', 'DET'), ('2018', 'CONJ'), ('FIFA', 'CONJ'), ('World', 'NOUN'), ('Cup', 'CONJ'), ('is', 'VERB'), ('the', 'DET'), ('21st', 'CONJ'), ('FIFA', 'CONJ'), ('World', 'NOUN'), ('Cup', 'CONJ'), (',', '.'), ('an', 'DET'), ('international', 'ADJ'), ('football', 'NOUN'), ('tournament', 'CONJ'), ('contested', 'CONJ'), ('once', 'ADV'), ('every', 'DET'), ('four', 'NUM'), ('years', 'NOUN'), ('.', '.')]\n",
      "[('The', 'DET'), ('2018', 'NOUN'), ('FIFA', 'NOUN'), ('World', 'NOUN'), ('Cup', 'NOUN'), ('is', 'VERB'), ('the', 'DET'), ('21st', 'NOUN'), ('FIFA', 'NOUN'), ('World', 'NOUN'), ('Cup', 'NOUN'), (',', '.'), ('an', 'DET'), ('international', 'ADJ'), ('football', 'NOUN'), ('tournament', 'NOUN'), ('contested', 'NOUN'), ('once', 'ADV'), ('every', 'DET'), ('four', 'NUM'), ('years', 'NOUN'), ('.', '.')]\n",
      "\n",
      "\n",
      "[('This', 'DET'), ('is', 'VERB'), ('the', 'DET'), ('first', 'ADJ'), ('World', 'NOUN'), ('Cup', 'CONJ'), ('to', 'PRT'), ('be', 'VERB'), ('held', 'VERB'), ('in', 'ADP'), ('Eastern', 'NOUN'), ('Europe', 'NOUN'), ('and', 'CONJ'), ('the', 'DET'), ('11th', 'ADJ'), ('time', 'NOUN'), ('that', 'ADP'), ('it', 'PRON'), ('has', 'VERB'), ('been', 'VERB'), ('held', 'VERB'), ('in', 'ADP'), ('Europe', 'NOUN'), ('.', '.')]\n",
      "[('This', 'DET'), ('is', 'VERB'), ('the', 'DET'), ('first', 'ADJ'), ('World', 'NOUN'), ('Cup', 'NOUN'), ('to', 'PRT'), ('be', 'VERB'), ('held', 'VERB'), ('in', 'ADP'), ('Eastern', 'NOUN'), ('Europe', 'NOUN'), ('and', 'CONJ'), ('the', 'DET'), ('11th', 'ADJ'), ('time', 'NOUN'), ('that', 'ADP'), ('it', 'PRON'), ('has', 'VERB'), ('been', 'VERB'), ('held', 'VERB'), ('in', 'ADP'), ('Europe', 'NOUN'), ('.', '.')]\n",
      "\n",
      "\n",
      "[('Show', 'NOUN'), ('me', 'PRON'), ('the', 'DET'), ('cheapest', 'ADJ'), ('round', 'NOUN'), ('trips', 'CONJ'), ('from', 'ADP'), ('Dallas', 'NOUN'), ('to', 'PRT'), ('Atlanta', 'NOUN')]\n",
      "[('Show', 'NOUN'), ('me', 'PRON'), ('the', 'DET'), ('cheapest', 'ADJ'), ('round', 'NOUN'), ('trips', 'NOUN'), ('from', 'ADP'), ('Dallas', 'NOUN'), ('to', 'PRT'), ('Atlanta', 'NOUN')]\n",
      "\n",
      "\n",
      "[('I', 'PRON'), ('would', 'VERB'), ('like', 'ADP'), ('to', 'PRT'), ('see', 'VERB'), ('flights', 'NOUN'), ('from', 'ADP'), ('Denver', 'NOUN'), ('to', 'PRT'), ('Philadelphia', 'NOUN'), ('.', '.')]\n",
      "[('I', 'PRON'), ('would', 'VERB'), ('like', 'ADP'), ('to', 'PRT'), ('see', 'VERB'), ('flights', 'NOUN'), ('from', 'ADP'), ('Denver', 'NOUN'), ('to', 'PRT'), ('Philadelphia', 'NOUN'), ('.', '.')]\n",
      "\n",
      "\n",
      "[('Show', 'NOUN'), ('me', 'PRON'), ('the', 'DET'), ('price', 'NOUN'), ('of', 'ADP'), ('the', 'DET'), ('flights', 'NOUN'), ('leaving', 'VERB'), ('Atlanta', 'NOUN'), ('at', 'ADP'), ('about', 'ADP'), ('3', 'NUM'), ('in', 'ADP'), ('the', 'DET'), ('afternoon', 'NOUN'), ('and', 'CONJ'), ('arriving', 'CONJ'), ('in', 'ADP'), ('San', 'NOUN'), ('Francisco', 'NOUN'), ('.', '.')]\n",
      "[('Show', 'NOUN'), ('me', 'PRON'), ('the', 'DET'), ('price', 'NOUN'), ('of', 'ADP'), ('the', 'DET'), ('flights', 'NOUN'), ('leaving', 'VERB'), ('Atlanta', 'NOUN'), ('at', 'ADP'), ('about', 'ADP'), ('3', 'NUM'), ('in', 'ADP'), ('the', 'DET'), ('afternoon', 'NOUN'), ('and', 'CONJ'), ('arriving', 'NOUN'), ('in', 'ADP'), ('San', 'NOUN'), ('Francisco', 'NOUN'), ('.', '.')]\n",
      "\n",
      "\n",
      "[('NASA', 'CONJ'), ('invited', 'CONJ'), ('social', 'ADJ'), ('media', 'NOUN'), ('users', 'NOUN'), ('to', 'PRT'), ('experience', 'NOUN'), ('the', 'DET'), ('launch', 'NOUN'), ('of', 'ADP'), ('ICESAT-2', 'CONJ'), ('Satellite', 'CONJ'), ('.', '.')]\n",
      "[('NASA', 'NOUN'), ('invited', 'NOUN'), ('social', 'ADJ'), ('media', 'NOUN'), ('users', 'NOUN'), ('to', 'PRT'), ('experience', 'NOUN'), ('the', 'DET'), ('launch', 'NOUN'), ('of', 'ADP'), ('ICESAT-2', 'NOUN'), ('Satellite', 'NOUN'), ('.', '.')]\n",
      "\n",
      "\n"
     ]
    }
   ],
   "source": [
    "#Let us print the test lines with the initial Viterbi algorithm and modified viterbi\n",
    "for line in test_lines:\n",
    "    print(list(Viterbi(word_tokenize(line))))\n",
    "    print(list(Viterbi_prob(word_tokenize(line))))\n",
    "    print(\"\\n\")\n",
    "   "
   ]
  },
  {
   "cell_type": "markdown",
   "metadata": {},
   "source": [
    "\"\"Android is a mobile operating system developed by Google.\"\"\n",
    "\n",
    "Here 'Android', 'Google' are unknown words and are incorrectly tagged in the initial viterbi algorithm. However with the updated Viterbi algorithm 'Android' and 'Google' are correctly classified as Nouns though they are unknown words"
   ]
  },
  {
   "cell_type": "markdown",
   "metadata": {},
   "source": [
    "\"\"\"Android has been the best-selling OS worldwide on smartphones since 2011 and on tablets since 2013.\n",
    "\"\"\"\n",
    "\n",
    "Here smartphones is correctly tagged as noun"
   ]
  },
  {
   "cell_type": "markdown",
   "metadata": {},
   "source": [
    "\"\"\"Show me the cheapest round trips from Dallas to Atlanta\"\"\n",
    "\n",
    "Here trips changed to conj to noun"
   ]
  },
  {
   "cell_type": "markdown",
   "metadata": {},
   "source": [
    "\"\"\"NASA invited social media users to experience the launch of ICESAT-2 Satellite.\"\"\"\n",
    "\n",
    "Here NASA ,ICESAT-2 are changed to noun"
   ]
  },
  {
   "cell_type": "code",
   "execution_count": null,
   "metadata": {},
   "outputs": [],
   "source": []
  },
  {
   "cell_type": "code",
   "execution_count": null,
   "metadata": {},
   "outputs": [],
   "source": []
  }
 ],
 "metadata": {
  "kernelspec": {
   "display_name": "Python 3",
   "language": "python",
   "name": "python3"
  },
  "language_info": {
   "codemirror_mode": {
    "name": "ipython",
    "version": 3
   },
   "file_extension": ".py",
   "mimetype": "text/x-python",
   "name": "python",
   "nbconvert_exporter": "python",
   "pygments_lexer": "ipython3",
   "version": "3.7.3"
  }
 },
 "nbformat": 4,
 "nbformat_minor": 2
}
